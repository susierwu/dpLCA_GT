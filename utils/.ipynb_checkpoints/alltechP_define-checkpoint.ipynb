{
 "cells": [
  {
   "cell_type": "code",
   "execution_count": 1,
   "id": "dceb6901-4d8f-448d-a8aa-59c47080b495",
   "metadata": {},
   "outputs": [],
   "source": [
    "import os\n",
    "from lca_algebraic import initProject\n",
    "import pandas as pd\n",
    "import numpy as np\n",
    "import lca_algebraic as agb\n",
    "from lca_algebraic import *\n",
    "from lca_algebraic.stats import * \n",
    "#import bw2data, bw2io\n",
    "#import bw2calc\n",
    "#from premise import *\n",
    "#import premise as prm\n",
    "#from premise.geomap import Geomap\n",
    "#import pickle\n",
    "#from itertools import product \n",
    "#from IPython.display import display\n",
    "#from premise_gwp import add_premise_gwp"
   ]
  },
  {
   "cell_type": "code",
   "execution_count": 3,
   "id": "cc535b0b-c316-4b8f-9b95-d7676450830a",
   "metadata": {},
   "outputs": [
    {
     "ename": "ModuleNotFoundError",
     "evalue": "No module named 'utils.setup'; 'utils' is not a package",
     "output_type": "error",
     "traceback": [
      "\u001b[0;31m---------------------------------------------------------------------------\u001b[0m",
      "\u001b[0;31mModuleNotFoundError\u001b[0m                       Traceback (most recent call last)",
      "Cell \u001b[0;32mIn[3], line 5\u001b[0m\n\u001b[1;32m      2\u001b[0m sys\u001b[38;5;241m.\u001b[39mpath\u001b[38;5;241m.\u001b[39mappend(\u001b[38;5;124m'\u001b[39m\u001b[38;5;124m/Users/susierwu/Dropbox/DLCA_DynCO2/BW2-dLCA/\u001b[39m\u001b[38;5;124m'\u001b[39m) \n\u001b[1;32m      4\u001b[0m \u001b[38;5;28;01mfrom\u001b[39;00m \u001b[38;5;21;01mutils\u001b[39;00m \u001b[38;5;28;01mimport\u001b[39;00m \u001b[38;5;241m*\u001b[39m\n\u001b[0;32m----> 5\u001b[0m \u001b[38;5;28;01mfrom\u001b[39;00m \u001b[38;5;21;01mutils\u001b[39;00m\u001b[38;5;21;01m.\u001b[39;00m\u001b[38;5;21;01msetup\u001b[39;00m \u001b[38;5;28;01mimport\u001b[39;00m \u001b[38;5;241m*\u001b[39m\n\u001b[1;32m      6\u001b[0m \u001b[38;5;28;01mfrom\u001b[39;00m \u001b[38;5;21;01mutils\u001b[39;00m\u001b[38;5;21;01m.\u001b[39;00m\u001b[38;5;21;01msetup\u001b[39;00m \u001b[38;5;28;01mimport\u001b[39;00m chosen_methods, PROJECT_NAME, BIO_DB, PDB_NAME\n\u001b[1;32m      7\u001b[0m \u001b[38;5;28;01mfrom\u001b[39;00m \u001b[38;5;21;01mutils\u001b[39;00m\u001b[38;5;21;01m.\u001b[39;00m\u001b[38;5;21;01mgetAct\u001b[39;00m \u001b[38;5;28;01mimport\u001b[39;00m \u001b[38;5;241m*\u001b[39m\n",
      "\u001b[0;31mModuleNotFoundError\u001b[0m: No module named 'utils.setup'; 'utils' is not a package"
     ]
    }
   ],
   "source": [
    "import sys \n",
    "sys.path.append('/Users/susierwu/Dropbox/DLCA_DynCO2/BW2-dLCA/') \n",
    "\n",
    "from utils import *\n",
    "from utils.setup import *\n",
    "from utils.setup import chosen_methods, PROJECT_NAME, BIO_DB, PDB_NAME\n",
    "from utils.getAct import *\n",
    "from utils.utils import *\n",
    "from utils.switchElec import *"
   ]
  },
  {
   "cell_type": "markdown",
   "id": "870b9882-63b8-439d-bc84-3bf9b6bfee9b",
   "metadata": {},
   "source": [
    "### Battery \n",
    "\n",
    "- initially defined in \" xr_read_vd6_from_xr_TRL_prepare_BatperKwh_then_toVeh.ipynb\""
   ]
  },
  {
   "cell_type": "code",
   "execution_count": 2,
   "id": "86feb6cb-afbe-4712-b230-25bbfc1dab00",
   "metadata": {},
   "outputs": [
    {
     "name": "stderr",
     "output_type": "stream",
     "text": [
      "Warning : param 'LSB_battery_cell_density' linked to root project instead of a specific DB\n",
      "Warning : param 'LSB_cell_to_BMS_ratio' linked to root project instead of a specific DB\n",
      "Warning : param 'LSB_cell_to_packaging_ratio' linked to root project instead of a specific DB\n",
      "Warning : param 'LSB_cell_assmb_NG_MJperkg' linked to root project instead of a specific DB\n",
      "Warning : param 'LSB_cell_assmb_elec_kWhperkg' linked to root project instead of a specific DB\n",
      "Warning : param 'NMC622_battery_cell_density' linked to root project instead of a specific DB\n",
      "Warning : param 'NMC622_cell_to_BoP_ratio' linked to root project instead of a specific DB\n"
     ]
    }
   ],
   "source": [
    "# hypothetical, and using carculator's math for calculating battery_replacement:\n",
    "# https://docs.google.com/spreadsheets/d/19L1AR0fOxki943WcKQYml7e2nqoKn9aUPspp-6MUGAY/edit#gid=0\n",
    "# though we can add a decisional parameter here, whether / when owner decide to replace battery \n",
    "\n",
    "#vehicle_lifetime \n",
    "#battery_lifetime\n",
    "#LSB_total_capacity_gtruck  \n",
    "\n",
    "#row9, 295.4 Wh/kg (potentially could reach 500 Wh/kg per Benveniste2022;   per Barker2022_SI: \"in specific energy of 813.28 Wh⋅kg-1 of an optimized LiS-ASSB[Ge] configuration on cell level. )\n",
    "LSB_cell_density = newFloatParam(\n",
    "        name=\"LSB_battery_cell_density\",\n",
    "        default=0.4,  #changing temporal paramter \n",
    "        min=0.2954,\n",
    "        max=0.9,\n",
    "        distrib=stats.DistributionType.TRIANGLE,\n",
    "        group=\"battery\",\n",
    "        # label =  \n",
    "        unit=\"kWh/kg\",\n",
    "    )\n",
    "\n",
    "LSB_cell_neededkg_perkWh = 1/LSB_cell_density  #unit is kg, this is kg cell needed  for 1 kWh battery\n",
    "\n",
    "\n",
    "# cell mass / packaging ratio:  2.001;  cell mass / BMS ratio: 50.98\n",
    "LSB_cell_BMS_ratio = newFloatParam(\n",
    "        name=\"LSB_cell_to_BMS_ratio\",\n",
    "        default= 50.98,\n",
    "        distrib=stats.DistributionType.LINEAR,\n",
    "        min=50.98*0.7,\n",
    "        max=50.98*1.3,\n",
    "        group=\"battery\",\n",
    "        description=\"using ecoinvent ratio\",\n",
    "        unit=\"fraction\",\n",
    "    )\n",
    "\n",
    "LSB_cell_package_ratio = newFloatParam(\n",
    "        name=\"LSB_cell_to_packaging_ratio\",\n",
    "        default= 2.0013,\n",
    "        distrib=stats.DistributionType.LINEAR,\n",
    "        min=2.0013*0.7,\n",
    "        max=2.0013*1.3,\n",
    "        group=\"battery\",\n",
    "        description=\"using ecoinvent ratio\",\n",
    "        unit=\"fraction\",\n",
    "    )\n",
    "\n",
    "# cell mass \n",
    "#LSB_cell_mass_g_truck = LSB_total_capacity_gtruck / LSB_cell_density\n",
    "\n",
    "# BoP - packaging mass need per kWh battery \n",
    "LSB_BoP_pack_weight_per_kWh_cell =  LSB_cell_neededkg_perkWh * (1 / LSB_cell_package_ratio)  \n",
    "\n",
    "# BoP - BMS mass need per kWh battery \n",
    "LSB_BoP_BMS_weight_per_kWh_cell = LSB_cell_neededkg_perkWh * (1 / LSB_cell_BMS_ratio)\n",
    "\n",
    "# later on to add to final vehicle:\n",
    "#LSB_cell_mass_g_truck  = LSB_total_capacity_gtruck / LSB_cell_density\n",
    "#LSB_BoP_BMS_weight_g_truck  = LSB_BoP_BMS_weight_per_cell * LSB_cell_mass_g_truck\n",
    "#LSB_BoP_pack_weight_g_truck = LSB_BoP_pack_weight_per_cell * LSB_cell_mass_g_truck\n",
    "\n",
    "\n",
    "LSB_cell_assmb_NG_MJperkg = newFloatParam(\n",
    "        name=\"LSB_cell_assmb_NG_MJperkg\",\n",
    "        default= 7.06,\n",
    "        distrib=stats.DistributionType.LINEAR,\n",
    "        min=2.88,\n",
    "        max=7.84,\n",
    "        group=\"battery\",\n",
    "        description=\"calc from Nature2023\", #7.84 3.09 2.88\n",
    "        unit=\"MJ\",\n",
    "    )\n",
    "\n",
    "LSB_cell_assmb_elec_kWhperkg = newFloatParam(\n",
    "        name=\"LSB_cell_assmb_elec_kWhperkg\",\n",
    "        default= 1.6,\n",
    "        distrib=stats.DistributionType.LINEAR,\n",
    "        min=0.65,\n",
    "        max=1.78,\n",
    "        group=\"battery\",\n",
    "        description=\"calc from Nature2023\", # 1.78 0.97 0.65\n",
    "        unit=\"kWh\",\n",
    "    )\n",
    "\n",
    "\n",
    "\n",
    "\n",
    "\n",
    "\n",
    "NCM_cell_density = newFloatParam(\n",
    "        name=\"NMC622_battery_cell_density\",\n",
    "        default=0.25,  #changing temporal paramter \n",
    "        min=0.25,\n",
    "        max=0.33,\n",
    "        distrib=stats.DistributionType.TRIANGLE,\n",
    "        group=\"battery\",\n",
    "        # label =  \n",
    "        unit=\"kWh/kg\",\n",
    "    )\n",
    "\n",
    "NMC_cell_neededkg_perkWh = 1/NCM_cell_density  #unit is kg, this is kg cell needed  for 1 kWh battery\n",
    "\n",
    "\n",
    "NMC_cell_BoP_ratio = newFloatParam(\n",
    "        name=\"NMC622_cell_to_BoP_ratio\",\n",
    "        default= 2.076920954,\n",
    "        distrib=stats.DistributionType.LINEAR,\n",
    "        min=2.076920954*0.7,\n",
    "        max=2.076920954*1.3,\n",
    "        group=\"battery\",\n",
    "        description=\"using ecoinvent ratio\",\n",
    "        unit=\"fraction\",\n",
    "    )\n",
    "\n",
    " \n",
    "NMC_BoP_weight_per_kWh_cell = NMC_cell_neededkg_perkWh * (1 / NMC_cell_BoP_ratio)  "
   ]
  },
  {
   "cell_type": "code",
   "execution_count": null,
   "id": "2a58538b-9d0c-4a6d-a955-c88b4e239b29",
   "metadata": {},
   "outputs": [],
   "source": []
  },
  {
   "cell_type": "code",
   "execution_count": null,
   "id": "6ecb03ed-f295-4e73-94f7-6871cbec9405",
   "metadata": {},
   "outputs": [],
   "source": []
  },
  {
   "cell_type": "code",
   "execution_count": null,
   "id": "fede55ce-3bb2-4adb-837b-04033464133f",
   "metadata": {},
   "outputs": [],
   "source": [
    "root_path = '/Users/susierwu/Dropbox/DLCA_DynCO2/BW2-dLCA/'\n",
    "p_file = os.path.abspath(os.path.join(root_path, 'data/p_scn_test.xlsx'))\n",
    "\n",
    "yearlyParams_LSB = loadYearlyParams(PARAMS_FILE = p_file, s_name = \"V1B_bat_battery_LSB_perkWh\", years = [2025,2035, 2045,2055], SSP = SSP_premise ) \n",
    "yearlyParams_LSB"
   ]
  },
  {
   "cell_type": "code",
   "execution_count": null,
   "id": "628dbb1e-e025-44db-b662-4de43e036639",
   "metadata": {},
   "outputs": [],
   "source": [
    "yearlyParams_NMC622 = loadYearlyParams(PARAMS_FILE = p_file, s_name = \"V1B_bat_battery_NMC622_perkWh\", years= [2025,2035, 2045,2055], SSP = SSP_premise ) \n",
    "yearlyParams_NMC622"
   ]
  },
  {
   "cell_type": "code",
   "execution_count": null,
   "id": "6fb357f6-9580-4aec-b27f-a777e85104f7",
   "metadata": {},
   "outputs": [],
   "source": []
  }
 ],
 "metadata": {
  "kernelspec": {
   "display_name": "Python 3 (ipykernel)",
   "language": "python",
   "name": "python3"
  },
  "language_info": {
   "codemirror_mode": {
    "name": "ipython",
    "version": 3
   },
   "file_extension": ".py",
   "mimetype": "text/x-python",
   "name": "python",
   "nbconvert_exporter": "python",
   "pygments_lexer": "ipython3",
   "version": "3.9.18"
  }
 },
 "nbformat": 4,
 "nbformat_minor": 5
}
