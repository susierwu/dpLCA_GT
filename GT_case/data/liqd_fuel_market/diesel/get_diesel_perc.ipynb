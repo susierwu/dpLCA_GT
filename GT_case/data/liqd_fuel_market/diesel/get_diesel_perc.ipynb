{
 "cells": [
  {
   "cell_type": "code",
   "execution_count": 1,
   "id": "c6703700-541c-4642-ba4a-810f9732f4e6",
   "metadata": {},
   "outputs": [],
   "source": [
    "import numpy as np\n",
    "import pandas as pd\n",
    "import pickle\n",
    "import math\n",
    "from itertools import product "
   ]
  },
  {
   "cell_type": "markdown",
   "id": "50e86274-f60d-4a17-8031-bced0d9a0aa9",
   "metadata": {},
   "source": [
    "NOTE:  \n",
    "% of biodiesel vs. diesel is calculated from raw data source: \"https://pathways-trajectoires.ca/\" -> \"iet-data-2023-10-10_QConly_BAU_vs_NZ50.zip\" for QC:   \n",
    "\r",
    "- \n",
    "ssp245mappingg:  \"BAU-Energy consumed by source-data\" \n",
    "-  ss126 mapping:g \"NZ50-Energy consumed by source-data\"\n",
    "- ssp119 /  ssp585  are then interpolate 5\n",
    "\n",
    "### read in the QC scenario dat, change raw MJ-based % -> kg-based \n",
    " \n",
    "- heating value per ecoinvent:\n",
    "    -  diesel, low-sulfur' is a fossil fuel with a calorific value of <b>42.8 MJ/kg </b> https://ecoquery.ecoinvent.org/3.10/cutoff/dataset/6730/documentatio#    \n",
    "- Biodiesel MJ/kg value not present in premise, assuming <b> 39.9 MJ/kg </b>, averaging from \"Table 2: 39.2–40.6 MJ/kg\" https://www.sciencedirect.com/science/article/pii/S0301421507001516  "
   ]
  },
  {
   "cell_type": "code",
   "execution_count": 2,
   "id": "ae721ec6-8bc9-4b18-8c01-5c965cec2e52",
   "metadata": {},
   "outputs": [],
   "source": [
    "d_bau = pd.read_excel(\"../BAU-Energy consumed by source-data.xlsx\", skiprows=8, header=0 )  \n",
    "d_nz50 = pd.read_excel(\"../NZ50-Energy consumed by source-data.xlsx\", skiprows=8, header=0 )  "
   ]
  },
  {
   "cell_type": "code",
   "execution_count": 3,
   "id": "bafa2a21-beb5-4098-8dfe-f5ddf956dcf6",
   "metadata": {},
   "outputs": [
    {
     "name": "stdout",
     "output_type": "stream",
     "text": [
      "for year 2030, under BAU, % of diesel and biodiesel in Quebec are : 0.9557991815794296, 0.04420081842057045\n",
      "for year 2040, under BAU, % of diesel and biodiesel in Quebec are : 0.962624397438007, 0.03737560256199304\n",
      "for year 2050, under BAU, % of diesel and biodiesel in Quebec are : 0.9505902132762716, 0.049409786723728456\n",
      "we'll assume same market % used for HDV truck in our case as we have no data breaking down by sector\n"
     ]
    }
   ],
   "source": [
    "year = [2030, 2040, 2050]\n",
    "bau_bds_per_bds_ds, bau_ds_per_bds_ds = [] , []\n",
    "\n",
    "for y in year: \n",
    "    b_ds = d_bau[ (d_bau[\"Period\"] == y) & \t(d_bau[\"Dimension 2\"] == \"Biodiesel\") ]\n",
    "    ds = d_bau[ (d_bau[\"Period\"] == y) & \t(d_bau[\"Dimension 2\"] == \"Diesel\") ]\n",
    "    r_ds = d_bau[ (d_bau[\"Period\"] == y) & \t(d_bau[\"Dimension 2\"] == \"Renewable diesel\") ]\n",
    "    \n",
    "    if len(r_ds) == len(b_ds) == len(ds) == 1: \n",
    "        all_d = r_ds[\"Value\"].values[0] +  ds[\"Value\"].values[0] + b_ds[\"Value\"].values[0]\n",
    "        pert_bds_per_bds_ds =  b_ds[\"Value\"].values[0] / (ds[\"Value\"].values[0] + b_ds[\"Value\"].values[0]) \n",
    "        pert_ds_per_bds_ds =  ds[\"Value\"].values[0] / (ds[\"Value\"].values[0] + b_ds[\"Value\"].values[0]) \n",
    "        print(f\"for year {y}, under BAU, % of diesel and biodiesel in Quebec are : {pert_ds_per_bds_ds}, {pert_bds_per_bds_ds}\")\n",
    "        bau_bds_per_bds_ds.append(round(pert_bds_per_bds_ds,3)) \n",
    "        bau_ds_per_bds_ds.append(round(pert_ds_per_bds_ds,3)) \n",
    "        \n",
    "print(\"we'll assume same market % used for HDV truck in our case as we have no data breaking down by sector\")"
   ]
  },
  {
   "cell_type": "code",
   "execution_count": 4,
   "id": "6f515309-d49c-4446-a71f-eb6401bdafce",
   "metadata": {},
   "outputs": [
    {
     "data": {
      "text/plain": [
       "[0.044, 0.037, 0.049]"
      ]
     },
     "execution_count": 4,
     "metadata": {},
     "output_type": "execute_result"
    }
   ],
   "source": [
    "bau_bds_per_bds_ds"
   ]
  },
  {
   "cell_type": "code",
   "execution_count": 5,
   "id": "59d5bccb-3b3d-4730-ba3d-7668d489bd8c",
   "metadata": {},
   "outputs": [
    {
     "name": "stdout",
     "output_type": "stream",
     "text": [
      "for year 2030, under NZ2050, % of diesel and biodiesel are: 0.9556895834571276, 0.044310416542872426\n",
      "for year 2040, under NZ2050, % of diesel and biodiesel are: 0.9383833228643216, 0.061616677135678394\n",
      "for year 2050, under NZ2050, % of diesel and biodiesel are: 0.8665049074256236, 0.13349509257437647\n"
     ]
    }
   ],
   "source": [
    "year = [ 2030, 2040, 2050]\n",
    "nz50_bds_per_bds_ds = []\n",
    "nz50_ds_per_bds_ds = []\n",
    "\n",
    "for y in year: \n",
    "    b_ds = d_nz50[ (d_nz50[\"Period\"] == y) & \t(d_nz50[\"Dimension 2\"] == \"Biodiesel\") ]\n",
    "    ds = d_nz50[ (d_nz50[\"Period\"] == y) & \t(d_nz50[\"Dimension 2\"] == \"Diesel\") ]\n",
    "    r_ds = d_nz50[ (d_nz50[\"Period\"] == y) & \t(d_nz50[\"Dimension 2\"] == \"Renewable diesel\") ]\n",
    "    \n",
    "    if len(r_ds) == len(b_ds) == len(ds) == 1: \n",
    "        all_d = r_ds[\"Value\"].values[0] +  ds[\"Value\"].values[0] + b_ds[\"Value\"].values[0]\n",
    "        pert_bds_per_bds_ds =  b_ds[\"Value\"].values[0] / (ds[\"Value\"].values[0] + b_ds[\"Value\"].values[0]) \n",
    "        pert_ds_per_bds_ds =  ds[\"Value\"].values[0] / (ds[\"Value\"].values[0] + b_ds[\"Value\"].values[0]) \n",
    "        print(f\"for year {y}, under NZ2050, % of diesel and biodiesel are: {pert_ds_per_bds_ds}, {pert_bds_per_bds_ds}\")\n",
    "        nz50_bds_per_bds_ds.append(round(pert_bds_per_bds_ds,3)) \n",
    "        nz50_ds_per_bds_ds.append(round(pert_ds_per_bds_ds,3)) "
   ]
  },
  {
   "cell_type": "markdown",
   "id": "207cd5c7-0cdf-4a06-8c9f-d4594f05605a",
   "metadata": {},
   "source": [
    "## 0. convert market% by MJ to market% by kg, as all UPR product flow unit is in kg"
   ]
  },
  {
   "cell_type": "code",
   "execution_count": 6,
   "id": "3cd67d25-5cd6-4ce7-884b-13046a1fe5c6",
   "metadata": {},
   "outputs": [
    {
     "name": "stdout",
     "output_type": "stream",
     "text": [
      "for year 2030, under BAU, % by kg of conv_diesel, biodiesel are: 0.9529524628006675, 0.047047537199332454 \n",
      "for year 2040, under BAU, % by kg of conv_diesel, biodiesel are: 0.9604172238566461, 0.039582776143353836 \n",
      "for year 2050, under BAU, % by kg of conv_diesel, biodiesel are: 0.9476251245564045, 0.05237487544359562 \n"
     ]
    }
   ],
   "source": [
    "bau_ds_kg, bau_bds_kg  = [num / 42.8  for num in bau_ds_per_bds_ds], \\\n",
    "                         [num / 39.9 for num in bau_bds_per_bds_ds]\n",
    "\n",
    "sum_list = [sum(x) for x in zip(bau_ds_kg, bau_bds_kg)]\n",
    "#print(sum_list)\n",
    "\n",
    "bau_ds_perc, bau_bds_perc  =   [x / y for x, y in zip(bau_ds_kg, sum_list)], [x / y for x, y in zip(bau_bds_kg, sum_list)] \n",
    "\n",
    "for i in range(len(bau_ds_perc)): \n",
    "    print(f\"for year {year[i]}, under BAU, % by kg of conv_diesel, biodiesel are: {bau_ds_perc[i]}, {bau_bds_perc[i]} \")"
   ]
  },
  {
   "cell_type": "code",
   "execution_count": 7,
   "id": "f150f6f0-5d09-42c7-979f-f28d24c55dd2",
   "metadata": {},
   "outputs": [
    {
     "name": "stdout",
     "output_type": "stream",
     "text": [
      "for year 2030, under NZ50, % by kg of conv_diesel, biodiesel are: 0.9529524628006675, 0.047047537199332454 \n",
      "for year 2040, under NZ50, % by kg of conv_diesel, biodiesel are: 0.9337920847908422, 0.06620791520915774 \n",
      "for year 2050, under NZ50, % by kg of conv_diesel, biodiesel are: 0.8586992406734896, 0.1413007593265104 \n"
     ]
    }
   ],
   "source": [
    "nz50_ds_kg, nz50_bds_kg  = [num / 42.8  for num in nz50_ds_per_bds_ds], \\\n",
    "                         [num / 39.9 for num in nz50_bds_per_bds_ds]\n",
    "\n",
    "sum_list = [sum(x) for x in zip(nz50_ds_kg, nz50_bds_kg)]\n",
    "#print(sum_list)\n",
    "\n",
    "nz50_ds_perc, nz50_bds_perc  =   [x / y for x, y in zip(nz50_ds_kg, sum_list)], [x / y for x, y in zip(nz50_bds_kg, sum_list)] \n",
    "\n",
    "for i in range(len(nz50_ds_perc)): \n",
    "    print(f\"for year {year[i]}, under NZ50, % by kg of conv_diesel, biodiesel are: {nz50_ds_perc[i]}, {nz50_bds_perc[i]} \")"
   ]
  },
  {
   "cell_type": "code",
   "execution_count": 8,
   "id": "62f78d0e-9760-4ee3-a7e0-a50f04d29832",
   "metadata": {},
   "outputs": [],
   "source": [
    "baulist = [bau_ds_perc, bau_bds_perc ]\n",
    "nzlist = [nz50_ds_perc, nz50_bds_perc]"
   ]
  },
  {
   "cell_type": "markdown",
   "id": "cd8e2729-2c9c-488e-8835-f0772088589c",
   "metadata": {},
   "source": [
    "### 1. we have BAU -> SSP245 and NZ2050 -> SSP126 ,  then linear interpolate for SSP126 and SSP585\n"
   ]
  },
  {
   "cell_type": "code",
   "execution_count": 9,
   "id": "f6ec6f1f-b2ce-4f9a-8d9d-d18e55fc7c64",
   "metadata": {},
   "outputs": [],
   "source": [
    "def diesel_between_ssp_int(bau_ssp245_bd = bau_bds_per_bds_ds, nz50_ssp126_bd = nz50_bds_per_bds_ds):\n",
    "    \"\"\"\n",
    "    interpolate for SSP119 and SSP585 now from BAU and NZ50 value \n",
    "    for simplicity, SSP119 == SSP126 SSP585 == SSP245 except for the 2050 value\n",
    "    \"\"\"\n",
    "\n",
    "    # SSP119: assuming same as SSP126 for all years except 2050 \n",
    "    ssp119_bds_per_bds_ds = [0,0,0 ]\n",
    "    ssp119_bds_per_bds_ds[0:2] = nz50_ssp126_bd[0:2]\n",
    "    ssp119_bds_per_bds_ds[2] = nz50_ssp126_bd[2]*1.1 # for 2050, assuming 10% more biodiesel in 2050 than SSP126\n",
    "        \n",
    "    # diesel % is 1 -  bd% for each year then    \n",
    "    ssp119_ds_per_bds_ds =  [(val1 - val2)   for val1, val2 in zip([1,1,1,1], ssp119_bds_per_bds_ds)]\n",
    "\n",
    "    # SSP585: assuming same as SSP245 for year2020/2030/2040, then 4th element Y2050 same as 2040:  \n",
    "    ssp585_bds_per_bds_ds = [0,0,0 ]\n",
    "    ssp585_bds_per_bds_ds[0:2] = bau_ssp245_bd[0:2]\n",
    "    ssp585_bds_per_bds_ds[2] = ssp585_bds_per_bds_ds[1]\n",
    "\n",
    "        \n",
    "    ssp585_ds_per_bds_ds =   [(val1 - val2)   for val1, val2 in zip([1,1,1,1], ssp585_bds_per_bds_ds)]\n",
    "    print(f\"the SSP119 2030/40/50 biodiesel% and diesel% is: {ssp119_bds_per_bds_ds}, {ssp119_ds_per_bds_ds} \" )\n",
    "    print(f\"the SSP585 2030/40/50 biodiesel% and diesel% is: {ssp585_bds_per_bds_ds}, {ssp585_ds_per_bds_ds} \" )\n",
    "  \n",
    "    return (ssp119_bds_per_bds_ds, ssp119_ds_per_bds_ds), (ssp585_bds_per_bds_ds ,ssp585_ds_per_bds_ds)"
   ]
  },
  {
   "cell_type": "code",
   "execution_count": 10,
   "id": "dd95e3a2-3ba6-4801-9655-2689557cd353",
   "metadata": {},
   "outputs": [
    {
     "name": "stdout",
     "output_type": "stream",
     "text": [
      "the SSP119 2030/40/50 biodiesel% and diesel% is: [0.044, 0.062, 0.1463], [0.956, 0.938, 0.8537] \n",
      "the SSP585 2030/40/50 biodiesel% and diesel% is: [0.044, 0.037, 0.037], [0.956, 0.963, 0.963] \n"
     ]
    }
   ],
   "source": [
    "ssp119bdandd, ssp585bdandd = diesel_between_ssp_int()"
   ]
  },
  {
   "cell_type": "markdown",
   "id": "bec6b5fd-0ca8-4d8e-87e5-e2fd5f40bede",
   "metadata": {},
   "source": [
    "### nz50 -> mapped to SSP126, and BAU -> mapped to SSP245"
   ]
  },
  {
   "cell_type": "code",
   "execution_count": 11,
   "id": "1c4c6742-af94-4219-9712-1519ebc5cd4b",
   "metadata": {},
   "outputs": [
    {
     "data": {
      "text/plain": [
       "([0.044, 0.062, 0.1463],\n",
       " [0.044, 0.062, 0.133],\n",
       " [0.044, 0.037, 0.049],\n",
       " [0.044, 0.037, 0.037])"
      ]
     },
     "execution_count": 11,
     "metadata": {},
     "output_type": "execute_result"
    }
   ],
   "source": [
    "bd_allssp_4year = (ssp119bdandd[0], nz50_bds_per_bds_ds, bau_bds_per_bds_ds , ssp585bdandd[0])\n",
    "bd_allssp_4year"
   ]
  },
  {
   "cell_type": "code",
   "execution_count": 12,
   "id": "8e69b1dc-e170-4682-89f3-ef6cc49e3f40",
   "metadata": {},
   "outputs": [
    {
     "data": {
      "text/plain": [
       "([0.956, 0.938, 0.8537],\n",
       " [0.956, 0.938, 0.867],\n",
       " [0.956, 0.963, 0.951],\n",
       " [0.956, 0.963, 0.963])"
      ]
     },
     "execution_count": 12,
     "metadata": {},
     "output_type": "execute_result"
    }
   ],
   "source": [
    "d_allssp_4year = (ssp119bdandd[1] , nz50_ds_per_bds_ds , bau_ds_per_bds_ds , ssp585bdandd[1])\n",
    "d_allssp_4year"
   ]
  },
  {
   "cell_type": "markdown",
   "id": "449b75ba-ed70-40d7-ba93-f66c6f0cfb85",
   "metadata": {},
   "source": [
    "## 2. now we have BAU -> SSP245, NZ2050 -> SSP119, SSP126 and SSP585 for year 2020/30/40/50, we need interpolate 2025/2035/2045 for each SSP, as five-year gap is needed in tech_P file "
   ]
  },
  {
   "cell_type": "code",
   "execution_count": 13,
   "id": "507f8916-2235-4cd2-b11b-ef095f1d4f84",
   "metadata": {},
   "outputs": [],
   "source": [
    "def diesel_between_yr_linear_int(elements):\n",
    "    interpolated_values = []\n",
    "    for i in range(len(elements) - 1):\n",
    "        start = elements[i]\n",
    "        end = elements[i + 1]\n",
    "        interpolated_value = round((start + end) / 2 , 3)  # Calculate the interpolated value\n",
    "        interpolated_values.append(start)  # Add the starting element\n",
    "        interpolated_values.append(interpolated_value)  # Add the interpolated value\n",
    "    interpolated_values.append(elements[-1])  # Add the ending element\n",
    "    return interpolated_values\n"
   ]
  },
  {
   "cell_type": "code",
   "execution_count": 14,
   "id": "587a0920-81ed-4e54-a713-fdafbcb994c3",
   "metadata": {},
   "outputs": [],
   "source": [
    "# four empty list to store 4 SSPx data for years to be interpolated\n",
    "final_d = [[],[],[],[]]\n",
    "for i in range(len(d_allssp_4year)):     \n",
    "    final_d[i] = diesel_between_yr_linear_int(d_allssp_4year[i])\n",
    "\n",
    "#print(f\"the SSP119, 126, 245, 585 biodiesel% at year  2030, 2035, 2040, 2045, 2050 are: \\n , {final_d}\")"
   ]
  },
  {
   "cell_type": "code",
   "execution_count": 15,
   "id": "026aa35b-55df-4448-a6c3-112257d18dca",
   "metadata": {},
   "outputs": [
    {
     "data": {
      "text/plain": [
       "[[0.956, 0.947, 0.938, 0.896, 0.8537],\n",
       " [0.956, 0.947, 0.938, 0.902, 0.867],\n",
       " [0.956, 0.96, 0.963, 0.957, 0.951],\n",
       " [0.956, 0.96, 0.963, 0.963, 0.963]]"
      ]
     },
     "execution_count": 15,
     "metadata": {},
     "output_type": "execute_result"
    }
   ],
   "source": [
    "final_d"
   ]
  },
  {
   "cell_type": "code",
   "execution_count": 16,
   "id": "3441d56b-c046-4750-833f-8ca83e36e2e1",
   "metadata": {
    "scrolled": true
   },
   "outputs": [],
   "source": [
    "final_bd = [[],[],[],[]]\n",
    "for i in range(len(bd_allssp_4year)):     \n",
    "    final_bd[i] = diesel_between_yr_linear_int(bd_allssp_4year[i])\n",
    "\n",
    "#print(f\"the SSP119, 126, 245, 585 biodiesel% at year 2020, 2025 , 2030, 2035, 2040, 2045, 2050 are: \\n , {final_d}\")"
   ]
  },
  {
   "cell_type": "code",
   "execution_count": 17,
   "id": "325f837e-1519-4640-9cd8-80d0a0fff339",
   "metadata": {},
   "outputs": [
    {
     "data": {
      "text/plain": [
       "[[0.044, 0.053, 0.062, 0.104, 0.1463],\n",
       " [0.044, 0.053, 0.062, 0.098, 0.133],\n",
       " [0.044, 0.04, 0.037, 0.043, 0.049],\n",
       " [0.044, 0.04, 0.037, 0.037, 0.037]]"
      ]
     },
     "execution_count": 17,
     "metadata": {},
     "output_type": "execute_result"
    }
   ],
   "source": [
    "final_bd"
   ]
  },
  {
   "cell_type": "code",
   "execution_count": 18,
   "id": "69d6f79d-d1ba-472b-a506-96f74b975f00",
   "metadata": {},
   "outputs": [
    {
     "data": {
      "text/html": [
       "<div>\n",
       "<style scoped>\n",
       "    .dataframe tbody tr th:only-of-type {\n",
       "        vertical-align: middle;\n",
       "    }\n",
       "\n",
       "    .dataframe tbody tr th {\n",
       "        vertical-align: top;\n",
       "    }\n",
       "\n",
       "    .dataframe thead th {\n",
       "        text-align: right;\n",
       "    }\n",
       "</style>\n",
       "<table border=\"1\" class=\"dataframe\">\n",
       "  <thead>\n",
       "    <tr style=\"text-align: right;\">\n",
       "      <th></th>\n",
       "      <th>2030</th>\n",
       "      <th>2035</th>\n",
       "      <th>2040</th>\n",
       "      <th>2045</th>\n",
       "      <th>2050</th>\n",
       "    </tr>\n",
       "  </thead>\n",
       "  <tbody>\n",
       "    <tr>\n",
       "      <th>SSP119</th>\n",
       "      <td>0.956</td>\n",
       "      <td>0.947</td>\n",
       "      <td>0.938</td>\n",
       "      <td>0.896</td>\n",
       "      <td>0.8537</td>\n",
       "    </tr>\n",
       "    <tr>\n",
       "      <th>SSP126</th>\n",
       "      <td>0.956</td>\n",
       "      <td>0.947</td>\n",
       "      <td>0.938</td>\n",
       "      <td>0.902</td>\n",
       "      <td>0.8670</td>\n",
       "    </tr>\n",
       "    <tr>\n",
       "      <th>SSP245</th>\n",
       "      <td>0.956</td>\n",
       "      <td>0.960</td>\n",
       "      <td>0.963</td>\n",
       "      <td>0.957</td>\n",
       "      <td>0.9510</td>\n",
       "    </tr>\n",
       "    <tr>\n",
       "      <th>SSP585</th>\n",
       "      <td>0.956</td>\n",
       "      <td>0.960</td>\n",
       "      <td>0.963</td>\n",
       "      <td>0.963</td>\n",
       "      <td>0.9630</td>\n",
       "    </tr>\n",
       "  </tbody>\n",
       "</table>\n",
       "</div>"
      ],
      "text/plain": [
       "         2030   2035   2040   2045    2050\n",
       "SSP119  0.956  0.947  0.938  0.896  0.8537\n",
       "SSP126  0.956  0.947  0.938  0.902  0.8670\n",
       "SSP245  0.956  0.960  0.963  0.957  0.9510\n",
       "SSP585  0.956  0.960  0.963  0.963  0.9630"
      ]
     },
     "execution_count": 18,
     "metadata": {},
     "output_type": "execute_result"
    }
   ],
   "source": [
    "# assigned year as col names\n",
    "columns = [ 2030, 2035, 2040, 2045, 2050]\n",
    "# assigned row index\n",
    "index = ['SSP119', 'SSP126', 'SSP245', 'SSP585']\n",
    "\n",
    "final_d_df = pd.DataFrame(final_d, columns=columns, index=index)\n",
    "final_d_df"
   ]
  },
  {
   "cell_type": "code",
   "execution_count": 19,
   "id": "702984cd-5dbe-423f-be17-b992d76c8a4a",
   "metadata": {},
   "outputs": [
    {
     "data": {
      "text/html": [
       "<div>\n",
       "<style scoped>\n",
       "    .dataframe tbody tr th:only-of-type {\n",
       "        vertical-align: middle;\n",
       "    }\n",
       "\n",
       "    .dataframe tbody tr th {\n",
       "        vertical-align: top;\n",
       "    }\n",
       "\n",
       "    .dataframe thead th {\n",
       "        text-align: right;\n",
       "    }\n",
       "</style>\n",
       "<table border=\"1\" class=\"dataframe\">\n",
       "  <thead>\n",
       "    <tr style=\"text-align: right;\">\n",
       "      <th></th>\n",
       "      <th>2030</th>\n",
       "      <th>2035</th>\n",
       "      <th>2040</th>\n",
       "      <th>2045</th>\n",
       "      <th>2050</th>\n",
       "    </tr>\n",
       "  </thead>\n",
       "  <tbody>\n",
       "    <tr>\n",
       "      <th>SSP119</th>\n",
       "      <td>0.044</td>\n",
       "      <td>0.053</td>\n",
       "      <td>0.062</td>\n",
       "      <td>0.104</td>\n",
       "      <td>0.1463</td>\n",
       "    </tr>\n",
       "    <tr>\n",
       "      <th>SSP126</th>\n",
       "      <td>0.044</td>\n",
       "      <td>0.053</td>\n",
       "      <td>0.062</td>\n",
       "      <td>0.098</td>\n",
       "      <td>0.1330</td>\n",
       "    </tr>\n",
       "    <tr>\n",
       "      <th>SSP245</th>\n",
       "      <td>0.044</td>\n",
       "      <td>0.040</td>\n",
       "      <td>0.037</td>\n",
       "      <td>0.043</td>\n",
       "      <td>0.0490</td>\n",
       "    </tr>\n",
       "    <tr>\n",
       "      <th>SSP585</th>\n",
       "      <td>0.044</td>\n",
       "      <td>0.040</td>\n",
       "      <td>0.037</td>\n",
       "      <td>0.037</td>\n",
       "      <td>0.0370</td>\n",
       "    </tr>\n",
       "  </tbody>\n",
       "</table>\n",
       "</div>"
      ],
      "text/plain": [
       "         2030   2035   2040   2045    2050\n",
       "SSP119  0.044  0.053  0.062  0.104  0.1463\n",
       "SSP126  0.044  0.053  0.062  0.098  0.1330\n",
       "SSP245  0.044  0.040  0.037  0.043  0.0490\n",
       "SSP585  0.044  0.040  0.037  0.037  0.0370"
      ]
     },
     "execution_count": 19,
     "metadata": {},
     "output_type": "execute_result"
    }
   ],
   "source": [
    "final_bd_df = pd.DataFrame(final_bd, columns=columns, index=index)\n",
    "final_bd_df"
   ]
  },
  {
   "cell_type": "code",
   "execution_count": 20,
   "id": "c0aa8300-2386-4f05-9cb1-fedaf3e2c9b1",
   "metadata": {},
   "outputs": [],
   "source": [
    "final_bd_df.to_excel(\"biodiesel_pect_perBDandD.xlsx\")\n",
    "final_d_df.to_excel(\"diesel_pect_perBDandD.xlsx\")"
   ]
  },
  {
   "cell_type": "markdown",
   "id": "db675a19-1dbf-4d44-984f-892818bc8bbe",
   "metadata": {},
   "source": [
    "### 3. as we have four different feedstocks for making biodiesel, simply average them in the tech_parameter file for biodiesel"
   ]
  },
  {
   "cell_type": "code",
   "execution_count": null,
   "id": "dfa41f3a-f519-4630-8e57-a9a236c55065",
   "metadata": {},
   "outputs": [],
   "source": []
  }
 ],
 "metadata": {
  "kernelspec": {
   "display_name": "Python 3 (ipykernel)",
   "language": "python",
   "name": "python3"
  },
  "language_info": {
   "codemirror_mode": {
    "name": "ipython",
    "version": 3
   },
   "file_extension": ".py",
   "mimetype": "text/x-python",
   "name": "python",
   "nbconvert_exporter": "python",
   "pygments_lexer": "ipython3",
   "version": "3.9.18"
  }
 },
 "nbformat": 4,
 "nbformat_minor": 5
}
