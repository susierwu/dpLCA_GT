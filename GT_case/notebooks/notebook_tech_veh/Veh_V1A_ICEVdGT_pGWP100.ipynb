{
 "cells": [
  {
   "cell_type": "code",
   "execution_count": 1,
   "id": "6f11a598",
   "metadata": {},
   "outputs": [],
   "source": [
    "import os\n",
    "import sys\n",
    "from lca_algebraic import initProject\n",
    "import pandas as pd\n",
    "import numpy as np\n",
    "import xarray as xr\n",
    "import lca_algebraic as agb\n",
    "from lca_algebraic import *\n",
    "from lca_algebraic.stats import * \n",
    "import bw2data, bw2io\n",
    "import bw2calc\n",
    "from premise import *\n",
    "import premise as prm\n",
    "from premise.geomap import Geomap\n",
    "from premise_gwp import add_premise_gwp"
   ]
  },
  {
   "cell_type": "code",
   "execution_count": 2,
   "id": "576df4f4-00d8-493d-a780-4948017e2824",
   "metadata": {},
   "outputs": [
    {
     "name": "stdout",
     "output_type": "stream",
     "text": [
      "modify the setup.py file for reading Parameter excel sheet. here we use 'data/p_file/p_tech_perSSP_Y.xlsx' as the technology parameter file.  \n",
      "Define your chosen methods in the setup.py file. Current methods are:  [('IPCC 2021 no LT', 'climate change no LT', 'global warming potential (GWP100) no LT'), ('IPCC 2021', 'climate change', 'GWP 100a, incl. H and bio CO2')]\n",
      "Mapping premise_remind_DB to SSPx:  {'SSP1-PkBudg500': 'ssp119', 'SSP1-PkBudg1150': 'ssp126', 'SSP2-Base': 'ssp245', 'SSP5-Base': 'ssp585'}\n",
      "~~~~~~~~~~~~~~~~~~~~~~~~~~~~~~~~~~~~~~~~~~~~~~~~~~~~~~~~~~~~~~~~~~~~~~~~~~~~~~~~~~~~~~~~~~~~~~~~~~~~~~~~~~\n",
      "pGWP100 are imported as:  [('IPCC 2021 - dpCFsSSP119_MY2030 - year100', 'climate change', 'pGWP100'), ('IPCC 2021 - dpCFsSSP245_MY2030 - year100', 'climate change', 'pGWP100'), ('IPCC 2021 - dpCFsSSP585_MY2030 - year100', 'climate change', 'pGWP100'), ('IPCC 2021 - dpCFsSSP119_MY2040 - year100', 'climate change', 'pGWP100'), ('IPCC 2021 - dpCFsSSP245_MY2040 - year100', 'climate change', 'pGWP100'), ('IPCC 2021 - dpCFsSSP585_MY2040 - year100', 'climate change', 'pGWP100'), ('IPCC 2021 - dpCFsSSP119_MY2050 - year100', 'climate change', 'pGWP100'), ('IPCC 2021 - dpCFsSSP245_MY2050 - year100', 'climate change', 'pGWP100'), ('IPCC 2021 - dpCFsSSP585_MY2050 - year100', 'climate change', 'pGWP100')]\n"
     ]
    }
   ],
   "source": [
    "sys.path.append('/Users/susierwu/Dropbox/DLCA_DynCO2/pdpLCA_GT/') \n",
    "from utils import *\n",
    "from utils.setup import *\n",
    "from utils.getAct import *\n",
    "from utils.utils import *\n",
    "#from utils.switchElec import *"
   ]
  },
  {
   "cell_type": "code",
   "execution_count": 3,
   "id": "a8ba3ec3-2fc6-4e18-8611-25e39495ef82",
   "metadata": {},
   "outputs": [
    {
     "name": "stdout",
     "output_type": "stream",
     "text": [
      "Biosphere database already present!!! No setup is needed\n"
     ]
    }
   ],
   "source": [
    "bw2data.projects.set_current('iveo_v1')\n",
    "mybio = bw2data.Database(\"biosphere3\")\n",
    "initProject(\"iveo_v1\")"
   ]
  },
  {
   "cell_type": "code",
   "execution_count": 6,
   "id": "ab747932-ecd8-43bd-a52c-0d608575d181",
   "metadata": {},
   "outputs": [],
   "source": [
    "#[m for m in bw2data.methods if 'IPCC 2021' in str(m) and  'dIRF36' in str(m)  ]"
   ]
  },
  {
   "cell_type": "markdown",
   "id": "66a0d707-d995-4fb7-a4ef-828065bcb4b9",
   "metadata": {},
   "source": [
    "### init "
   ]
  },
  {
   "cell_type": "code",
   "execution_count": 4,
   "id": "89a1cceb-d567-4c51-8fcf-efc2824b5171",
   "metadata": {},
   "outputs": [
    {
     "name": "stdout",
     "output_type": "stream",
     "text": [
      "384\n"
     ]
    }
   ],
   "source": [
    "pdb = bw.Database(\"iveo_Parameterized_v1\")\n",
    "print(len(pdb))"
   ]
  },
  {
   "cell_type": "code",
   "execution_count": 5,
   "id": "7c73f10f-bf53-4076-bab0-b8330dfcf48d",
   "metadata": {},
   "outputs": [
    {
     "name": "stderr",
     "output_type": "stream",
     "text": [
      "Warning : param 'NMC622_battery_cell_density' linked to root project instead of a specific DB\n",
      "[ParamRegistry] Param NMC622_battery_cell_density was already defined in '<project>' : overriding.\n",
      "Warning : param 'NCA_battery_cell_density' linked to root project instead of a specific DB\n",
      "[ParamRegistry] Param NCA_battery_cell_density was already defined in '<project>' : overriding.\n",
      "Warning : param 'LFP_battery_cell_density' linked to root project instead of a specific DB\n",
      "[ParamRegistry] Param LFP_battery_cell_density was already defined in '<project>' : overriding.\n",
      "Warning : param 'LTO_battery_cell_density' linked to root project instead of a specific DB\n",
      "[ParamRegistry] Param LTO_battery_cell_density was already defined in '<project>' : overriding.\n",
      "Warning : param 'LSB_battery_cell_density' linked to root project instead of a specific DB\n",
      "[ParamRegistry] Param LSB_battery_cell_density was already defined in '<project>' : overriding.\n",
      "Warning : param 'LSB_cell_assmb_NG_MJperkg' linked to root project instead of a specific DB\n",
      "[ParamRegistry] Param LSB_cell_assmb_NG_MJperkg was already defined in '<project>' : overriding.\n",
      "Warning : param 'LSB_cell_assmb_elec_kWhperkg' linked to root project instead of a specific DB\n",
      "[ParamRegistry] Param LSB_cell_assmb_elec_kWhperkg was already defined in '<project>' : overriding.\n",
      "Warning : param 'g_truck_vehicle_prod_lightweighting' linked to root project instead of a specific DB\n",
      "[ParamRegistry] Param g_truck_vehicle_prod_lightweighting was already defined in '<project>' : overriding.\n",
      "Warning : param 'battery_total_capacity_for_gtruck' linked to root project instead of a specific DB\n",
      "[ParamRegistry] Param battery_total_capacity_for_gtruck was already defined in '<project>' : overriding.\n",
      "Warning : param 'biodiesel_UCO_perc' linked to root project instead of a specific DB\n",
      "[ParamRegistry] Param biodiesel_UCO_perc was already defined in '<project>' : overriding.\n",
      "Warning : param 'biodiesel_rapeseedoil_perc' linked to root project instead of a specific DB\n",
      "[ParamRegistry] Param biodiesel_rapeseedoil_perc was already defined in '<project>' : overriding.\n",
      "Warning : param 'biodiesel_soybeanoil_perc' linked to root project instead of a specific DB\n",
      "[ParamRegistry] Param biodiesel_soybeanoil_perc was already defined in '<project>' : overriding.\n",
      "Warning : param 'biodiesel_algea_perc' linked to root project instead of a specific DB\n",
      "[ParamRegistry] Param biodiesel_algea_perc was already defined in '<project>' : overriding.\n",
      "Warning : param 'conv_diesel_perc' linked to root project instead of a specific DB\n",
      "[ParamRegistry] Param conv_diesel_perc was already defined in '<project>' : overriding.\n",
      "Warning : param 'gtruck_BEV_elec_tech' linked to root project instead of a specific DB\n",
      "[ParamRegistry] Param gtruck_BEV_elec_tech was already defined in '<project>' : overriding.\n",
      "Warning : param 'gtruck_BEV_battery_tech' linked to root project instead of a specific DB\n",
      "[ParamRegistry] Param gtruck_BEV_battery_tech was already defined in '<project>' : overriding.\n"
     ]
    }
   ],
   "source": [
    "#resetParams()\n",
    "agb.loadParams()\n",
    "#agb.list_parameters()"
   ]
  },
  {
   "cell_type": "markdown",
   "id": "9e20151f-6432-4822-8450-aaced69f599d",
   "metadata": {
    "jp-MarkdownHeadingCollapsed": true
   },
   "source": [
    "## A. prepare all P and UPRs\n",
    "### 1. define all P"
   ]
  },
  {
   "cell_type": "markdown",
   "id": "a32fe3ad-a28b-47d7-9aa0-eac47b26ca46",
   "metadata": {
    "jp-MarkdownHeadingCollapsed": true
   },
   "source": [
    "#### vehicle_prod_lightweight_parameter\n",
    "\n",
    "same lightweight_p as for BEV: \n",
    "p_g_truck_lightweighting = newFloatParam(\n",
    "        name=\"g_truck_vehicle_prod_lightweighting\"\n",
    "\n",
    "   "
   ]
  },
  {
   "cell_type": "markdown",
   "id": "d1887908-2cf7-4774-8201-6b96bb1cb583",
   "metadata": {},
   "source": [
    "## 2. preparing UPRs for ICEV-d g_truck:\n",
    "1. vehicle production "
   ]
  },
  {
   "cell_type": "markdown",
   "id": "84047439-172c-4f5c-bff5-760b8ac433a8",
   "metadata": {
    "jp-MarkdownHeadingCollapsed": true
   },
   "source": [
    "#### 2.1 adding ICEV g_truck production: \n",
    "\n",
    "inventory: LCI_garbage_truck\n",
    "https://docs.google.com/spreadsheets/d/1_qotcARay-UyygXMX8Ha16aR90uKgEH81npOohgFgcg/edit#gid=1736639544 "
   ]
  },
  {
   "cell_type": "code",
   "execution_count": 6,
   "id": "d1aef889-afe2-41e5-9930-3627696af73d",
   "metadata": {},
   "outputs": [
    {
     "name": "stdout",
     "output_type": "stream",
     "text": [
      "end of creating a new UPR for final ICEV-d garbage truck per truck for SSP _remind_SSP1-PkBudg500 and year 2030, relying on BD ecoinvent_cutoff_3.9_remind_SSP1-PkBudg500_2030\n",
      "end of creating a new UPR for final ICEV-d garbage truck per truck for SSP _remind_SSP1-PkBudg500 and year 2040, relying on BD ecoinvent_cutoff_3.9_remind_SSP1-PkBudg500_2040\n",
      "end of creating a new UPR for final ICEV-d garbage truck per truck for SSP _remind_SSP1-PkBudg500 and year 2050, relying on BD ecoinvent_cutoff_3.9_remind_SSP1-PkBudg500_2050\n",
      "end of creating a new UPR for final ICEV-d garbage truck per truck for SSP _remind_SSP1-PkBudg1150 and year 2030, relying on BD ecoinvent_cutoff_3.9_remind_SSP1-PkBudg1150_2030\n",
      "end of creating a new UPR for final ICEV-d garbage truck per truck for SSP _remind_SSP1-PkBudg1150 and year 2040, relying on BD ecoinvent_cutoff_3.9_remind_SSP1-PkBudg1150_2040\n",
      "end of creating a new UPR for final ICEV-d garbage truck per truck for SSP _remind_SSP1-PkBudg1150 and year 2050, relying on BD ecoinvent_cutoff_3.9_remind_SSP1-PkBudg1150_2050\n",
      "end of creating a new UPR for final ICEV-d garbage truck per truck for SSP _remind_SSP2-Base and year 2030, relying on BD ecoinvent_cutoff_3.9_remind_SSP2-Base_2030\n",
      "end of creating a new UPR for final ICEV-d garbage truck per truck for SSP _remind_SSP2-Base and year 2040, relying on BD ecoinvent_cutoff_3.9_remind_SSP2-Base_2040\n",
      "end of creating a new UPR for final ICEV-d garbage truck per truck for SSP _remind_SSP2-Base and year 2050, relying on BD ecoinvent_cutoff_3.9_remind_SSP2-Base_2050\n",
      "end of creating a new UPR for final ICEV-d garbage truck per truck for SSP _remind_SSP5-Base and year 2030, relying on BD ecoinvent_cutoff_3.9_remind_SSP5-Base_2030\n",
      "end of creating a new UPR for final ICEV-d garbage truck per truck for SSP _remind_SSP5-Base and year 2040, relying on BD ecoinvent_cutoff_3.9_remind_SSP5-Base_2040\n",
      "end of creating a new UPR for final ICEV-d garbage truck per truck for SSP _remind_SSP5-Base and year 2050, relying on BD ecoinvent_cutoff_3.9_remind_SSP5-Base_2050\n"
     ]
    }
   ],
   "source": [
    "#to delete act:  for act in [act for act in bw2data.Database('iveo_Parameterized_v1') if 'g-truck ICEV-d Vehicle Production' in act['name']]: act.delete()\n",
    "#to delete all act so no duplication: for act in bw2data.Database('iveo_Parameterized_v1'):  act.delete()\n",
    "\n",
    "gtruck_final_allsspyear = []\n",
    "\n",
    "for prm_name in ssp_scn:\n",
    "    for year_t in ssp_yr: \n",
    "        bg_db_ssp_yr = bg_ei_ + prm_name + \"_\" + str(year_t)            # backgroun database (BD) to use for SSP[x], Year[t]\n",
    "        copied_prm_UPR_suffix = \"_from_\" + prm_name + \"_\" + str(year_t) # copy UPR from BD to PDB for further use/modification if needed\n",
    "        newUPR_suffix =  \"_wh_\" + prm_name + \"_\" + str(year_t)          # naming on any new UPRs created in PDB\n",
    "\n",
    "        # final one unit of g_truck with lightweighting as Parameter: \n",
    "        gtruck_final = agb.newActivity(\n",
    "                db_name = PDB_NAME,\n",
    "                name=\"V1A_g-truck ICEV-d Vehicle Production_\" + newUPR_suffix,\n",
    "                code = \"V1A_g-truck_ICEV-d_Vehicle_Production_\" + newUPR_suffix,\n",
    "                unit=\"one_truck\",\n",
    "                exchanges={\n",
    "                    agb.findActivity(\"gearbox, for lorry\",  db_name = bg_db_ssp_yr): 161,\n",
    "                    agb.findActivity('internal combustion engine, for lorry',  db_name = bg_db_ssp_yr): 940,\n",
    "                    agb.findActivity(\"transmission, for lorry\",   db_name = bg_db_ssp_yr): 233,\n",
    "                    agb.findActivity('exhaust system, for lorry', db_name = bg_db_ssp_yr): 176,\n",
    "                    agb.findActivity('other components, for hybrid electric lorry', db_name = bg_db_ssp_yr): 847,\n",
    "                    agb.findActivity('suspension, for lorry',  db_name = bg_db_ssp_yr): 2527,\n",
    "                    agb.findActivity('tires and wheels, for lorry', db_name = bg_db_ssp_yr): 1045,\n",
    "                    agb.findActivity('frame, blanks and saddle, for lorry',  db_name = bg_db_ssp_yr): 4068,\n",
    "                    agb.findActivity('fuel tank, for diesel vehicle',  db_name = bg_db_ssp_yr): 38.80,\n",
    "                    agb.findActivity('glider lightweighting',  db_name = bg_db_ssp_yr): g_truck_vehicle_prod_lightweighting,\n",
    "                    # specific to BEV, many are proxy UPRs from passenger BEV\n",
    "                    #agb.findActivity('market for power distribution unit, for electric passenger car',  db_name = bg_db_ssp_yr): 4,\n",
    "                    #agb.findActivity('market for converter, for electric passenger car',   db_name = bg_db_ssp_yr): 25,\n",
    "                    #agb.findActivity('market for inverter, for electric passenger car',   db_name = bg_db_ssp_yr): 25,\n",
    "                    #agb.findActivity('other components, for electric lorry',   db_name = bg_db_ssp_yr): 847,\n",
    "                    #agb.findActivity('market for electric motor, electric passenger car',  db_name = bg_db_ssp_yr): 847,\n",
    "                    # extra component garbage bin:\n",
    "                    agb.findActivity('market for reinforcing steel',  db_name = bg_db_ssp_yr): 3404,\n",
    "                    agb.findActivity('market for aluminium alloy, AlLi',  db_name = bg_db_ssp_yr): 3404,\n",
    "                    agb.findActivity('market for metal working, average for steel product manufacturing', loc = 'GLO', db_name = bg_db_ssp_yr): 3404,\n",
    "                    agb.findActivity('market for metal working, average for aluminium product manufacturing', loc = 'GLO', db_name = bg_db_ssp_yr): 3404,\n",
    "    \n",
    "                },\n",
    "            )\n",
    "        \n",
    "        for exc in gtruck_final.getExchange(name = \"*\", single=False): \n",
    "            exc['type']='technosphere'\n",
    "            exc.save()\n",
    "        gtruck_final.setOutputAmount(1)\n",
    "        \n",
    "        #agb.printAct(gtruck_final)\n",
    "        print(f\"end of creating a new UPR for final ICEV-d garbage truck per truck for SSP {prm_name} and year {year_t}, relying on BD {bg_db_ssp_yr}\")\n",
    "        \n",
    "        #adding to list: \n",
    "        gtruck_final_allsspyear.append(gtruck_final)"
   ]
  },
  {
   "cell_type": "markdown",
   "id": "c3f283c5-bf2e-4eef-801e-cda81d9e092a",
   "metadata": {},
   "source": [
    "### get already created UPR: "
   ]
  },
  {
   "cell_type": "code",
   "execution_count": 6,
   "id": "a6d1ec0a-59d4-41c2-8bf2-c5896fd6682e",
   "metadata": {},
   "outputs": [
    {
     "data": {
      "text/plain": [
       "12"
      ]
     },
     "execution_count": 6,
     "metadata": {},
     "output_type": "execute_result"
    }
   ],
   "source": [
    "icevgtruck_finalallsspyear = [] \n",
    "for prm_name in ssp_scn:\n",
    "    for year_t in ssp_yr: \n",
    "        bg_db_ssp_yr = bg_ei_ + prm_name + \"_\" + str(year_t)            # backgroun database (BD) to use for SSP[x], Year[t]\n",
    "        copied_prm_UPR_suffix = \"_from_\" + prm_name + \"_\" + str(year_t) # copy UPR from BD to PDB for further use/modification if needed\n",
    "        newUPR_suffix =  \"_wh_\" + prm_name + \"_\" + str(year_t)          # naming on any new UPRs created in PDB\n",
    "        # final one unit of g_truck with lightweighting as Parameter: \n",
    "        gtruck_final  = agb.findActivity(\n",
    "                db_name = PDB_NAME,\n",
    "                name=\"V1A_g-truck ICEV-d Vehicle Production_\" + newUPR_suffix)\n",
    "        icevgtruck_finalallsspyear.append(gtruck_final)\n",
    "\n",
    "len(icevgtruck_finalallsspyear)"
   ]
  },
  {
   "cell_type": "markdown",
   "id": "75683535-cea2-41c0-9556-ad6c4f364149",
   "metadata": {},
   "source": [
    "## 2.B. calculate  with static GWP100 vs. pGWP100"
   ]
  },
  {
   "cell_type": "markdown",
   "id": "c598c74e-bc35-41bd-99e1-ba39132fa09b",
   "metadata": {
    "jp-MarkdownHeadingCollapsed": true
   },
   "source": [
    "#### B.0 test opening Parameter file"
   ]
  },
  {
   "cell_type": "code",
   "execution_count": 7,
   "id": "6a0a1341-529f-4b1d-9568-7a850b892b4b",
   "metadata": {},
   "outputs": [
    {
     "name": "stdout",
     "output_type": "stream",
     "text": [
      "for SSP ssp119, year 2030, P:  {'g_truck_vehicle_prod_lightweighting': [260.0], 'battery_total_capacity_for_gtruck': [376.0]}\n",
      "for SSP ssp119, year 2040, P:  {'g_truck_vehicle_prod_lightweighting': [314.6], 'battery_total_capacity_for_gtruck': [346.5216]}\n",
      "for SSP ssp119, year 2050, P:  {'g_truck_vehicle_prod_lightweighting': [380.6660000000001], 'battery_total_capacity_for_gtruck': [319.35430656]}\n",
      "for SSP ssp126, year 2030, P:  {'g_truck_vehicle_prod_lightweighting': [250.0], 'battery_total_capacity_for_gtruck': [376.0]}\n",
      "for SSP ssp126, year 2040, P:  {'g_truck_vehicle_prod_lightweighting': [291.6], 'battery_total_capacity_for_gtruck': [353.7784]}\n",
      "for SSP ssp126, year 2050, P:  {'g_truck_vehicle_prod_lightweighting': [340.1222400000001], 'battery_total_capacity_for_gtruck': [332.8700965599999]}\n",
      "for SSP ssp245, year 2030, P:  {'g_truck_vehicle_prod_lightweighting': [237.0], 'battery_total_capacity_for_gtruck': [376.0]}\n",
      "for SSP ssp245, year 2040, P:  {'g_truck_vehicle_prod_lightweighting': [261.2925], 'battery_total_capacity_for_gtruck': [361.1104]}\n",
      "for SSP ssp245, year 2050, P:  {'g_truck_vehicle_prod_lightweighting': [288.07498125000006], 'battery_total_capacity_for_gtruck': [346.81042816]}\n",
      "for SSP ssp585, year 2030, P:  {'g_truck_vehicle_prod_lightweighting': [237.0], 'battery_total_capacity_for_gtruck': [376.0]}\n",
      "for SSP ssp585, year 2040, P:  {'g_truck_vehicle_prod_lightweighting': [261.2925], 'battery_total_capacity_for_gtruck': [376.0]}\n",
      "for SSP ssp585, year 2050, P:  {'g_truck_vehicle_prod_lightweighting': [288.07498125000006], 'battery_total_capacity_for_gtruck': [376.0]}\n"
     ]
    }
   ],
   "source": [
    "root_path = '/Users/susierwu/Dropbox/DLCA_DynCO2/pdpLCA_GT/'\n",
    "p_file = os.path.abspath(os.path.join(root_path, 'data/P_files/p_tech_perSSP_Y.xlsx'))\n",
    "\n",
    "for gtruck_final in icevgtruck_finalallsspyear:\n",
    "    # need a matched YearlyParams for each SSPx:\n",
    "    str1 = gtruck_final.as_dict()[\"name\"]\n",
    "    str2 = str1.split(\"remind_\")[1]\n",
    "    year_to_get_inP = int( str2.split(\"_\")[-1] )\n",
    "    ssp_remind = str2.split(\"_\")[0] \n",
    "    ssp_to_get_inP = ssp_remind_Pname_map.get(ssp_remind)\n",
    "    \n",
    "    yearlyParams = loadYearlyParams_multisheet(PARAMS_FILE = p_file, s_name = ['V1A_g_truck'], years = [year_to_get_inP], SSP = ssp_to_get_inP) \n",
    "    print(f\"for SSP {ssp_to_get_inP}, year {year_to_get_inP}, P:  {yearlyParams}\" )"
   ]
  },
  {
   "cell_type": "markdown",
   "id": "5fd97cd2-8c4d-4a50-8b6e-bfe7932bfc02",
   "metadata": {},
   "source": [
    "### B.1.0 reading in pGWP100"
   ]
  },
  {
   "cell_type": "code",
   "execution_count": 8,
   "id": "a1139cb7-9a61-4512-ac7b-838aed4395bf",
   "metadata": {},
   "outputs": [
    {
     "name": "stdout",
     "output_type": "stream",
     "text": [
      "[('IPCC 2021 no LT', 'climate change no LT', 'global warming potential (GWP100) no LT'), ('IPCC 2021', 'climate change', 'GWP 100a, incl. H and bio CO2')]\n"
     ]
    }
   ],
   "source": [
    "print(chosen_methods)"
   ]
  },
  {
   "cell_type": "markdown",
   "id": "e10607f3-a22e-484c-9b56-32c71e9c1feb",
   "metadata": {},
   "source": [
    "### B.1 read in all parameter under different SSPx in the calc "
   ]
  },
  {
   "cell_type": "code",
   "execution_count": 9,
   "id": "a946a57e-8c3c-4330-a696-ba0ec32e3506",
   "metadata": {
    "scrolled": true
   },
   "outputs": [
    {
     "name": "stdout",
     "output_type": "stream",
     "text": [
      "for SSP ssp119, year 2030, P:  {'g_truck_vehicle_prod_lightweighting': [260.0], 'battery_total_capacity_for_gtruck': [376.0]}\n",
      "end of running LCA calc for SSP ssp119 and year 2030 for 'V1A_g-truck ICEV-d Vehicle Production__wh__remind_SSP1-PkBudg500_2030' (one_truck, GLO, None) \n"
     ]
    },
    {
     "data": {
      "text/html": [
       "<div>\n",
       "<style scoped>\n",
       "    .dataframe tbody tr th:only-of-type {\n",
       "        vertical-align: middle;\n",
       "    }\n",
       "\n",
       "    .dataframe tbody tr th {\n",
       "        vertical-align: top;\n",
       "    }\n",
       "\n",
       "    .dataframe thead th {\n",
       "        text-align: right;\n",
       "    }\n",
       "</style>\n",
       "<table border=\"1\" class=\"dataframe\">\n",
       "  <thead>\n",
       "    <tr style=\"text-align: right;\">\n",
       "      <th></th>\n",
       "      <th>climate change no LT - global warming potential (GWP100) no LT[kg CO2-Eq]</th>\n",
       "      <th>climate change - GWP 100a, incl. H and bio CO2[kg CO2-Eq]</th>\n",
       "      <th>climate change - pGWP100[kg CO2-Eq]</th>\n",
       "    </tr>\n",
       "  </thead>\n",
       "  <tbody>\n",
       "    <tr>\n",
       "      <th>V1A_g-truck ICEV-d Vehicle Production__wh__remind_SSP1-PkBudg500_2030</th>\n",
       "      <td>98438.795525</td>\n",
       "      <td>101192.073576</td>\n",
       "      <td>99125.053226</td>\n",
       "    </tr>\n",
       "  </tbody>\n",
       "</table>\n",
       "</div>"
      ],
      "text/plain": [
       "                                                    climate change no LT - global warming potential (GWP100) no LT[kg CO2-Eq]  \\\n",
       "V1A_g-truck ICEV-d Vehicle Production__wh__remi...                                       98438.795525                           \n",
       "\n",
       "                                                    climate change - GWP 100a, incl. H and bio CO2[kg CO2-Eq]  \\\n",
       "V1A_g-truck ICEV-d Vehicle Production__wh__remi...                                      101192.073576           \n",
       "\n",
       "                                                    climate change - pGWP100[kg CO2-Eq]  \n",
       "V1A_g-truck ICEV-d Vehicle Production__wh__remi...                         99125.053226  "
      ]
     },
     "metadata": {},
     "output_type": "display_data"
    },
    {
     "name": "stdout",
     "output_type": "stream",
     "text": [
      "for SSP ssp119, year 2040, P:  {'g_truck_vehicle_prod_lightweighting': [314.6], 'battery_total_capacity_for_gtruck': [346.5216]}\n",
      "end of running LCA calc for SSP ssp119 and year 2040 for 'V1A_g-truck ICEV-d Vehicle Production__wh__remind_SSP1-PkBudg500_2040' (one_truck, GLO, None) \n"
     ]
    },
    {
     "data": {
      "text/html": [
       "<div>\n",
       "<style scoped>\n",
       "    .dataframe tbody tr th:only-of-type {\n",
       "        vertical-align: middle;\n",
       "    }\n",
       "\n",
       "    .dataframe tbody tr th {\n",
       "        vertical-align: top;\n",
       "    }\n",
       "\n",
       "    .dataframe thead th {\n",
       "        text-align: right;\n",
       "    }\n",
       "</style>\n",
       "<table border=\"1\" class=\"dataframe\">\n",
       "  <thead>\n",
       "    <tr style=\"text-align: right;\">\n",
       "      <th></th>\n",
       "      <th>climate change no LT - global warming potential (GWP100) no LT[kg CO2-Eq]</th>\n",
       "      <th>climate change - GWP 100a, incl. H and bio CO2[kg CO2-Eq]</th>\n",
       "      <th>climate change - pGWP100[kg CO2-Eq]</th>\n",
       "    </tr>\n",
       "  </thead>\n",
       "  <tbody>\n",
       "    <tr>\n",
       "      <th>V1A_g-truck ICEV-d Vehicle Production__wh__remind_SSP1-PkBudg500_2040</th>\n",
       "      <td>87588.25938</td>\n",
       "      <td>88860.703452</td>\n",
       "      <td>87556.976391</td>\n",
       "    </tr>\n",
       "  </tbody>\n",
       "</table>\n",
       "</div>"
      ],
      "text/plain": [
       "                                                    climate change no LT - global warming potential (GWP100) no LT[kg CO2-Eq]  \\\n",
       "V1A_g-truck ICEV-d Vehicle Production__wh__remi...                                        87588.25938                           \n",
       "\n",
       "                                                    climate change - GWP 100a, incl. H and bio CO2[kg CO2-Eq]  \\\n",
       "V1A_g-truck ICEV-d Vehicle Production__wh__remi...                                       88860.703452           \n",
       "\n",
       "                                                    climate change - pGWP100[kg CO2-Eq]  \n",
       "V1A_g-truck ICEV-d Vehicle Production__wh__remi...                         87556.976391  "
      ]
     },
     "metadata": {},
     "output_type": "display_data"
    },
    {
     "name": "stdout",
     "output_type": "stream",
     "text": [
      "for SSP ssp119, year 2050, P:  {'g_truck_vehicle_prod_lightweighting': [380.6660000000001], 'battery_total_capacity_for_gtruck': [319.35430656]}\n",
      "end of running LCA calc for SSP ssp119 and year 2050 for 'V1A_g-truck ICEV-d Vehicle Production__wh__remind_SSP1-PkBudg500_2050' (one_truck, GLO, None) \n"
     ]
    },
    {
     "data": {
      "text/html": [
       "<div>\n",
       "<style scoped>\n",
       "    .dataframe tbody tr th:only-of-type {\n",
       "        vertical-align: middle;\n",
       "    }\n",
       "\n",
       "    .dataframe tbody tr th {\n",
       "        vertical-align: top;\n",
       "    }\n",
       "\n",
       "    .dataframe thead th {\n",
       "        text-align: right;\n",
       "    }\n",
       "</style>\n",
       "<table border=\"1\" class=\"dataframe\">\n",
       "  <thead>\n",
       "    <tr style=\"text-align: right;\">\n",
       "      <th></th>\n",
       "      <th>climate change no LT - global warming potential (GWP100) no LT[kg CO2-Eq]</th>\n",
       "      <th>climate change - GWP 100a, incl. H and bio CO2[kg CO2-Eq]</th>\n",
       "      <th>climate change - pGWP100[kg CO2-Eq]</th>\n",
       "    </tr>\n",
       "  </thead>\n",
       "  <tbody>\n",
       "    <tr>\n",
       "      <th>V1A_g-truck ICEV-d Vehicle Production__wh__remind_SSP1-PkBudg500_2050</th>\n",
       "      <td>84479.855746</td>\n",
       "      <td>83778.524593</td>\n",
       "      <td>82663.226564</td>\n",
       "    </tr>\n",
       "  </tbody>\n",
       "</table>\n",
       "</div>"
      ],
      "text/plain": [
       "                                                    climate change no LT - global warming potential (GWP100) no LT[kg CO2-Eq]  \\\n",
       "V1A_g-truck ICEV-d Vehicle Production__wh__remi...                                       84479.855746                           \n",
       "\n",
       "                                                    climate change - GWP 100a, incl. H and bio CO2[kg CO2-Eq]  \\\n",
       "V1A_g-truck ICEV-d Vehicle Production__wh__remi...                                       83778.524593           \n",
       "\n",
       "                                                    climate change - pGWP100[kg CO2-Eq]  \n",
       "V1A_g-truck ICEV-d Vehicle Production__wh__remi...                         82663.226564  "
      ]
     },
     "metadata": {},
     "output_type": "display_data"
    },
    {
     "name": "stdout",
     "output_type": "stream",
     "text": [
      "for SSP ssp126, year 2030, P:  {'g_truck_vehicle_prod_lightweighting': [250.0], 'battery_total_capacity_for_gtruck': [376.0]}\n",
      "end of running LCA calc for SSP ssp126 and year 2030 for 'V1A_g-truck ICEV-d Vehicle Production__wh__remind_SSP1-PkBudg1150_2030' (one_truck, GLO, None) \n"
     ]
    },
    {
     "data": {
      "text/html": [
       "<div>\n",
       "<style scoped>\n",
       "    .dataframe tbody tr th:only-of-type {\n",
       "        vertical-align: middle;\n",
       "    }\n",
       "\n",
       "    .dataframe tbody tr th {\n",
       "        vertical-align: top;\n",
       "    }\n",
       "\n",
       "    .dataframe thead th {\n",
       "        text-align: right;\n",
       "    }\n",
       "</style>\n",
       "<table border=\"1\" class=\"dataframe\">\n",
       "  <thead>\n",
       "    <tr style=\"text-align: right;\">\n",
       "      <th></th>\n",
       "      <th>climate change no LT - global warming potential (GWP100) no LT[kg CO2-Eq]</th>\n",
       "      <th>climate change - GWP 100a, incl. H and bio CO2[kg CO2-Eq]</th>\n",
       "      <th>climate change - pGWP100[kg CO2-Eq]</th>\n",
       "    </tr>\n",
       "  </thead>\n",
       "  <tbody>\n",
       "    <tr>\n",
       "      <th>V1A_g-truck ICEV-d Vehicle Production__wh__remind_SSP1-PkBudg1150_2030</th>\n",
       "      <td>109119.170199</td>\n",
       "      <td>112279.012999</td>\n",
       "      <td>110859.387361</td>\n",
       "    </tr>\n",
       "  </tbody>\n",
       "</table>\n",
       "</div>"
      ],
      "text/plain": [
       "                                                    climate change no LT - global warming potential (GWP100) no LT[kg CO2-Eq]  \\\n",
       "V1A_g-truck ICEV-d Vehicle Production__wh__remi...                                      109119.170199                           \n",
       "\n",
       "                                                    climate change - GWP 100a, incl. H and bio CO2[kg CO2-Eq]  \\\n",
       "V1A_g-truck ICEV-d Vehicle Production__wh__remi...                                      112279.012999           \n",
       "\n",
       "                                                    climate change - pGWP100[kg CO2-Eq]  \n",
       "V1A_g-truck ICEV-d Vehicle Production__wh__remi...                        110859.387361  "
      ]
     },
     "metadata": {},
     "output_type": "display_data"
    },
    {
     "name": "stdout",
     "output_type": "stream",
     "text": [
      "for SSP ssp126, year 2040, P:  {'g_truck_vehicle_prod_lightweighting': [291.6], 'battery_total_capacity_for_gtruck': [353.7784]}\n",
      "end of running LCA calc for SSP ssp126 and year 2040 for 'V1A_g-truck ICEV-d Vehicle Production__wh__remind_SSP1-PkBudg1150_2040' (one_truck, GLO, None) \n"
     ]
    },
    {
     "data": {
      "text/html": [
       "<div>\n",
       "<style scoped>\n",
       "    .dataframe tbody tr th:only-of-type {\n",
       "        vertical-align: middle;\n",
       "    }\n",
       "\n",
       "    .dataframe tbody tr th {\n",
       "        vertical-align: top;\n",
       "    }\n",
       "\n",
       "    .dataframe thead th {\n",
       "        text-align: right;\n",
       "    }\n",
       "</style>\n",
       "<table border=\"1\" class=\"dataframe\">\n",
       "  <thead>\n",
       "    <tr style=\"text-align: right;\">\n",
       "      <th></th>\n",
       "      <th>climate change no LT - global warming potential (GWP100) no LT[kg CO2-Eq]</th>\n",
       "      <th>climate change - GWP 100a, incl. H and bio CO2[kg CO2-Eq]</th>\n",
       "      <th>climate change - pGWP100[kg CO2-Eq]</th>\n",
       "    </tr>\n",
       "  </thead>\n",
       "  <tbody>\n",
       "    <tr>\n",
       "      <th>V1A_g-truck ICEV-d Vehicle Production__wh__remind_SSP1-PkBudg1150_2040</th>\n",
       "      <td>97878.417525</td>\n",
       "      <td>101093.944727</td>\n",
       "      <td>99829.741166</td>\n",
       "    </tr>\n",
       "  </tbody>\n",
       "</table>\n",
       "</div>"
      ],
      "text/plain": [
       "                                                    climate change no LT - global warming potential (GWP100) no LT[kg CO2-Eq]  \\\n",
       "V1A_g-truck ICEV-d Vehicle Production__wh__remi...                                       97878.417525                           \n",
       "\n",
       "                                                    climate change - GWP 100a, incl. H and bio CO2[kg CO2-Eq]  \\\n",
       "V1A_g-truck ICEV-d Vehicle Production__wh__remi...                                      101093.944727           \n",
       "\n",
       "                                                    climate change - pGWP100[kg CO2-Eq]  \n",
       "V1A_g-truck ICEV-d Vehicle Production__wh__remi...                         99829.741166  "
      ]
     },
     "metadata": {},
     "output_type": "display_data"
    },
    {
     "name": "stdout",
     "output_type": "stream",
     "text": [
      "for SSP ssp126, year 2050, P:  {'g_truck_vehicle_prod_lightweighting': [340.1222400000001], 'battery_total_capacity_for_gtruck': [332.8700965599999]}\n",
      "end of running LCA calc for SSP ssp126 and year 2050 for 'V1A_g-truck ICEV-d Vehicle Production__wh__remind_SSP1-PkBudg1150_2050' (one_truck, GLO, None) \n"
     ]
    },
    {
     "data": {
      "text/html": [
       "<div>\n",
       "<style scoped>\n",
       "    .dataframe tbody tr th:only-of-type {\n",
       "        vertical-align: middle;\n",
       "    }\n",
       "\n",
       "    .dataframe tbody tr th {\n",
       "        vertical-align: top;\n",
       "    }\n",
       "\n",
       "    .dataframe thead th {\n",
       "        text-align: right;\n",
       "    }\n",
       "</style>\n",
       "<table border=\"1\" class=\"dataframe\">\n",
       "  <thead>\n",
       "    <tr style=\"text-align: right;\">\n",
       "      <th></th>\n",
       "      <th>climate change no LT - global warming potential (GWP100) no LT[kg CO2-Eq]</th>\n",
       "      <th>climate change - GWP 100a, incl. H and bio CO2[kg CO2-Eq]</th>\n",
       "      <th>climate change - pGWP100[kg CO2-Eq]</th>\n",
       "    </tr>\n",
       "  </thead>\n",
       "  <tbody>\n",
       "    <tr>\n",
       "      <th>V1A_g-truck ICEV-d Vehicle Production__wh__remind_SSP1-PkBudg1150_2050</th>\n",
       "      <td>90469.087132</td>\n",
       "      <td>93527.65379</td>\n",
       "      <td>92371.133833</td>\n",
       "    </tr>\n",
       "  </tbody>\n",
       "</table>\n",
       "</div>"
      ],
      "text/plain": [
       "                                                    climate change no LT - global warming potential (GWP100) no LT[kg CO2-Eq]  \\\n",
       "V1A_g-truck ICEV-d Vehicle Production__wh__remi...                                       90469.087132                           \n",
       "\n",
       "                                                    climate change - GWP 100a, incl. H and bio CO2[kg CO2-Eq]  \\\n",
       "V1A_g-truck ICEV-d Vehicle Production__wh__remi...                                        93527.65379           \n",
       "\n",
       "                                                    climate change - pGWP100[kg CO2-Eq]  \n",
       "V1A_g-truck ICEV-d Vehicle Production__wh__remi...                         92371.133833  "
      ]
     },
     "metadata": {},
     "output_type": "display_data"
    },
    {
     "name": "stdout",
     "output_type": "stream",
     "text": [
      "for SSP ssp245, year 2030, P:  {'g_truck_vehicle_prod_lightweighting': [237.0], 'battery_total_capacity_for_gtruck': [376.0]}\n",
      "end of running LCA calc for SSP ssp245 and year 2030 for 'V1A_g-truck ICEV-d Vehicle Production__wh__remind_SSP2-Base_2030' (one_truck, GLO, None) \n"
     ]
    },
    {
     "data": {
      "text/html": [
       "<div>\n",
       "<style scoped>\n",
       "    .dataframe tbody tr th:only-of-type {\n",
       "        vertical-align: middle;\n",
       "    }\n",
       "\n",
       "    .dataframe tbody tr th {\n",
       "        vertical-align: top;\n",
       "    }\n",
       "\n",
       "    .dataframe thead th {\n",
       "        text-align: right;\n",
       "    }\n",
       "</style>\n",
       "<table border=\"1\" class=\"dataframe\">\n",
       "  <thead>\n",
       "    <tr style=\"text-align: right;\">\n",
       "      <th></th>\n",
       "      <th>climate change no LT - global warming potential (GWP100) no LT[kg CO2-Eq]</th>\n",
       "      <th>climate change - GWP 100a, incl. H and bio CO2[kg CO2-Eq]</th>\n",
       "      <th>climate change - pGWP100[kg CO2-Eq]</th>\n",
       "    </tr>\n",
       "  </thead>\n",
       "  <tbody>\n",
       "    <tr>\n",
       "      <th>V1A_g-truck ICEV-d Vehicle Production__wh__remind_SSP2-Base_2030</th>\n",
       "      <td>114930.409045</td>\n",
       "      <td>118034.668417</td>\n",
       "      <td>115226.970692</td>\n",
       "    </tr>\n",
       "  </tbody>\n",
       "</table>\n",
       "</div>"
      ],
      "text/plain": [
       "                                                    climate change no LT - global warming potential (GWP100) no LT[kg CO2-Eq]  \\\n",
       "V1A_g-truck ICEV-d Vehicle Production__wh__remi...                                      114930.409045                           \n",
       "\n",
       "                                                    climate change - GWP 100a, incl. H and bio CO2[kg CO2-Eq]  \\\n",
       "V1A_g-truck ICEV-d Vehicle Production__wh__remi...                                      118034.668417           \n",
       "\n",
       "                                                    climate change - pGWP100[kg CO2-Eq]  \n",
       "V1A_g-truck ICEV-d Vehicle Production__wh__remi...                        115226.970692  "
      ]
     },
     "metadata": {},
     "output_type": "display_data"
    },
    {
     "name": "stdout",
     "output_type": "stream",
     "text": [
      "for SSP ssp245, year 2040, P:  {'g_truck_vehicle_prod_lightweighting': [261.2925], 'battery_total_capacity_for_gtruck': [361.1104]}\n",
      "end of running LCA calc for SSP ssp245 and year 2040 for 'V1A_g-truck ICEV-d Vehicle Production__wh__remind_SSP2-Base_2040' (one_truck, GLO, None) \n"
     ]
    },
    {
     "data": {
      "text/html": [
       "<div>\n",
       "<style scoped>\n",
       "    .dataframe tbody tr th:only-of-type {\n",
       "        vertical-align: middle;\n",
       "    }\n",
       "\n",
       "    .dataframe tbody tr th {\n",
       "        vertical-align: top;\n",
       "    }\n",
       "\n",
       "    .dataframe thead th {\n",
       "        text-align: right;\n",
       "    }\n",
       "</style>\n",
       "<table border=\"1\" class=\"dataframe\">\n",
       "  <thead>\n",
       "    <tr style=\"text-align: right;\">\n",
       "      <th></th>\n",
       "      <th>climate change no LT - global warming potential (GWP100) no LT[kg CO2-Eq]</th>\n",
       "      <th>climate change - GWP 100a, incl. H and bio CO2[kg CO2-Eq]</th>\n",
       "      <th>climate change - pGWP100[kg CO2-Eq]</th>\n",
       "    </tr>\n",
       "  </thead>\n",
       "  <tbody>\n",
       "    <tr>\n",
       "      <th>V1A_g-truck ICEV-d Vehicle Production__wh__remind_SSP2-Base_2040</th>\n",
       "      <td>104599.685668</td>\n",
       "      <td>107803.595647</td>\n",
       "      <td>106102.07515</td>\n",
       "    </tr>\n",
       "  </tbody>\n",
       "</table>\n",
       "</div>"
      ],
      "text/plain": [
       "                                                    climate change no LT - global warming potential (GWP100) no LT[kg CO2-Eq]  \\\n",
       "V1A_g-truck ICEV-d Vehicle Production__wh__remi...                                      104599.685668                           \n",
       "\n",
       "                                                    climate change - GWP 100a, incl. H and bio CO2[kg CO2-Eq]  \\\n",
       "V1A_g-truck ICEV-d Vehicle Production__wh__remi...                                      107803.595647           \n",
       "\n",
       "                                                    climate change - pGWP100[kg CO2-Eq]  \n",
       "V1A_g-truck ICEV-d Vehicle Production__wh__remi...                         106102.07515  "
      ]
     },
     "metadata": {},
     "output_type": "display_data"
    },
    {
     "name": "stdout",
     "output_type": "stream",
     "text": [
      "for SSP ssp245, year 2050, P:  {'g_truck_vehicle_prod_lightweighting': [288.07498125000006], 'battery_total_capacity_for_gtruck': [346.81042816]}\n",
      "end of running LCA calc for SSP ssp245 and year 2050 for 'V1A_g-truck ICEV-d Vehicle Production__wh__remind_SSP2-Base_2050' (one_truck, GLO, None) \n"
     ]
    },
    {
     "data": {
      "text/html": [
       "<div>\n",
       "<style scoped>\n",
       "    .dataframe tbody tr th:only-of-type {\n",
       "        vertical-align: middle;\n",
       "    }\n",
       "\n",
       "    .dataframe tbody tr th {\n",
       "        vertical-align: top;\n",
       "    }\n",
       "\n",
       "    .dataframe thead th {\n",
       "        text-align: right;\n",
       "    }\n",
       "</style>\n",
       "<table border=\"1\" class=\"dataframe\">\n",
       "  <thead>\n",
       "    <tr style=\"text-align: right;\">\n",
       "      <th></th>\n",
       "      <th>climate change no LT - global warming potential (GWP100) no LT[kg CO2-Eq]</th>\n",
       "      <th>climate change - GWP 100a, incl. H and bio CO2[kg CO2-Eq]</th>\n",
       "      <th>climate change - pGWP100[kg CO2-Eq]</th>\n",
       "    </tr>\n",
       "  </thead>\n",
       "  <tbody>\n",
       "    <tr>\n",
       "      <th>V1A_g-truck ICEV-d Vehicle Production__wh__remind_SSP2-Base_2050</th>\n",
       "      <td>97562.766626</td>\n",
       "      <td>100837.469129</td>\n",
       "      <td>99868.612059</td>\n",
       "    </tr>\n",
       "  </tbody>\n",
       "</table>\n",
       "</div>"
      ],
      "text/plain": [
       "                                                    climate change no LT - global warming potential (GWP100) no LT[kg CO2-Eq]  \\\n",
       "V1A_g-truck ICEV-d Vehicle Production__wh__remi...                                       97562.766626                           \n",
       "\n",
       "                                                    climate change - GWP 100a, incl. H and bio CO2[kg CO2-Eq]  \\\n",
       "V1A_g-truck ICEV-d Vehicle Production__wh__remi...                                      100837.469129           \n",
       "\n",
       "                                                    climate change - pGWP100[kg CO2-Eq]  \n",
       "V1A_g-truck ICEV-d Vehicle Production__wh__remi...                         99868.612059  "
      ]
     },
     "metadata": {},
     "output_type": "display_data"
    },
    {
     "name": "stdout",
     "output_type": "stream",
     "text": [
      "for SSP ssp585, year 2030, P:  {'g_truck_vehicle_prod_lightweighting': [237.0], 'battery_total_capacity_for_gtruck': [376.0]}\n",
      "end of running LCA calc for SSP ssp585 and year 2030 for 'V1A_g-truck ICEV-d Vehicle Production__wh__remind_SSP5-Base_2030' (one_truck, GLO, None) \n"
     ]
    },
    {
     "data": {
      "text/html": [
       "<div>\n",
       "<style scoped>\n",
       "    .dataframe tbody tr th:only-of-type {\n",
       "        vertical-align: middle;\n",
       "    }\n",
       "\n",
       "    .dataframe tbody tr th {\n",
       "        vertical-align: top;\n",
       "    }\n",
       "\n",
       "    .dataframe thead th {\n",
       "        text-align: right;\n",
       "    }\n",
       "</style>\n",
       "<table border=\"1\" class=\"dataframe\">\n",
       "  <thead>\n",
       "    <tr style=\"text-align: right;\">\n",
       "      <th></th>\n",
       "      <th>climate change no LT - global warming potential (GWP100) no LT[kg CO2-Eq]</th>\n",
       "      <th>climate change - GWP 100a, incl. H and bio CO2[kg CO2-Eq]</th>\n",
       "      <th>climate change - pGWP100[kg CO2-Eq]</th>\n",
       "    </tr>\n",
       "  </thead>\n",
       "  <tbody>\n",
       "    <tr>\n",
       "      <th>V1A_g-truck ICEV-d Vehicle Production__wh__remind_SSP5-Base_2030</th>\n",
       "      <td>119818.908461</td>\n",
       "      <td>122824.628623</td>\n",
       "      <td>119240.283299</td>\n",
       "    </tr>\n",
       "  </tbody>\n",
       "</table>\n",
       "</div>"
      ],
      "text/plain": [
       "                                                    climate change no LT - global warming potential (GWP100) no LT[kg CO2-Eq]  \\\n",
       "V1A_g-truck ICEV-d Vehicle Production__wh__remi...                                      119818.908461                           \n",
       "\n",
       "                                                    climate change - GWP 100a, incl. H and bio CO2[kg CO2-Eq]  \\\n",
       "V1A_g-truck ICEV-d Vehicle Production__wh__remi...                                      122824.628623           \n",
       "\n",
       "                                                    climate change - pGWP100[kg CO2-Eq]  \n",
       "V1A_g-truck ICEV-d Vehicle Production__wh__remi...                        119240.283299  "
      ]
     },
     "metadata": {},
     "output_type": "display_data"
    },
    {
     "name": "stdout",
     "output_type": "stream",
     "text": [
      "for SSP ssp585, year 2040, P:  {'g_truck_vehicle_prod_lightweighting': [261.2925], 'battery_total_capacity_for_gtruck': [376.0]}\n",
      "end of running LCA calc for SSP ssp585 and year 2040 for 'V1A_g-truck ICEV-d Vehicle Production__wh__remind_SSP5-Base_2040' (one_truck, GLO, None) \n"
     ]
    },
    {
     "data": {
      "text/html": [
       "<div>\n",
       "<style scoped>\n",
       "    .dataframe tbody tr th:only-of-type {\n",
       "        vertical-align: middle;\n",
       "    }\n",
       "\n",
       "    .dataframe tbody tr th {\n",
       "        vertical-align: top;\n",
       "    }\n",
       "\n",
       "    .dataframe thead th {\n",
       "        text-align: right;\n",
       "    }\n",
       "</style>\n",
       "<table border=\"1\" class=\"dataframe\">\n",
       "  <thead>\n",
       "    <tr style=\"text-align: right;\">\n",
       "      <th></th>\n",
       "      <th>climate change no LT - global warming potential (GWP100) no LT[kg CO2-Eq]</th>\n",
       "      <th>climate change - GWP 100a, incl. H and bio CO2[kg CO2-Eq]</th>\n",
       "      <th>climate change - pGWP100[kg CO2-Eq]</th>\n",
       "    </tr>\n",
       "  </thead>\n",
       "  <tbody>\n",
       "    <tr>\n",
       "      <th>V1A_g-truck ICEV-d Vehicle Production__wh__remind_SSP5-Base_2040</th>\n",
       "      <td>116338.825106</td>\n",
       "      <td>119487.61151</td>\n",
       "      <td>116288.67107</td>\n",
       "    </tr>\n",
       "  </tbody>\n",
       "</table>\n",
       "</div>"
      ],
      "text/plain": [
       "                                                    climate change no LT - global warming potential (GWP100) no LT[kg CO2-Eq]  \\\n",
       "V1A_g-truck ICEV-d Vehicle Production__wh__remi...                                      116338.825106                           \n",
       "\n",
       "                                                    climate change - GWP 100a, incl. H and bio CO2[kg CO2-Eq]  \\\n",
       "V1A_g-truck ICEV-d Vehicle Production__wh__remi...                                       119487.61151           \n",
       "\n",
       "                                                    climate change - pGWP100[kg CO2-Eq]  \n",
       "V1A_g-truck ICEV-d Vehicle Production__wh__remi...                         116288.67107  "
      ]
     },
     "metadata": {},
     "output_type": "display_data"
    },
    {
     "name": "stdout",
     "output_type": "stream",
     "text": [
      "for SSP ssp585, year 2050, P:  {'g_truck_vehicle_prod_lightweighting': [288.07498125000006], 'battery_total_capacity_for_gtruck': [376.0]}\n",
      "end of running LCA calc for SSP ssp585 and year 2050 for 'V1A_g-truck ICEV-d Vehicle Production__wh__remind_SSP5-Base_2050' (one_truck, GLO, None) \n"
     ]
    },
    {
     "data": {
      "text/html": [
       "<div>\n",
       "<style scoped>\n",
       "    .dataframe tbody tr th:only-of-type {\n",
       "        vertical-align: middle;\n",
       "    }\n",
       "\n",
       "    .dataframe tbody tr th {\n",
       "        vertical-align: top;\n",
       "    }\n",
       "\n",
       "    .dataframe thead th {\n",
       "        text-align: right;\n",
       "    }\n",
       "</style>\n",
       "<table border=\"1\" class=\"dataframe\">\n",
       "  <thead>\n",
       "    <tr style=\"text-align: right;\">\n",
       "      <th></th>\n",
       "      <th>climate change no LT - global warming potential (GWP100) no LT[kg CO2-Eq]</th>\n",
       "      <th>climate change - GWP 100a, incl. H and bio CO2[kg CO2-Eq]</th>\n",
       "      <th>climate change - pGWP100[kg CO2-Eq]</th>\n",
       "    </tr>\n",
       "  </thead>\n",
       "  <tbody>\n",
       "    <tr>\n",
       "      <th>V1A_g-truck ICEV-d Vehicle Production__wh__remind_SSP5-Base_2050</th>\n",
       "      <td>95006.381889</td>\n",
       "      <td>98170.079895</td>\n",
       "      <td>96562.311548</td>\n",
       "    </tr>\n",
       "  </tbody>\n",
       "</table>\n",
       "</div>"
      ],
      "text/plain": [
       "                                                    climate change no LT - global warming potential (GWP100) no LT[kg CO2-Eq]  \\\n",
       "V1A_g-truck ICEV-d Vehicle Production__wh__remi...                                       95006.381889                           \n",
       "\n",
       "                                                    climate change - GWP 100a, incl. H and bio CO2[kg CO2-Eq]  \\\n",
       "V1A_g-truck ICEV-d Vehicle Production__wh__remi...                                       98170.079895           \n",
       "\n",
       "                                                    climate change - pGWP100[kg CO2-Eq]  \n",
       "V1A_g-truck ICEV-d Vehicle Production__wh__remi...                         96562.311548  "
      ]
     },
     "metadata": {},
     "output_type": "display_data"
    }
   ],
   "source": [
    "#final output to be appended\n",
    "gtruck_lcia_dict = {}\n",
    "GWP0_list, GWP1_list, GWP2_list, SSP_list, Year_list = [], [],[],[],[]\n",
    "\n",
    "for gtruck_final in icevgtruck_finalallsspyear:\n",
    "    # need a matched YearlyParams for each SSPx:\n",
    "    str1 = gtruck_final.as_dict()[\"name\"]\n",
    "    str2 = str1.split(\"remind_\")[1]\n",
    "    year_to_get_inP = int( str2.split(\"_\")[-1] )\n",
    "    ssp_remind = str2.split(\"_\")[0] \n",
    "    ssp_to_get_inP = ssp_remind_Pname_map.get(ssp_remind)\n",
    "    \n",
    "    yearlyParams = loadYearlyParams_multisheet(PARAMS_FILE = p_file, s_name = ['V1A_g_truck'], years = [year_to_get_inP], SSP = ssp_to_get_inP) \n",
    "    print(f\"for SSP {ssp_to_get_inP}, year {year_to_get_inP}, P:  {yearlyParams}\" ) \n",
    "    \n",
    "\n",
    "    \"\"\" prepare methods: GWP1_list using static GWP,  GWP2_list using the pGWP100 for the matched v_year \"\"\" \n",
    "    for pp in pgwp100: \n",
    "        if re.findall(r'\\d+', ssp_to_get_inP)[0] in str(pp)  and str(year_to_get_inP) in str(pp): \n",
    "           gwp_spx_yt = pp \n",
    "        \n",
    "    methods_touse = [chosen_methods[0], chosen_methods[1], gwp_spx_yt] # IPCCGWP100, premiseGWP, pGWP100_per_premiseGWP\n",
    "    \n",
    "    df = agb.multiLCAAlgebric(models=[\n",
    "                        (gtruck_final, 1)], \n",
    "                        methods = methods_touse ,\n",
    "                        **yearlyParams\n",
    "                    )\n",
    "                    \n",
    "    print(f\"end of running LCA calc for SSP {ssp_to_get_inP} and year {year_to_get_inP} for {gtruck_final} \")\n",
    "    display(df)\n",
    "        \n",
    "    # prepare for final DF: \n",
    "    GWP0 = df.iloc[:,0].values[0]\n",
    "    GWP1 = df.iloc[:,1].values[0]\n",
    "    GWP2 = df.iloc[:,2].values[0]\n",
    "    GWP0_list.append(GWP0)\n",
    "    GWP1_list.append(GWP1)\n",
    "    GWP2_list.append(GWP2)\n",
    "    SSP_list.append(ssp_to_get_inP) \n",
    "    Year_list.append(year_to_get_inP)\n",
    "\n",
    "    # assign df as value to each UPR name (used as key)\n",
    "    gtruck_lcia_dict[str1] = df"
   ]
  },
  {
   "cell_type": "code",
   "execution_count": 10,
   "id": "cfa198ed-9c1e-4c40-8010-e4b67c77c3b8",
   "metadata": {},
   "outputs": [
    {
     "data": {
      "text/html": [
       "<div>\n",
       "<style scoped>\n",
       "    .dataframe tbody tr th:only-of-type {\n",
       "        vertical-align: middle;\n",
       "    }\n",
       "\n",
       "    .dataframe tbody tr th {\n",
       "        vertical-align: top;\n",
       "    }\n",
       "\n",
       "    .dataframe thead th {\n",
       "        text-align: right;\n",
       "    }\n",
       "</style>\n",
       "<table border=\"1\" class=\"dataframe\">\n",
       "  <thead>\n",
       "    <tr style=\"text-align: right;\">\n",
       "      <th></th>\n",
       "      <th>SSP</th>\n",
       "      <th>Year</th>\n",
       "      <th>IPCC_GWP100</th>\n",
       "      <th>premise_GWP100</th>\n",
       "      <th>pGWP100</th>\n",
       "    </tr>\n",
       "  </thead>\n",
       "  <tbody>\n",
       "    <tr>\n",
       "      <th>0</th>\n",
       "      <td>ssp119</td>\n",
       "      <td>2030</td>\n",
       "      <td>98438.795525</td>\n",
       "      <td>101192.073576</td>\n",
       "      <td>99125.053226</td>\n",
       "    </tr>\n",
       "    <tr>\n",
       "      <th>1</th>\n",
       "      <td>ssp119</td>\n",
       "      <td>2040</td>\n",
       "      <td>87588.259380</td>\n",
       "      <td>88860.703452</td>\n",
       "      <td>87556.976391</td>\n",
       "    </tr>\n",
       "    <tr>\n",
       "      <th>2</th>\n",
       "      <td>ssp119</td>\n",
       "      <td>2050</td>\n",
       "      <td>84479.855746</td>\n",
       "      <td>83778.524593</td>\n",
       "      <td>82663.226564</td>\n",
       "    </tr>\n",
       "    <tr>\n",
       "      <th>3</th>\n",
       "      <td>ssp126</td>\n",
       "      <td>2030</td>\n",
       "      <td>109119.170199</td>\n",
       "      <td>112279.012999</td>\n",
       "      <td>110859.387361</td>\n",
       "    </tr>\n",
       "    <tr>\n",
       "      <th>4</th>\n",
       "      <td>ssp126</td>\n",
       "      <td>2040</td>\n",
       "      <td>97878.417525</td>\n",
       "      <td>101093.944727</td>\n",
       "      <td>99829.741166</td>\n",
       "    </tr>\n",
       "    <tr>\n",
       "      <th>5</th>\n",
       "      <td>ssp126</td>\n",
       "      <td>2050</td>\n",
       "      <td>90469.087132</td>\n",
       "      <td>93527.653790</td>\n",
       "      <td>92371.133833</td>\n",
       "    </tr>\n",
       "    <tr>\n",
       "      <th>6</th>\n",
       "      <td>ssp245</td>\n",
       "      <td>2030</td>\n",
       "      <td>114930.409045</td>\n",
       "      <td>118034.668417</td>\n",
       "      <td>115226.970692</td>\n",
       "    </tr>\n",
       "    <tr>\n",
       "      <th>7</th>\n",
       "      <td>ssp245</td>\n",
       "      <td>2040</td>\n",
       "      <td>104599.685668</td>\n",
       "      <td>107803.595647</td>\n",
       "      <td>106102.075150</td>\n",
       "    </tr>\n",
       "    <tr>\n",
       "      <th>8</th>\n",
       "      <td>ssp245</td>\n",
       "      <td>2050</td>\n",
       "      <td>97562.766626</td>\n",
       "      <td>100837.469129</td>\n",
       "      <td>99868.612059</td>\n",
       "    </tr>\n",
       "    <tr>\n",
       "      <th>9</th>\n",
       "      <td>ssp585</td>\n",
       "      <td>2030</td>\n",
       "      <td>119818.908461</td>\n",
       "      <td>122824.628623</td>\n",
       "      <td>119240.283299</td>\n",
       "    </tr>\n",
       "    <tr>\n",
       "      <th>10</th>\n",
       "      <td>ssp585</td>\n",
       "      <td>2040</td>\n",
       "      <td>116338.825106</td>\n",
       "      <td>119487.611510</td>\n",
       "      <td>116288.671070</td>\n",
       "    </tr>\n",
       "    <tr>\n",
       "      <th>11</th>\n",
       "      <td>ssp585</td>\n",
       "      <td>2050</td>\n",
       "      <td>95006.381889</td>\n",
       "      <td>98170.079895</td>\n",
       "      <td>96562.311548</td>\n",
       "    </tr>\n",
       "  </tbody>\n",
       "</table>\n",
       "</div>"
      ],
      "text/plain": [
       "       SSP  Year    IPCC_GWP100  premise_GWP100        pGWP100\n",
       "0   ssp119  2030   98438.795525   101192.073576   99125.053226\n",
       "1   ssp119  2040   87588.259380    88860.703452   87556.976391\n",
       "2   ssp119  2050   84479.855746    83778.524593   82663.226564\n",
       "3   ssp126  2030  109119.170199   112279.012999  110859.387361\n",
       "4   ssp126  2040   97878.417525   101093.944727   99829.741166\n",
       "5   ssp126  2050   90469.087132    93527.653790   92371.133833\n",
       "6   ssp245  2030  114930.409045   118034.668417  115226.970692\n",
       "7   ssp245  2040  104599.685668   107803.595647  106102.075150\n",
       "8   ssp245  2050   97562.766626   100837.469129   99868.612059\n",
       "9   ssp585  2030  119818.908461   122824.628623  119240.283299\n",
       "10  ssp585  2040  116338.825106   119487.611510  116288.671070\n",
       "11  ssp585  2050   95006.381889    98170.079895   96562.311548"
      ]
     },
     "execution_count": 10,
     "metadata": {},
     "output_type": "execute_result"
    }
   ],
   "source": [
    "lcia_icevd = pd.DataFrame(zip(SSP_list, Year_list, GWP0_list, GWP1_list, GWP2_list), columns = [\"SSP\",\"Year\", \"IPCC_GWP100\", \"premise_GWP100\", \"pGWP100\"])\n",
    "lcia_icevd"
   ]
  },
  {
   "cell_type": "markdown",
   "id": "7acfc102-052b-465d-bad0-efef26af6452",
   "metadata": {},
   "source": [
    "#### maximum diff. is only 3% for ICEV : ssp585\tv_year[2030]"
   ]
  },
  {
   "cell_type": "code",
   "execution_count": 11,
   "id": "0d75d658-c621-4c76-a7be-855fe5a866cd",
   "metadata": {},
   "outputs": [
    {
     "data": {
      "text/plain": [
       "0     0.020427\n",
       "1     0.014672\n",
       "2     0.013312\n",
       "3     0.012644\n",
       "4     0.012505\n",
       "5     0.012366\n",
       "6     0.023787\n",
       "7     0.015784\n",
       "8     0.009608\n",
       "9     0.029183\n",
       "10    0.026772\n",
       "11    0.016377\n",
       "dtype: float64"
      ]
     },
     "execution_count": 11,
     "metadata": {},
     "output_type": "execute_result"
    }
   ],
   "source": [
    "(lcia_icevd[\"premise_GWP100\"] - lcia_icevd[\"pGWP100\"] )/ lcia_icevd[\"premise_GWP100\"]"
   ]
  },
  {
   "cell_type": "code",
   "execution_count": 12,
   "id": "93ddddd0-608f-43fe-815a-07251ab78093",
   "metadata": {},
   "outputs": [],
   "source": [
    "lcia_icevd.to_excel(\"output/ICEVd_V1A.xlsx\",index=False)"
   ]
  },
  {
   "cell_type": "code",
   "execution_count": null,
   "id": "6ef8f1a9-0395-4acf-95ed-2c0e84634c06",
   "metadata": {},
   "outputs": [],
   "source": []
  }
 ],
 "metadata": {
  "kernelspec": {
   "display_name": "Python 3 (ipykernel)",
   "language": "python",
   "name": "python3"
  },
  "language_info": {
   "codemirror_mode": {
    "name": "ipython",
    "version": 3
   },
   "file_extension": ".py",
   "mimetype": "text/x-python",
   "name": "python",
   "nbconvert_exporter": "python",
   "pygments_lexer": "ipython3",
   "version": "3.9.18"
  }
 },
 "nbformat": 4,
 "nbformat_minor": 5
}
