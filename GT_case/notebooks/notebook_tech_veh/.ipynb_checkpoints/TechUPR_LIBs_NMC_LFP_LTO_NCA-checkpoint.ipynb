{
 "cells": [
  {
   "cell_type": "code",
   "execution_count": 1,
   "id": "2053ae1b-baaf-48cb-b8d6-b659c944c02d",
   "metadata": {
    "scrolled": true
   },
   "outputs": [],
   "source": [
    "import os\n",
    "from lca_algebraic import initProject\n",
    "import pandas as pd\n",
    "import numpy as np\n",
    "import lca_algebraic as agb\n",
    "from lca_algebraic import *\n",
    "from lca_algebraic.stats import * \n",
    "import bw2data, bw2io\n",
    "import bw2calc\n",
    "from premise import *\n",
    "import premise as prm\n",
    "from premise.geomap import Geomap\n",
    "import pickle\n",
    "from itertools import product \n",
    "from IPython.display import display\n",
    "import sys \n",
    "#from premise_gwp import add_premise_gwp"
   ]
  },
  {
   "cell_type": "code",
   "execution_count": 2,
   "id": "6e99722c-2c2c-435a-b411-74c010e9eca1",
   "metadata": {},
   "outputs": [
    {
     "name": "stdout",
     "output_type": "stream",
     "text": [
      "modify the setup.py file for reading Parameter excel sheet. here we use 'data/p_file/p_tech_perSSP_Y.xlsx' as the technology parameter file.  \n",
      "Define your chosen methods in the setup.py file. Current methods are:  [('IPCC 2021 no LT', 'climate change no LT', 'global warming potential (GWP100) no LT'), ('IPCC 2021', 'climate change', 'GWP 100a, incl. H and bio CO2')]\n",
      "Mapping premise_remind_DB to SSPx:  {'SSP1-PkBudg500': 'ssp119', 'SSP1-PkBudg1150': 'ssp126', 'SSP2-Base': 'ssp245', 'SSP5-Base': 'ssp585'}\n",
      "~~~~~~~~~~~~~~~~~~~~~~~~~~~~~~~~~~~~~~~~~~~~~~~~~~~~~~~~~~~~~~~~~~~~~~~~~~~~~~~~~~~~~~~~~~~~~~~~~~~~~~~~~~\n",
      "utils.switchElec is to update an UPRs with the switch elec parameter, allow users to switch manuf. electricity grid per their defined locations - market group or grid-specific\n"
     ]
    }
   ],
   "source": [
    "sys.path.append('/Users/susierwu/Dropbox/DLCA_DynCO2/pdpLCA_GT/') \n",
    "from utils import *\n",
    "from utils.setup import *\n",
    "from utils.setup import chosen_methods\n",
    "from utils.getAct import *\n",
    "from utils.utils import *\n",
    "from utils.switchElec import *"
   ]
  },
  {
   "cell_type": "code",
   "execution_count": 3,
   "id": "5fbcb53c-6ebc-440f-95af-9b6b1c9ca3c2",
   "metadata": {},
   "outputs": [
    {
     "name": "stdout",
     "output_type": "stream",
     "text": [
      "Biosphere database already present!!! No setup is needed\n"
     ]
    }
   ],
   "source": [
    "#bw2data.projects\n",
    "bw2data.projects.set_current('iveo_v1')\n",
    "mybio = bw2data.Database(\"biosphere3\")\n",
    "initProject(\"iveo_v1\")"
   ]
  },
  {
   "cell_type": "markdown",
   "id": "32de1592-6a12-4493-aa0d-198efc12be61",
   "metadata": {},
   "source": [
    "### init project"
   ]
  },
  {
   "cell_type": "code",
   "execution_count": 4,
   "id": "7c3200fa-ef0e-49ad-95aa-592641df254b",
   "metadata": {},
   "outputs": [
    {
     "name": "stdout",
     "output_type": "stream",
     "text": [
      "322 iveo_Parameterized_v1\n"
     ]
    }
   ],
   "source": [
    "pdb = bw2data.Database(PDB_NAME)\n",
    "print(len(pdb), PDB_NAME)"
   ]
  },
  {
   "cell_type": "code",
   "execution_count": 5,
   "id": "3326053e-d0c3-4acc-aa8d-bcaeb3c23a7a",
   "metadata": {},
   "outputs": [
    {
     "data": {
      "text/html": [],
      "text/plain": [
       "<IPython.core.display.HTML object>"
      ]
     },
     "execution_count": 5,
     "metadata": {},
     "output_type": "execute_result"
    }
   ],
   "source": [
    "# use .loadParams if happy with P already defined\n",
    "resetParams()\n",
    "agb.loadParams()\n",
    "agb.list_parameters()"
   ]
  },
  {
   "attachments": {},
   "cell_type": "markdown",
   "id": "28dc7ddb-64a9-43ac-af19-2438e55ddaff",
   "metadata": {},
   "source": [
    "## A. agb, prepare tech (LIB_NMC622 , NCA, LFP, LTO) ) UPR, copy from premise, then convert FU kg to kWh "
   ]
  },
  {
   "cell_type": "markdown",
   "id": "02ddc233-7b1c-4d46-b035-b7e0e7c8e2e6",
   "metadata": {},
   "source": [
    "### A.0_parameters for LIBs (FU per kWh), sheet\"V1B_bat_prmLIBs_perkWh\", P group \"battery\": "
   ]
  },
  {
   "cell_type": "code",
   "execution_count": 6,
   "id": "2ec94d9d-7185-4a6b-a3c3-cadce5a14311",
   "metadata": {},
   "outputs": [
    {
     "name": "stderr",
     "output_type": "stream",
     "text": [
      "Warning : param 'NMC622_battery_cell_density' linked to root project instead of a specific DB\n",
      "Warning : param 'NCA_battery_cell_density' linked to root project instead of a specific DB\n",
      "Warning : param 'LFP_battery_cell_density' linked to root project instead of a specific DB\n",
      "Warning : param 'LTO_battery_cell_density' linked to root project instead of a specific DB\n"
     ]
    },
    {
     "data": {
      "text/plain": [
       "'\\nLTO_cell_perkgBat_massratio = newFloatParam(\\n        name=\"LTO_cell_perkgBat_massratio\",\\n        default=0.6,   \\n        min=0.5,\\n        max=0.7,\\n        distrib=stats.DistributionType.TRIANGLE,\\n        group=\"battery\",\\n        unit=\"unitless\",\\n    )\\n'"
      ]
     },
     "execution_count": 6,
     "metadata": {},
     "output_type": "execute_result"
    }
   ],
   "source": [
    "NMC622_battery_cell_density = newFloatParam(\n",
    "        name=\"NMC622_battery_cell_density\",\n",
    "        default=0.29161,   \n",
    "        min=0.25,\n",
    "        max=0.426946201,\n",
    "        distrib=stats.DistributionType.TRIANGLE,\n",
    "        group=\"battery\",\n",
    "        # label =  \n",
    "        unit=\"kWh/kg\",\n",
    "    )\n",
    "\n",
    "NMC_cell_neededkg_perkWh = 1/NMC622_battery_cell_density   \n",
    "\n",
    "\"\"\"\n",
    "NMC622_cell_perkgBat_massratio = newFloatParam(\n",
    "        name=\"NMC622_cell_perkgBat_massratio\",\n",
    "        default=0.6,   \n",
    "        min=0.5,\n",
    "        max=0.7,\n",
    "        distrib=stats.DistributionType.TRIANGLE,\n",
    "        group=\"battery\",\n",
    "        unit=\"unitless\",\n",
    "    )\n",
    "\"\"\"\n",
    "\n",
    "NCA_battery_cell_density = newFloatParam(\n",
    "        name=\"NCA_battery_cell_density\",\n",
    "        default=0.303589,   \n",
    "        min=0.25,\n",
    "        max=0.444484655,\n",
    "        distrib=stats.DistributionType.TRIANGLE,\n",
    "        group=\"battery\",\n",
    "        unit=\"kWh/kg\",\n",
    "    )\n",
    "\n",
    "LFP_battery_cell_density = newFloatParam(\n",
    "        name=\"LFP_battery_cell_density\",\n",
    "        default=0.21054,   \n",
    "        min=0.2,\n",
    "        max=0.308251614,\n",
    "        distrib=stats.DistributionType.TRIANGLE,\n",
    "        group=\"battery\",\n",
    "        unit=\"kWh/kg\",\n",
    "    )\n",
    "\n",
    "LTO_battery_cell_density = newFloatParam(\n",
    "        name=\"LTO_battery_cell_density\",\n",
    "        default=0.21054,   \n",
    "        min=0.2,\n",
    "        max=0.308251614,\n",
    "        distrib=stats.DistributionType.TRIANGLE,\n",
    "        group=\"battery\",\n",
    "        unit=\"kWh/kg\",\n",
    "    )\n",
    "\n",
    "\n",
    "\"\"\"\n",
    "LTO_cell_perkgBat_massratio = newFloatParam(\n",
    "        name=\"LTO_cell_perkgBat_massratio\",\n",
    "        default=0.6,   \n",
    "        min=0.5,\n",
    "        max=0.7,\n",
    "        distrib=stats.DistributionType.TRIANGLE,\n",
    "        group=\"battery\",\n",
    "        unit=\"unitless\",\n",
    "    )\n",
    "\"\"\""
   ]
  },
  {
   "cell_type": "markdown",
   "id": "bad86972-a4d0-41f2-8ae4-deac26405829",
   "metadata": {},
   "source": [
    "## A.1 NMC:: add cell + BoP  -> final battery pack per kWh"
   ]
  },
  {
   "cell_type": "code",
   "execution_count": 7,
   "id": "768d4b5d-6ac5-4880-9171-79def951ae1c",
   "metadata": {},
   "outputs": [
    {
     "name": "stderr",
     "output_type": "stream",
     "text": [
      "Activity 'V1B_NMC622_battery_final_battery_pack_perkWh_wh__remind_SSP1-PkBudg500_2030' was already in 'iveo_Parameterized_v1'. Overwriting it\n"
     ]
    },
    {
     "name": "stdout",
     "output_type": "stream",
     "text": [
      "end of creating a new UPR for NMC622 final battery pack for SSP _remind_SSP1-PkBudg500 and year 2030, relying on BD ecoinvent_cutoff_3.9_remind_SSP1-PkBudg500_2030\n"
     ]
    },
    {
     "name": "stderr",
     "output_type": "stream",
     "text": [
      "Activity 'V1B_NMC622_battery_final_battery_pack_perkWh_wh__remind_SSP1-PkBudg500_2040' was already in 'iveo_Parameterized_v1'. Overwriting it\n"
     ]
    },
    {
     "name": "stdout",
     "output_type": "stream",
     "text": [
      "end of creating a new UPR for NMC622 final battery pack for SSP _remind_SSP1-PkBudg500 and year 2040, relying on BD ecoinvent_cutoff_3.9_remind_SSP1-PkBudg500_2040\n"
     ]
    },
    {
     "name": "stderr",
     "output_type": "stream",
     "text": [
      "Activity 'V1B_NMC622_battery_final_battery_pack_perkWh_wh__remind_SSP1-PkBudg500_2050' was already in 'iveo_Parameterized_v1'. Overwriting it\n"
     ]
    },
    {
     "name": "stdout",
     "output_type": "stream",
     "text": [
      "end of creating a new UPR for NMC622 final battery pack for SSP _remind_SSP1-PkBudg500 and year 2050, relying on BD ecoinvent_cutoff_3.9_remind_SSP1-PkBudg500_2050\n"
     ]
    },
    {
     "name": "stderr",
     "output_type": "stream",
     "text": [
      "Activity 'V1B_NMC622_battery_final_battery_pack_perkWh_wh__remind_SSP1-PkBudg1150_2030' was already in 'iveo_Parameterized_v1'. Overwriting it\n"
     ]
    },
    {
     "name": "stdout",
     "output_type": "stream",
     "text": [
      "end of creating a new UPR for NMC622 final battery pack for SSP _remind_SSP1-PkBudg1150 and year 2030, relying on BD ecoinvent_cutoff_3.9_remind_SSP1-PkBudg1150_2030\n"
     ]
    },
    {
     "name": "stderr",
     "output_type": "stream",
     "text": [
      "Activity 'V1B_NMC622_battery_final_battery_pack_perkWh_wh__remind_SSP1-PkBudg1150_2040' was already in 'iveo_Parameterized_v1'. Overwriting it\n"
     ]
    },
    {
     "name": "stdout",
     "output_type": "stream",
     "text": [
      "end of creating a new UPR for NMC622 final battery pack for SSP _remind_SSP1-PkBudg1150 and year 2040, relying on BD ecoinvent_cutoff_3.9_remind_SSP1-PkBudg1150_2040\n"
     ]
    },
    {
     "name": "stderr",
     "output_type": "stream",
     "text": [
      "Activity 'V1B_NMC622_battery_final_battery_pack_perkWh_wh__remind_SSP1-PkBudg1150_2050' was already in 'iveo_Parameterized_v1'. Overwriting it\n"
     ]
    },
    {
     "name": "stdout",
     "output_type": "stream",
     "text": [
      "end of creating a new UPR for NMC622 final battery pack for SSP _remind_SSP1-PkBudg1150 and year 2050, relying on BD ecoinvent_cutoff_3.9_remind_SSP1-PkBudg1150_2050\n"
     ]
    },
    {
     "name": "stderr",
     "output_type": "stream",
     "text": [
      "Activity 'V1B_NMC622_battery_final_battery_pack_perkWh_wh__remind_SSP2-Base_2030' was already in 'iveo_Parameterized_v1'. Overwriting it\n"
     ]
    },
    {
     "name": "stdout",
     "output_type": "stream",
     "text": [
      "end of creating a new UPR for NMC622 final battery pack for SSP _remind_SSP2-Base and year 2030, relying on BD ecoinvent_cutoff_3.9_remind_SSP2-Base_2030\n"
     ]
    },
    {
     "name": "stderr",
     "output_type": "stream",
     "text": [
      "Activity 'V1B_NMC622_battery_final_battery_pack_perkWh_wh__remind_SSP2-Base_2040' was already in 'iveo_Parameterized_v1'. Overwriting it\n"
     ]
    },
    {
     "name": "stdout",
     "output_type": "stream",
     "text": [
      "end of creating a new UPR for NMC622 final battery pack for SSP _remind_SSP2-Base and year 2040, relying on BD ecoinvent_cutoff_3.9_remind_SSP2-Base_2040\n"
     ]
    },
    {
     "name": "stderr",
     "output_type": "stream",
     "text": [
      "Activity 'V1B_NMC622_battery_final_battery_pack_perkWh_wh__remind_SSP2-Base_2050' was already in 'iveo_Parameterized_v1'. Overwriting it\n"
     ]
    },
    {
     "name": "stdout",
     "output_type": "stream",
     "text": [
      "end of creating a new UPR for NMC622 final battery pack for SSP _remind_SSP2-Base and year 2050, relying on BD ecoinvent_cutoff_3.9_remind_SSP2-Base_2050\n"
     ]
    },
    {
     "name": "stderr",
     "output_type": "stream",
     "text": [
      "Activity 'V1B_NMC622_battery_final_battery_pack_perkWh_wh__remind_SSP5-Base_2030' was already in 'iveo_Parameterized_v1'. Overwriting it\n"
     ]
    },
    {
     "name": "stdout",
     "output_type": "stream",
     "text": [
      "end of creating a new UPR for NMC622 final battery pack for SSP _remind_SSP5-Base and year 2030, relying on BD ecoinvent_cutoff_3.9_remind_SSP5-Base_2030\n"
     ]
    },
    {
     "name": "stderr",
     "output_type": "stream",
     "text": [
      "Activity 'V1B_NMC622_battery_final_battery_pack_perkWh_wh__remind_SSP5-Base_2040' was already in 'iveo_Parameterized_v1'. Overwriting it\n"
     ]
    },
    {
     "name": "stdout",
     "output_type": "stream",
     "text": [
      "end of creating a new UPR for NMC622 final battery pack for SSP _remind_SSP5-Base and year 2040, relying on BD ecoinvent_cutoff_3.9_remind_SSP5-Base_2040\n",
      "end of creating a new UPR for NMC622 final battery pack for SSP _remind_SSP5-Base and year 2050, relying on BD ecoinvent_cutoff_3.9_remind_SSP5-Base_2050\n"
     ]
    },
    {
     "name": "stderr",
     "output_type": "stream",
     "text": [
      "Activity 'V1B_NMC622_battery_final_battery_pack_perkWh_wh__remind_SSP5-Base_2050' was already in 'iveo_Parameterized_v1'. Overwriting it\n"
     ]
    }
   ],
   "source": [
    "NMC_final_allsspyear = []\n",
    "for prm_name in ssp_scn:\n",
    "    for year_t in ssp_yr: \n",
    "        bg_db_ssp_yr = bg_ei_ + prm_name + \"_\" + str(year_t)            # backgroun database (BD) to use for SSP[x], Year[t]\n",
    "        copied_prm_UPR_suffix = \"_from_\" + prm_name + \"_\" + str(year_t) # copy UPR from BD to PDB for further use/modification if needed\n",
    "        newUPR_suffix =  \"_wh_\" + prm_name + \"_\" + str(year_t)          # naming on any new UPRs created in PDB\n",
    "        \n",
    "        # NCM final battery pack : need to add cell then BoP for final 1 kg of battery pack\n",
    "        BAT_NMC_battery_pack = agb.newActivity(\n",
    "                db_name=PDB_NAME,\n",
    "                name = \"V1B_NMC622 battery_final battery pack_perkWh\"  +  newUPR_suffix, loc = 'CA-QC', \n",
    "                code = \"V1B_NMC622_battery_final_battery_pack_perkWh\"  + newUPR_suffix, \n",
    "                unit=\"kWh\",\n",
    "                # NMC622_cell_perkgBat_massratio is assumed to be 0.6 per premise, not changing parameter\n",
    "                exchanges={\n",
    "                    agb.findActivity(\"battery cell, NMC-622\", loc = \"GLO\", db_name = bg_db_ssp_yr):  1*0.6 * (1/NMC622_battery_cell_density\t)   ,#the ratio using prm \"heavy duty truck, battery electric, NMC-622 battery, 32t gross weight\"     \n",
    "                    agb.findActivity('battery BoP', loc = 'GLO',  db_name = bg_db_ssp_yr): 1* (1-0.6)  * (1/NMC622_battery_cell_density\t)  ,   \n",
    "                },\n",
    "        )\n",
    "        \n",
    "        for exc in BAT_NMC_battery_pack.getExchange(name = \"*\", single=False): \n",
    "            exc['type']='technosphere'\n",
    "            exc.save()\n",
    "        BAT_NMC_battery_pack.setOutputAmount(1)\n",
    "                \n",
    "        #agb.printAct(BAT_NMC_battery_pack)\n",
    "        NMC_final_allsspyear.append(BAT_NMC_battery_pack)\n",
    "        print(f\"end of creating a new UPR for NMC622 final battery pack for SSP {prm_name} and year {year_t}, relying on BD {bg_db_ssp_yr}\")\n",
    "        "
   ]
  },
  {
   "cell_type": "markdown",
   "id": "7e9deaf1-c38b-487a-be52-1c79a877131f",
   "metadata": {},
   "source": [
    "## A.2 LFP:: final battery pack kWh\n",
    "- battery pack for LFP is already prepared \"market for battery, Li-ion, LFP, rechargeable, prismatic | GLO\" - ... production of 1 kg of Li-ion battery pack used e.g. for mechanical drive of an electric vehicle, so no need to seperately add cell + BoP "
   ]
  },
  {
   "cell_type": "code",
   "execution_count": 8,
   "id": "b965bad5-eec4-4c6a-a19f-ef26346aba43",
   "metadata": {},
   "outputs": [
    {
     "name": "stderr",
     "output_type": "stream",
     "text": [
      "Activity 'V1B_LFP_battery_final_battery_pack_perkWh_wh__remind_SSP1-PkBudg500_2030' was already in 'iveo_Parameterized_v1'. Overwriting it\n"
     ]
    },
    {
     "name": "stdout",
     "output_type": "stream",
     "text": [
      "end of creating a new UPR for LFP final battery pack for SSP _remind_SSP1-PkBudg500 and year 2030, relying on BD ecoinvent_cutoff_3.9_remind_SSP1-PkBudg500_2030\n"
     ]
    },
    {
     "name": "stderr",
     "output_type": "stream",
     "text": [
      "Activity 'V1B_LFP_battery_final_battery_pack_perkWh_wh__remind_SSP1-PkBudg500_2040' was already in 'iveo_Parameterized_v1'. Overwriting it\n"
     ]
    },
    {
     "name": "stdout",
     "output_type": "stream",
     "text": [
      "end of creating a new UPR for LFP final battery pack for SSP _remind_SSP1-PkBudg500 and year 2040, relying on BD ecoinvent_cutoff_3.9_remind_SSP1-PkBudg500_2040\n"
     ]
    },
    {
     "name": "stderr",
     "output_type": "stream",
     "text": [
      "Activity 'V1B_LFP_battery_final_battery_pack_perkWh_wh__remind_SSP1-PkBudg500_2050' was already in 'iveo_Parameterized_v1'. Overwriting it\n"
     ]
    },
    {
     "name": "stdout",
     "output_type": "stream",
     "text": [
      "end of creating a new UPR for LFP final battery pack for SSP _remind_SSP1-PkBudg500 and year 2050, relying on BD ecoinvent_cutoff_3.9_remind_SSP1-PkBudg500_2050\n"
     ]
    },
    {
     "name": "stderr",
     "output_type": "stream",
     "text": [
      "Activity 'V1B_LFP_battery_final_battery_pack_perkWh_wh__remind_SSP1-PkBudg1150_2030' was already in 'iveo_Parameterized_v1'. Overwriting it\n"
     ]
    },
    {
     "name": "stdout",
     "output_type": "stream",
     "text": [
      "end of creating a new UPR for LFP final battery pack for SSP _remind_SSP1-PkBudg1150 and year 2030, relying on BD ecoinvent_cutoff_3.9_remind_SSP1-PkBudg1150_2030\n"
     ]
    },
    {
     "name": "stderr",
     "output_type": "stream",
     "text": [
      "Activity 'V1B_LFP_battery_final_battery_pack_perkWh_wh__remind_SSP1-PkBudg1150_2040' was already in 'iveo_Parameterized_v1'. Overwriting it\n"
     ]
    },
    {
     "name": "stdout",
     "output_type": "stream",
     "text": [
      "end of creating a new UPR for LFP final battery pack for SSP _remind_SSP1-PkBudg1150 and year 2040, relying on BD ecoinvent_cutoff_3.9_remind_SSP1-PkBudg1150_2040\n"
     ]
    },
    {
     "name": "stderr",
     "output_type": "stream",
     "text": [
      "Activity 'V1B_LFP_battery_final_battery_pack_perkWh_wh__remind_SSP1-PkBudg1150_2050' was already in 'iveo_Parameterized_v1'. Overwriting it\n"
     ]
    },
    {
     "name": "stdout",
     "output_type": "stream",
     "text": [
      "end of creating a new UPR for LFP final battery pack for SSP _remind_SSP1-PkBudg1150 and year 2050, relying on BD ecoinvent_cutoff_3.9_remind_SSP1-PkBudg1150_2050\n"
     ]
    },
    {
     "name": "stderr",
     "output_type": "stream",
     "text": [
      "Activity 'V1B_LFP_battery_final_battery_pack_perkWh_wh__remind_SSP2-Base_2030' was already in 'iveo_Parameterized_v1'. Overwriting it\n"
     ]
    },
    {
     "name": "stdout",
     "output_type": "stream",
     "text": [
      "end of creating a new UPR for LFP final battery pack for SSP _remind_SSP2-Base and year 2030, relying on BD ecoinvent_cutoff_3.9_remind_SSP2-Base_2030\n"
     ]
    },
    {
     "name": "stderr",
     "output_type": "stream",
     "text": [
      "Activity 'V1B_LFP_battery_final_battery_pack_perkWh_wh__remind_SSP2-Base_2040' was already in 'iveo_Parameterized_v1'. Overwriting it\n"
     ]
    },
    {
     "name": "stdout",
     "output_type": "stream",
     "text": [
      "end of creating a new UPR for LFP final battery pack for SSP _remind_SSP2-Base and year 2040, relying on BD ecoinvent_cutoff_3.9_remind_SSP2-Base_2040\n"
     ]
    },
    {
     "name": "stderr",
     "output_type": "stream",
     "text": [
      "Activity 'V1B_LFP_battery_final_battery_pack_perkWh_wh__remind_SSP2-Base_2050' was already in 'iveo_Parameterized_v1'. Overwriting it\n"
     ]
    },
    {
     "name": "stdout",
     "output_type": "stream",
     "text": [
      "end of creating a new UPR for LFP final battery pack for SSP _remind_SSP2-Base and year 2050, relying on BD ecoinvent_cutoff_3.9_remind_SSP2-Base_2050\n"
     ]
    },
    {
     "name": "stderr",
     "output_type": "stream",
     "text": [
      "Activity 'V1B_LFP_battery_final_battery_pack_perkWh_wh__remind_SSP5-Base_2030' was already in 'iveo_Parameterized_v1'. Overwriting it\n"
     ]
    },
    {
     "name": "stdout",
     "output_type": "stream",
     "text": [
      "end of creating a new UPR for LFP final battery pack for SSP _remind_SSP5-Base and year 2030, relying on BD ecoinvent_cutoff_3.9_remind_SSP5-Base_2030\n"
     ]
    },
    {
     "name": "stderr",
     "output_type": "stream",
     "text": [
      "Activity 'V1B_LFP_battery_final_battery_pack_perkWh_wh__remind_SSP5-Base_2040' was already in 'iveo_Parameterized_v1'. Overwriting it\n"
     ]
    },
    {
     "name": "stdout",
     "output_type": "stream",
     "text": [
      "end of creating a new UPR for LFP final battery pack for SSP _remind_SSP5-Base and year 2040, relying on BD ecoinvent_cutoff_3.9_remind_SSP5-Base_2040\n"
     ]
    },
    {
     "name": "stderr",
     "output_type": "stream",
     "text": [
      "Activity 'V1B_LFP_battery_final_battery_pack_perkWh_wh__remind_SSP5-Base_2050' was already in 'iveo_Parameterized_v1'. Overwriting it\n"
     ]
    },
    {
     "name": "stdout",
     "output_type": "stream",
     "text": [
      "end of creating a new UPR for LFP final battery pack for SSP _remind_SSP5-Base and year 2050, relying on BD ecoinvent_cutoff_3.9_remind_SSP5-Base_2050\n"
     ]
    }
   ],
   "source": [
    "for prm_name in ssp_scn:\n",
    "    for year_t in ssp_yr: \n",
    "        bg_db_ssp_yr = bg_ei_ + prm_name + \"_\" + str(year_t)            # backgroun database (BD) to use for SSP[x], Year[t]\n",
    "        copied_prm_UPR_suffix = \"_from_\" + prm_name + \"_\" + str(year_t) # copy UPR from BD to PDB for further use/modification if needed\n",
    "        newUPR_suffix =  \"_wh_\" + prm_name + \"_\" + str(year_t)          # naming on any new UPRs created in PDB\n",
    "        \n",
    "        # LFP final battery pack directly from premise, \n",
    "        BAT_battery_pack = agb.newActivity(\n",
    "                db_name=PDB_NAME,\n",
    "                name = \"V1B_LFP battery_final battery pack_perkWh\"  +  newUPR_suffix, loc = 'CA-QC', \n",
    "                code = \"V1B_LFP_battery_final_battery_pack_perkWh\"  + newUPR_suffix, \n",
    "                unit=\"kWh\",\n",
    "                exchanges={\n",
    "                    agb.findActivity(\"market for battery, Li-ion, LFP, rechargeable, prismatic\", loc = \"GLO\", db_name = bg_db_ssp_yr): 1 * (1/LFP_battery_cell_density)    \n",
    "                },\n",
    "        )\n",
    "        \n",
    "        for exc in BAT_battery_pack.getExchange(name = \"*\", single=False): \n",
    "            exc['type']='technosphere'\n",
    "            exc.save()\n",
    "        BAT_battery_pack.setOutputAmount(1)\n",
    "                \n",
    "        #agb.printAct(BAT_NMC_battery_pack)\n",
    "        print(f\"end of creating a new UPR for LFP final battery pack for SSP {prm_name} and year {year_t}, relying on BD {bg_db_ssp_yr}\")"
   ]
  },
  {
   "cell_type": "markdown",
   "id": "fc5f9c71-102c-49bd-98dc-11c198cfd541",
   "metadata": {},
   "source": [
    "## A.3 LTO:: add cell + BoP ==> final battery pack per kWh\n",
    "\n",
    "- similar to NMC, only \"battery cell, LTO\", no final bat pack like LFP, need to add in bat BoP "
   ]
  },
  {
   "cell_type": "code",
   "execution_count": 9,
   "id": "3366273e-5193-4271-9501-e645b7b44f8e",
   "metadata": {},
   "outputs": [
    {
     "name": "stderr",
     "output_type": "stream",
     "text": [
      "Activity 'V1B_LTO_battery_final_battery_pack_perkWh_wh__remind_SSP1-PkBudg500_2030' was already in 'iveo_Parameterized_v1'. Overwriting it\n"
     ]
    },
    {
     "name": "stdout",
     "output_type": "stream",
     "text": [
      "end of creating a new UPR for LTO final battery pack for SSP _remind_SSP1-PkBudg500 and year 2030, relying on BD ecoinvent_cutoff_3.9_remind_SSP1-PkBudg500_2030\n"
     ]
    },
    {
     "name": "stderr",
     "output_type": "stream",
     "text": [
      "Activity 'V1B_LTO_battery_final_battery_pack_perkWh_wh__remind_SSP1-PkBudg500_2040' was already in 'iveo_Parameterized_v1'. Overwriting it\n"
     ]
    },
    {
     "name": "stdout",
     "output_type": "stream",
     "text": [
      "end of creating a new UPR for LTO final battery pack for SSP _remind_SSP1-PkBudg500 and year 2040, relying on BD ecoinvent_cutoff_3.9_remind_SSP1-PkBudg500_2040\n"
     ]
    },
    {
     "name": "stderr",
     "output_type": "stream",
     "text": [
      "Activity 'V1B_LTO_battery_final_battery_pack_perkWh_wh__remind_SSP1-PkBudg500_2050' was already in 'iveo_Parameterized_v1'. Overwriting it\n"
     ]
    },
    {
     "name": "stdout",
     "output_type": "stream",
     "text": [
      "end of creating a new UPR for LTO final battery pack for SSP _remind_SSP1-PkBudg500 and year 2050, relying on BD ecoinvent_cutoff_3.9_remind_SSP1-PkBudg500_2050\n"
     ]
    },
    {
     "name": "stderr",
     "output_type": "stream",
     "text": [
      "Activity 'V1B_LTO_battery_final_battery_pack_perkWh_wh__remind_SSP1-PkBudg1150_2030' was already in 'iveo_Parameterized_v1'. Overwriting it\n"
     ]
    },
    {
     "name": "stdout",
     "output_type": "stream",
     "text": [
      "end of creating a new UPR for LTO final battery pack for SSP _remind_SSP1-PkBudg1150 and year 2030, relying on BD ecoinvent_cutoff_3.9_remind_SSP1-PkBudg1150_2030\n"
     ]
    },
    {
     "name": "stderr",
     "output_type": "stream",
     "text": [
      "Activity 'V1B_LTO_battery_final_battery_pack_perkWh_wh__remind_SSP1-PkBudg1150_2040' was already in 'iveo_Parameterized_v1'. Overwriting it\n"
     ]
    },
    {
     "name": "stdout",
     "output_type": "stream",
     "text": [
      "end of creating a new UPR for LTO final battery pack for SSP _remind_SSP1-PkBudg1150 and year 2040, relying on BD ecoinvent_cutoff_3.9_remind_SSP1-PkBudg1150_2040\n"
     ]
    },
    {
     "name": "stderr",
     "output_type": "stream",
     "text": [
      "Activity 'V1B_LTO_battery_final_battery_pack_perkWh_wh__remind_SSP1-PkBudg1150_2050' was already in 'iveo_Parameterized_v1'. Overwriting it\n"
     ]
    },
    {
     "name": "stdout",
     "output_type": "stream",
     "text": [
      "end of creating a new UPR for LTO final battery pack for SSP _remind_SSP1-PkBudg1150 and year 2050, relying on BD ecoinvent_cutoff_3.9_remind_SSP1-PkBudg1150_2050\n"
     ]
    },
    {
     "name": "stderr",
     "output_type": "stream",
     "text": [
      "Activity 'V1B_LTO_battery_final_battery_pack_perkWh_wh__remind_SSP2-Base_2030' was already in 'iveo_Parameterized_v1'. Overwriting it\n"
     ]
    },
    {
     "name": "stdout",
     "output_type": "stream",
     "text": [
      "end of creating a new UPR for LTO final battery pack for SSP _remind_SSP2-Base and year 2030, relying on BD ecoinvent_cutoff_3.9_remind_SSP2-Base_2030\n"
     ]
    },
    {
     "name": "stderr",
     "output_type": "stream",
     "text": [
      "Activity 'V1B_LTO_battery_final_battery_pack_perkWh_wh__remind_SSP2-Base_2040' was already in 'iveo_Parameterized_v1'. Overwriting it\n"
     ]
    },
    {
     "name": "stdout",
     "output_type": "stream",
     "text": [
      "end of creating a new UPR for LTO final battery pack for SSP _remind_SSP2-Base and year 2040, relying on BD ecoinvent_cutoff_3.9_remind_SSP2-Base_2040\n"
     ]
    },
    {
     "name": "stderr",
     "output_type": "stream",
     "text": [
      "Activity 'V1B_LTO_battery_final_battery_pack_perkWh_wh__remind_SSP2-Base_2050' was already in 'iveo_Parameterized_v1'. Overwriting it\n"
     ]
    },
    {
     "name": "stdout",
     "output_type": "stream",
     "text": [
      "end of creating a new UPR for LTO final battery pack for SSP _remind_SSP2-Base and year 2050, relying on BD ecoinvent_cutoff_3.9_remind_SSP2-Base_2050\n"
     ]
    },
    {
     "name": "stderr",
     "output_type": "stream",
     "text": [
      "Activity 'V1B_LTO_battery_final_battery_pack_perkWh_wh__remind_SSP5-Base_2030' was already in 'iveo_Parameterized_v1'. Overwriting it\n"
     ]
    },
    {
     "name": "stdout",
     "output_type": "stream",
     "text": [
      "end of creating a new UPR for LTO final battery pack for SSP _remind_SSP5-Base and year 2030, relying on BD ecoinvent_cutoff_3.9_remind_SSP5-Base_2030\n"
     ]
    },
    {
     "name": "stderr",
     "output_type": "stream",
     "text": [
      "Activity 'V1B_LTO_battery_final_battery_pack_perkWh_wh__remind_SSP5-Base_2040' was already in 'iveo_Parameterized_v1'. Overwriting it\n"
     ]
    },
    {
     "name": "stdout",
     "output_type": "stream",
     "text": [
      "end of creating a new UPR for LTO final battery pack for SSP _remind_SSP5-Base and year 2040, relying on BD ecoinvent_cutoff_3.9_remind_SSP5-Base_2040\n"
     ]
    },
    {
     "name": "stderr",
     "output_type": "stream",
     "text": [
      "Activity 'V1B_LTO_battery_final_battery_pack_perkWh_wh__remind_SSP5-Base_2050' was already in 'iveo_Parameterized_v1'. Overwriting it\n"
     ]
    },
    {
     "name": "stdout",
     "output_type": "stream",
     "text": [
      "end of creating a new UPR for LTO final battery pack for SSP _remind_SSP5-Base and year 2050, relying on BD ecoinvent_cutoff_3.9_remind_SSP5-Base_2050\n"
     ]
    }
   ],
   "source": [
    "for prm_name in ssp_scn:\n",
    "    for year_t in ssp_yr: \n",
    "        bg_db_ssp_yr = bg_ei_ + prm_name + \"_\" + str(year_t)            # backgroun database (BD) to use for SSP[x], Year[t]\n",
    "        copied_prm_UPR_suffix = \"_from_\" + prm_name + \"_\" + str(year_t) # copy UPR from BD to PDB for further use/modification if needed\n",
    "        newUPR_suffix =  \"_wh_\" + prm_name + \"_\" + str(year_t)          # naming on any new UPRs created in PDB\n",
    "        \n",
    "        # NCM final battery pack : need to add cell then BoP for final 1 kg of battery pack\n",
    "        BAT_battery_pack = agb.newActivity(\n",
    "                db_name=PDB_NAME,\n",
    "                name = \"V1B_LTO battery_final battery pack_perkWh\"  +  newUPR_suffix, loc = 'CA-QC', \n",
    "                code = \"V1B_LTO_battery_final_battery_pack_perkWh\"  + newUPR_suffix, \n",
    "                unit=\"kWh\",\n",
    "                #LTO_cell_perkgBat_massratio same value 0.6 as NMC622\n",
    "                exchanges={\n",
    "                    agb.findActivity(\"battery cell, LTO\", loc = \"GLO\", db_name = bg_db_ssp_yr):  1 * 0.6  * (1/LTO_battery_cell_density)   ,#the ratio using prm \"heavy duty truck, battery electric, NMC-622 battery, 32t gross weight\"     \n",
    "                    agb.findActivity('battery BoP', loc = 'GLO',  db_name = bg_db_ssp_yr): 1 * (1 - 0.6) * (1/LTO_battery_cell_density) ,   \n",
    "                },\n",
    "        )\n",
    "        \n",
    "        for exc in BAT_battery_pack.getExchange(name = \"*\", single=False): \n",
    "            exc['type']='technosphere'\n",
    "            exc.save()\n",
    "        BAT_battery_pack.setOutputAmount(1)\n",
    "                \n",
    "        print(f\"end of creating a new UPR for LTO final battery pack for SSP {prm_name} and year {year_t}, relying on BD {bg_db_ssp_yr}\")\n",
    "        "
   ]
  },
  {
   "cell_type": "markdown",
   "id": "4274b801-7e30-4572-bca2-62684763d276",
   "metadata": {},
   "source": [
    "## A.4 NCA::  final bat pack kWh\n",
    "similar to LFP, battery pack available  \"market for battery, Li-ion, NCA, rechargeable, prismatic\""
   ]
  },
  {
   "cell_type": "code",
   "execution_count": 12,
   "id": "bbd3e311-d5c8-40a5-b1af-83eb7be62e22",
   "metadata": {},
   "outputs": [
    {
     "name": "stderr",
     "output_type": "stream",
     "text": [
      "Activity 'V1B_NCA_battery_final_battery_pack_perkWh_wh__remind_SSP1-PkBudg500_2030' was already in 'iveo_Parameterized_v1'. Overwriting it\n"
     ]
    },
    {
     "name": "stdout",
     "output_type": "stream",
     "text": [
      "end of creating a new UPR for NCA final battery pack for SSP _remind_SSP1-PkBudg500 and year 2030, relying on BD ecoinvent_cutoff_3.9_remind_SSP1-PkBudg500_2030\n"
     ]
    },
    {
     "name": "stderr",
     "output_type": "stream",
     "text": [
      "Activity 'V1B_NCA_battery_final_battery_pack_perkWh_wh__remind_SSP1-PkBudg500_2040' was already in 'iveo_Parameterized_v1'. Overwriting it\n"
     ]
    },
    {
     "name": "stdout",
     "output_type": "stream",
     "text": [
      "end of creating a new UPR for NCA final battery pack for SSP _remind_SSP1-PkBudg500 and year 2040, relying on BD ecoinvent_cutoff_3.9_remind_SSP1-PkBudg500_2040\n"
     ]
    },
    {
     "name": "stderr",
     "output_type": "stream",
     "text": [
      "Activity 'V1B_NCA_battery_final_battery_pack_perkWh_wh__remind_SSP1-PkBudg500_2050' was already in 'iveo_Parameterized_v1'. Overwriting it\n"
     ]
    },
    {
     "name": "stdout",
     "output_type": "stream",
     "text": [
      "end of creating a new UPR for NCA final battery pack for SSP _remind_SSP1-PkBudg500 and year 2050, relying on BD ecoinvent_cutoff_3.9_remind_SSP1-PkBudg500_2050\n"
     ]
    },
    {
     "name": "stderr",
     "output_type": "stream",
     "text": [
      "Activity 'V1B_NCA_battery_final_battery_pack_perkWh_wh__remind_SSP1-PkBudg1150_2030' was already in 'iveo_Parameterized_v1'. Overwriting it\n"
     ]
    },
    {
     "name": "stdout",
     "output_type": "stream",
     "text": [
      "end of creating a new UPR for NCA final battery pack for SSP _remind_SSP1-PkBudg1150 and year 2030, relying on BD ecoinvent_cutoff_3.9_remind_SSP1-PkBudg1150_2030\n"
     ]
    },
    {
     "name": "stderr",
     "output_type": "stream",
     "text": [
      "Activity 'V1B_NCA_battery_final_battery_pack_perkWh_wh__remind_SSP1-PkBudg1150_2040' was already in 'iveo_Parameterized_v1'. Overwriting it\n"
     ]
    },
    {
     "name": "stdout",
     "output_type": "stream",
     "text": [
      "end of creating a new UPR for NCA final battery pack for SSP _remind_SSP1-PkBudg1150 and year 2040, relying on BD ecoinvent_cutoff_3.9_remind_SSP1-PkBudg1150_2040\n"
     ]
    },
    {
     "name": "stderr",
     "output_type": "stream",
     "text": [
      "Activity 'V1B_NCA_battery_final_battery_pack_perkWh_wh__remind_SSP1-PkBudg1150_2050' was already in 'iveo_Parameterized_v1'. Overwriting it\n"
     ]
    },
    {
     "name": "stdout",
     "output_type": "stream",
     "text": [
      "end of creating a new UPR for NCA final battery pack for SSP _remind_SSP1-PkBudg1150 and year 2050, relying on BD ecoinvent_cutoff_3.9_remind_SSP1-PkBudg1150_2050\n"
     ]
    },
    {
     "name": "stderr",
     "output_type": "stream",
     "text": [
      "Activity 'V1B_NCA_battery_final_battery_pack_perkWh_wh__remind_SSP2-Base_2030' was already in 'iveo_Parameterized_v1'. Overwriting it\n"
     ]
    },
    {
     "name": "stdout",
     "output_type": "stream",
     "text": [
      "end of creating a new UPR for NCA final battery pack for SSP _remind_SSP2-Base and year 2030, relying on BD ecoinvent_cutoff_3.9_remind_SSP2-Base_2030\n"
     ]
    },
    {
     "name": "stderr",
     "output_type": "stream",
     "text": [
      "Activity 'V1B_NCA_battery_final_battery_pack_perkWh_wh__remind_SSP2-Base_2040' was already in 'iveo_Parameterized_v1'. Overwriting it\n"
     ]
    },
    {
     "name": "stdout",
     "output_type": "stream",
     "text": [
      "end of creating a new UPR for NCA final battery pack for SSP _remind_SSP2-Base and year 2040, relying on BD ecoinvent_cutoff_3.9_remind_SSP2-Base_2040\n"
     ]
    },
    {
     "name": "stderr",
     "output_type": "stream",
     "text": [
      "Activity 'V1B_NCA_battery_final_battery_pack_perkWh_wh__remind_SSP2-Base_2050' was already in 'iveo_Parameterized_v1'. Overwriting it\n"
     ]
    },
    {
     "name": "stdout",
     "output_type": "stream",
     "text": [
      "end of creating a new UPR for NCA final battery pack for SSP _remind_SSP2-Base and year 2050, relying on BD ecoinvent_cutoff_3.9_remind_SSP2-Base_2050\n"
     ]
    },
    {
     "name": "stderr",
     "output_type": "stream",
     "text": [
      "Activity 'V1B_NCA_battery_final_battery_pack_perkWh_wh__remind_SSP5-Base_2030' was already in 'iveo_Parameterized_v1'. Overwriting it\n"
     ]
    },
    {
     "name": "stdout",
     "output_type": "stream",
     "text": [
      "end of creating a new UPR for NCA final battery pack for SSP _remind_SSP5-Base and year 2030, relying on BD ecoinvent_cutoff_3.9_remind_SSP5-Base_2030\n"
     ]
    },
    {
     "name": "stderr",
     "output_type": "stream",
     "text": [
      "Activity 'V1B_NCA_battery_final_battery_pack_perkWh_wh__remind_SSP5-Base_2040' was already in 'iveo_Parameterized_v1'. Overwriting it\n"
     ]
    },
    {
     "name": "stdout",
     "output_type": "stream",
     "text": [
      "end of creating a new UPR for NCA final battery pack for SSP _remind_SSP5-Base and year 2040, relying on BD ecoinvent_cutoff_3.9_remind_SSP5-Base_2040\n",
      "end of creating a new UPR for NCA final battery pack for SSP _remind_SSP5-Base and year 2050, relying on BD ecoinvent_cutoff_3.9_remind_SSP5-Base_2050\n"
     ]
    },
    {
     "name": "stderr",
     "output_type": "stream",
     "text": [
      "Activity 'V1B_NCA_battery_final_battery_pack_perkWh_wh__remind_SSP5-Base_2050' was already in 'iveo_Parameterized_v1'. Overwriting it\n"
     ]
    }
   ],
   "source": [
    "for prm_name in ssp_scn:\n",
    "    for year_t in ssp_yr: \n",
    "        bg_db_ssp_yr = bg_ei_ + prm_name + \"_\" + str(year_t)            # backgroun database (BD) to use for SSP[x], Year[t]\n",
    "        copied_prm_UPR_suffix = \"_from_\" + prm_name + \"_\" + str(year_t) # copy UPR from BD to PDB for further use/modification if needed\n",
    "        newUPR_suffix =  \"_wh_\" + prm_name + \"_\" + str(year_t)          # naming on any new UPRs created in PDB\n",
    "        \n",
    "        BAT_battery_pack = agb.newActivity(\n",
    "                db_name=PDB_NAME,\n",
    "                name = \"V1B_NCA battery_final battery pack_perkWh\"  +  newUPR_suffix, loc = 'CA-QC', \n",
    "                code = \"V1B_NCA_battery_final_battery_pack_perkWh\"  + newUPR_suffix, \n",
    "                unit=\"kWh\",\n",
    "                exchanges={\n",
    "                    agb.findActivity(\"market for battery, Li-ion, NCA, rechargeable, prismatic\", loc = \"GLO\", db_name = bg_db_ssp_yr): 1 *  (1/NCA_battery_cell_density )     \n",
    "                },\n",
    "        )\n",
    "        \n",
    "        for exc in BAT_battery_pack.getExchange(name = \"*\", single=False): \n",
    "            exc['type']='technosphere'\n",
    "            exc.save()\n",
    "        BAT_battery_pack.setOutputAmount(1)\n",
    "                \n",
    "        #agb.printAct(BAT_NMC_battery_pack)\n",
    "        print(f\"end of creating a new UPR for NCA final battery pack for SSP {prm_name} and year {year_t}, relying on BD {bg_db_ssp_yr}\")\n",
    "        "
   ]
  },
  {
   "cell_type": "markdown",
   "id": "a796e9c1-5624-4459-988f-45d633c6240f",
   "metadata": {
    "jp-MarkdownHeadingCollapsed": true
   },
   "source": [
    "## A.5:: seperately  NMC622 / LFP / LTO / NCA EoL  kg -> per kWh by their specific energy  \n",
    "### for running dynamic LCIA, can't mix battery pack with battery EoL into one UPR \n",
    "all LIBs using same BG_UPR, create new list adding for loop:  exchange :   -1/batden_p "
   ]
  },
  {
   "cell_type": "code",
   "execution_count": 13,
   "id": "6cc2c99b-6c8a-407c-adf3-dff554783b1f",
   "metadata": {},
   "outputs": [],
   "source": [
    "den_list = [NMC622_battery_cell_density, LFP_battery_cell_density, LTO_battery_cell_density, NCA_battery_cell_density]"
   ]
  },
  {
   "cell_type": "code",
   "execution_count": 14,
   "id": "ba7c2354-01bc-4a10-b171-b6043e233fdb",
   "metadata": {},
   "outputs": [],
   "source": [
    "name_list = [\"NMC622\", \"LFP\", \"LTO\", \"NCA\"]"
   ]
  },
  {
   "cell_type": "code",
   "execution_count": 15,
   "id": "69ddd28f-140d-490a-aaae-42b32ef6df10",
   "metadata": {
    "scrolled": true
   },
   "outputs": [
    {
     "name": "stderr",
     "output_type": "stream",
     "text": [
      "Activity 'V1B_NMC622_EoL_perkWh__wh__remind_SSP1-PkBudg500_2030' was already in 'iveo_Parameterized_v1'. Overwriting it\n"
     ]
    },
    {
     "name": "stdout",
     "output_type": "stream",
     "text": [
      "end of creating a new UPR for EoL NMC622 per kWh for SSP _remind_SSP1-PkBudg500 and year 2030, relying on BD ecoinvent_cutoff_3.9_remind_SSP1-PkBudg500_2030\n"
     ]
    },
    {
     "name": "stderr",
     "output_type": "stream",
     "text": [
      "Activity 'V1B_NMC622_EoL_perkWh__wh__remind_SSP1-PkBudg500_2040' was already in 'iveo_Parameterized_v1'. Overwriting it\n"
     ]
    },
    {
     "name": "stdout",
     "output_type": "stream",
     "text": [
      "end of creating a new UPR for EoL NMC622 per kWh for SSP _remind_SSP1-PkBudg500 and year 2040, relying on BD ecoinvent_cutoff_3.9_remind_SSP1-PkBudg500_2040\n"
     ]
    },
    {
     "name": "stderr",
     "output_type": "stream",
     "text": [
      "Activity 'V1B_NMC622_EoL_perkWh__wh__remind_SSP1-PkBudg500_2050' was already in 'iveo_Parameterized_v1'. Overwriting it\n"
     ]
    },
    {
     "name": "stdout",
     "output_type": "stream",
     "text": [
      "end of creating a new UPR for EoL NMC622 per kWh for SSP _remind_SSP1-PkBudg500 and year 2050, relying on BD ecoinvent_cutoff_3.9_remind_SSP1-PkBudg500_2050\n"
     ]
    },
    {
     "name": "stderr",
     "output_type": "stream",
     "text": [
      "Activity 'V1B_NMC622_EoL_perkWh__wh__remind_SSP1-PkBudg1150_2030' was already in 'iveo_Parameterized_v1'. Overwriting it\n"
     ]
    },
    {
     "name": "stdout",
     "output_type": "stream",
     "text": [
      "end of creating a new UPR for EoL NMC622 per kWh for SSP _remind_SSP1-PkBudg1150 and year 2030, relying on BD ecoinvent_cutoff_3.9_remind_SSP1-PkBudg1150_2030\n"
     ]
    },
    {
     "name": "stderr",
     "output_type": "stream",
     "text": [
      "Activity 'V1B_NMC622_EoL_perkWh__wh__remind_SSP1-PkBudg1150_2040' was already in 'iveo_Parameterized_v1'. Overwriting it\n"
     ]
    },
    {
     "name": "stdout",
     "output_type": "stream",
     "text": [
      "end of creating a new UPR for EoL NMC622 per kWh for SSP _remind_SSP1-PkBudg1150 and year 2040, relying on BD ecoinvent_cutoff_3.9_remind_SSP1-PkBudg1150_2040\n"
     ]
    },
    {
     "name": "stderr",
     "output_type": "stream",
     "text": [
      "Activity 'V1B_NMC622_EoL_perkWh__wh__remind_SSP1-PkBudg1150_2050' was already in 'iveo_Parameterized_v1'. Overwriting it\n"
     ]
    },
    {
     "name": "stdout",
     "output_type": "stream",
     "text": [
      "end of creating a new UPR for EoL NMC622 per kWh for SSP _remind_SSP1-PkBudg1150 and year 2050, relying on BD ecoinvent_cutoff_3.9_remind_SSP1-PkBudg1150_2050\n"
     ]
    },
    {
     "name": "stderr",
     "output_type": "stream",
     "text": [
      "Activity 'V1B_NMC622_EoL_perkWh__wh__remind_SSP2-Base_2030' was already in 'iveo_Parameterized_v1'. Overwriting it\n"
     ]
    },
    {
     "name": "stdout",
     "output_type": "stream",
     "text": [
      "end of creating a new UPR for EoL NMC622 per kWh for SSP _remind_SSP2-Base and year 2030, relying on BD ecoinvent_cutoff_3.9_remind_SSP2-Base_2030\n"
     ]
    },
    {
     "name": "stderr",
     "output_type": "stream",
     "text": [
      "Activity 'V1B_NMC622_EoL_perkWh__wh__remind_SSP2-Base_2040' was already in 'iveo_Parameterized_v1'. Overwriting it\n"
     ]
    },
    {
     "name": "stdout",
     "output_type": "stream",
     "text": [
      "end of creating a new UPR for EoL NMC622 per kWh for SSP _remind_SSP2-Base and year 2040, relying on BD ecoinvent_cutoff_3.9_remind_SSP2-Base_2040\n"
     ]
    },
    {
     "name": "stderr",
     "output_type": "stream",
     "text": [
      "Activity 'V1B_NMC622_EoL_perkWh__wh__remind_SSP2-Base_2050' was already in 'iveo_Parameterized_v1'. Overwriting it\n"
     ]
    },
    {
     "name": "stdout",
     "output_type": "stream",
     "text": [
      "end of creating a new UPR for EoL NMC622 per kWh for SSP _remind_SSP2-Base and year 2050, relying on BD ecoinvent_cutoff_3.9_remind_SSP2-Base_2050\n"
     ]
    },
    {
     "name": "stderr",
     "output_type": "stream",
     "text": [
      "Activity 'V1B_NMC622_EoL_perkWh__wh__remind_SSP5-Base_2030' was already in 'iveo_Parameterized_v1'. Overwriting it\n"
     ]
    },
    {
     "name": "stdout",
     "output_type": "stream",
     "text": [
      "end of creating a new UPR for EoL NMC622 per kWh for SSP _remind_SSP5-Base and year 2030, relying on BD ecoinvent_cutoff_3.9_remind_SSP5-Base_2030\n"
     ]
    },
    {
     "name": "stderr",
     "output_type": "stream",
     "text": [
      "Activity 'V1B_NMC622_EoL_perkWh__wh__remind_SSP5-Base_2040' was already in 'iveo_Parameterized_v1'. Overwriting it\n"
     ]
    },
    {
     "name": "stdout",
     "output_type": "stream",
     "text": [
      "end of creating a new UPR for EoL NMC622 per kWh for SSP _remind_SSP5-Base and year 2040, relying on BD ecoinvent_cutoff_3.9_remind_SSP5-Base_2040\n"
     ]
    },
    {
     "name": "stderr",
     "output_type": "stream",
     "text": [
      "Activity 'V1B_NMC622_EoL_perkWh__wh__remind_SSP5-Base_2050' was already in 'iveo_Parameterized_v1'. Overwriting it\n"
     ]
    },
    {
     "name": "stdout",
     "output_type": "stream",
     "text": [
      "end of creating a new UPR for EoL NMC622 per kWh for SSP _remind_SSP5-Base and year 2050, relying on BD ecoinvent_cutoff_3.9_remind_SSP5-Base_2050\n"
     ]
    },
    {
     "name": "stderr",
     "output_type": "stream",
     "text": [
      "Activity 'V1B_LFP_EoL_perkWh__wh__remind_SSP1-PkBudg500_2030' was already in 'iveo_Parameterized_v1'. Overwriting it\n"
     ]
    },
    {
     "name": "stdout",
     "output_type": "stream",
     "text": [
      "end of creating a new UPR for EoL LFP per kWh for SSP _remind_SSP1-PkBudg500 and year 2030, relying on BD ecoinvent_cutoff_3.9_remind_SSP1-PkBudg500_2030\n"
     ]
    },
    {
     "name": "stderr",
     "output_type": "stream",
     "text": [
      "Activity 'V1B_LFP_EoL_perkWh__wh__remind_SSP1-PkBudg500_2040' was already in 'iveo_Parameterized_v1'. Overwriting it\n"
     ]
    },
    {
     "name": "stdout",
     "output_type": "stream",
     "text": [
      "end of creating a new UPR for EoL LFP per kWh for SSP _remind_SSP1-PkBudg500 and year 2040, relying on BD ecoinvent_cutoff_3.9_remind_SSP1-PkBudg500_2040\n"
     ]
    },
    {
     "name": "stderr",
     "output_type": "stream",
     "text": [
      "Activity 'V1B_LFP_EoL_perkWh__wh__remind_SSP1-PkBudg500_2050' was already in 'iveo_Parameterized_v1'. Overwriting it\n"
     ]
    },
    {
     "name": "stdout",
     "output_type": "stream",
     "text": [
      "end of creating a new UPR for EoL LFP per kWh for SSP _remind_SSP1-PkBudg500 and year 2050, relying on BD ecoinvent_cutoff_3.9_remind_SSP1-PkBudg500_2050\n"
     ]
    },
    {
     "name": "stderr",
     "output_type": "stream",
     "text": [
      "Activity 'V1B_LFP_EoL_perkWh__wh__remind_SSP1-PkBudg1150_2030' was already in 'iveo_Parameterized_v1'. Overwriting it\n"
     ]
    },
    {
     "name": "stdout",
     "output_type": "stream",
     "text": [
      "end of creating a new UPR for EoL LFP per kWh for SSP _remind_SSP1-PkBudg1150 and year 2030, relying on BD ecoinvent_cutoff_3.9_remind_SSP1-PkBudg1150_2030\n"
     ]
    },
    {
     "name": "stderr",
     "output_type": "stream",
     "text": [
      "Activity 'V1B_LFP_EoL_perkWh__wh__remind_SSP1-PkBudg1150_2040' was already in 'iveo_Parameterized_v1'. Overwriting it\n"
     ]
    },
    {
     "name": "stdout",
     "output_type": "stream",
     "text": [
      "end of creating a new UPR for EoL LFP per kWh for SSP _remind_SSP1-PkBudg1150 and year 2040, relying on BD ecoinvent_cutoff_3.9_remind_SSP1-PkBudg1150_2040\n"
     ]
    },
    {
     "name": "stderr",
     "output_type": "stream",
     "text": [
      "Activity 'V1B_LFP_EoL_perkWh__wh__remind_SSP1-PkBudg1150_2050' was already in 'iveo_Parameterized_v1'. Overwriting it\n"
     ]
    },
    {
     "name": "stdout",
     "output_type": "stream",
     "text": [
      "end of creating a new UPR for EoL LFP per kWh for SSP _remind_SSP1-PkBudg1150 and year 2050, relying on BD ecoinvent_cutoff_3.9_remind_SSP1-PkBudg1150_2050\n"
     ]
    },
    {
     "name": "stderr",
     "output_type": "stream",
     "text": [
      "Activity 'V1B_LFP_EoL_perkWh__wh__remind_SSP2-Base_2030' was already in 'iveo_Parameterized_v1'. Overwriting it\n"
     ]
    },
    {
     "name": "stdout",
     "output_type": "stream",
     "text": [
      "end of creating a new UPR for EoL LFP per kWh for SSP _remind_SSP2-Base and year 2030, relying on BD ecoinvent_cutoff_3.9_remind_SSP2-Base_2030\n"
     ]
    },
    {
     "name": "stderr",
     "output_type": "stream",
     "text": [
      "Activity 'V1B_LFP_EoL_perkWh__wh__remind_SSP2-Base_2040' was already in 'iveo_Parameterized_v1'. Overwriting it\n"
     ]
    },
    {
     "name": "stdout",
     "output_type": "stream",
     "text": [
      "end of creating a new UPR for EoL LFP per kWh for SSP _remind_SSP2-Base and year 2040, relying on BD ecoinvent_cutoff_3.9_remind_SSP2-Base_2040\n"
     ]
    },
    {
     "name": "stderr",
     "output_type": "stream",
     "text": [
      "Activity 'V1B_LFP_EoL_perkWh__wh__remind_SSP2-Base_2050' was already in 'iveo_Parameterized_v1'. Overwriting it\n"
     ]
    },
    {
     "name": "stdout",
     "output_type": "stream",
     "text": [
      "end of creating a new UPR for EoL LFP per kWh for SSP _remind_SSP2-Base and year 2050, relying on BD ecoinvent_cutoff_3.9_remind_SSP2-Base_2050\n"
     ]
    },
    {
     "name": "stderr",
     "output_type": "stream",
     "text": [
      "Activity 'V1B_LFP_EoL_perkWh__wh__remind_SSP5-Base_2030' was already in 'iveo_Parameterized_v1'. Overwriting it\n"
     ]
    },
    {
     "name": "stdout",
     "output_type": "stream",
     "text": [
      "end of creating a new UPR for EoL LFP per kWh for SSP _remind_SSP5-Base and year 2030, relying on BD ecoinvent_cutoff_3.9_remind_SSP5-Base_2030\n"
     ]
    },
    {
     "name": "stderr",
     "output_type": "stream",
     "text": [
      "Activity 'V1B_LFP_EoL_perkWh__wh__remind_SSP5-Base_2040' was already in 'iveo_Parameterized_v1'. Overwriting it\n"
     ]
    },
    {
     "name": "stdout",
     "output_type": "stream",
     "text": [
      "end of creating a new UPR for EoL LFP per kWh for SSP _remind_SSP5-Base and year 2040, relying on BD ecoinvent_cutoff_3.9_remind_SSP5-Base_2040\n"
     ]
    },
    {
     "name": "stderr",
     "output_type": "stream",
     "text": [
      "Activity 'V1B_LFP_EoL_perkWh__wh__remind_SSP5-Base_2050' was already in 'iveo_Parameterized_v1'. Overwriting it\n"
     ]
    },
    {
     "name": "stdout",
     "output_type": "stream",
     "text": [
      "end of creating a new UPR for EoL LFP per kWh for SSP _remind_SSP5-Base and year 2050, relying on BD ecoinvent_cutoff_3.9_remind_SSP5-Base_2050\n"
     ]
    },
    {
     "name": "stderr",
     "output_type": "stream",
     "text": [
      "Activity 'V1B_LTO_EoL_perkWh__wh__remind_SSP1-PkBudg500_2030' was already in 'iveo_Parameterized_v1'. Overwriting it\n"
     ]
    },
    {
     "name": "stdout",
     "output_type": "stream",
     "text": [
      "end of creating a new UPR for EoL LTO per kWh for SSP _remind_SSP1-PkBudg500 and year 2030, relying on BD ecoinvent_cutoff_3.9_remind_SSP1-PkBudg500_2030\n"
     ]
    },
    {
     "name": "stderr",
     "output_type": "stream",
     "text": [
      "Activity 'V1B_LTO_EoL_perkWh__wh__remind_SSP1-PkBudg500_2040' was already in 'iveo_Parameterized_v1'. Overwriting it\n"
     ]
    },
    {
     "name": "stdout",
     "output_type": "stream",
     "text": [
      "end of creating a new UPR for EoL LTO per kWh for SSP _remind_SSP1-PkBudg500 and year 2040, relying on BD ecoinvent_cutoff_3.9_remind_SSP1-PkBudg500_2040\n"
     ]
    },
    {
     "name": "stderr",
     "output_type": "stream",
     "text": [
      "Activity 'V1B_LTO_EoL_perkWh__wh__remind_SSP1-PkBudg500_2050' was already in 'iveo_Parameterized_v1'. Overwriting it\n"
     ]
    },
    {
     "name": "stdout",
     "output_type": "stream",
     "text": [
      "end of creating a new UPR for EoL LTO per kWh for SSP _remind_SSP1-PkBudg500 and year 2050, relying on BD ecoinvent_cutoff_3.9_remind_SSP1-PkBudg500_2050\n"
     ]
    },
    {
     "name": "stderr",
     "output_type": "stream",
     "text": [
      "Activity 'V1B_LTO_EoL_perkWh__wh__remind_SSP1-PkBudg1150_2030' was already in 'iveo_Parameterized_v1'. Overwriting it\n"
     ]
    },
    {
     "name": "stdout",
     "output_type": "stream",
     "text": [
      "end of creating a new UPR for EoL LTO per kWh for SSP _remind_SSP1-PkBudg1150 and year 2030, relying on BD ecoinvent_cutoff_3.9_remind_SSP1-PkBudg1150_2030\n"
     ]
    },
    {
     "name": "stderr",
     "output_type": "stream",
     "text": [
      "Activity 'V1B_LTO_EoL_perkWh__wh__remind_SSP1-PkBudg1150_2040' was already in 'iveo_Parameterized_v1'. Overwriting it\n"
     ]
    },
    {
     "name": "stdout",
     "output_type": "stream",
     "text": [
      "end of creating a new UPR for EoL LTO per kWh for SSP _remind_SSP1-PkBudg1150 and year 2040, relying on BD ecoinvent_cutoff_3.9_remind_SSP1-PkBudg1150_2040\n"
     ]
    },
    {
     "name": "stderr",
     "output_type": "stream",
     "text": [
      "Activity 'V1B_LTO_EoL_perkWh__wh__remind_SSP1-PkBudg1150_2050' was already in 'iveo_Parameterized_v1'. Overwriting it\n"
     ]
    },
    {
     "name": "stdout",
     "output_type": "stream",
     "text": [
      "end of creating a new UPR for EoL LTO per kWh for SSP _remind_SSP1-PkBudg1150 and year 2050, relying on BD ecoinvent_cutoff_3.9_remind_SSP1-PkBudg1150_2050\n"
     ]
    },
    {
     "name": "stderr",
     "output_type": "stream",
     "text": [
      "Activity 'V1B_LTO_EoL_perkWh__wh__remind_SSP2-Base_2030' was already in 'iveo_Parameterized_v1'. Overwriting it\n"
     ]
    },
    {
     "name": "stdout",
     "output_type": "stream",
     "text": [
      "end of creating a new UPR for EoL LTO per kWh for SSP _remind_SSP2-Base and year 2030, relying on BD ecoinvent_cutoff_3.9_remind_SSP2-Base_2030\n"
     ]
    },
    {
     "name": "stderr",
     "output_type": "stream",
     "text": [
      "Activity 'V1B_LTO_EoL_perkWh__wh__remind_SSP2-Base_2040' was already in 'iveo_Parameterized_v1'. Overwriting it\n"
     ]
    },
    {
     "name": "stdout",
     "output_type": "stream",
     "text": [
      "end of creating a new UPR for EoL LTO per kWh for SSP _remind_SSP2-Base and year 2040, relying on BD ecoinvent_cutoff_3.9_remind_SSP2-Base_2040\n"
     ]
    },
    {
     "name": "stderr",
     "output_type": "stream",
     "text": [
      "Activity 'V1B_LTO_EoL_perkWh__wh__remind_SSP2-Base_2050' was already in 'iveo_Parameterized_v1'. Overwriting it\n"
     ]
    },
    {
     "name": "stdout",
     "output_type": "stream",
     "text": [
      "end of creating a new UPR for EoL LTO per kWh for SSP _remind_SSP2-Base and year 2050, relying on BD ecoinvent_cutoff_3.9_remind_SSP2-Base_2050\n"
     ]
    },
    {
     "name": "stderr",
     "output_type": "stream",
     "text": [
      "Activity 'V1B_LTO_EoL_perkWh__wh__remind_SSP5-Base_2030' was already in 'iveo_Parameterized_v1'. Overwriting it\n"
     ]
    },
    {
     "name": "stdout",
     "output_type": "stream",
     "text": [
      "end of creating a new UPR for EoL LTO per kWh for SSP _remind_SSP5-Base and year 2030, relying on BD ecoinvent_cutoff_3.9_remind_SSP5-Base_2030\n"
     ]
    },
    {
     "name": "stderr",
     "output_type": "stream",
     "text": [
      "Activity 'V1B_LTO_EoL_perkWh__wh__remind_SSP5-Base_2040' was already in 'iveo_Parameterized_v1'. Overwriting it\n"
     ]
    },
    {
     "name": "stdout",
     "output_type": "stream",
     "text": [
      "end of creating a new UPR for EoL LTO per kWh for SSP _remind_SSP5-Base and year 2040, relying on BD ecoinvent_cutoff_3.9_remind_SSP5-Base_2040\n"
     ]
    },
    {
     "name": "stderr",
     "output_type": "stream",
     "text": [
      "Activity 'V1B_LTO_EoL_perkWh__wh__remind_SSP5-Base_2050' was already in 'iveo_Parameterized_v1'. Overwriting it\n"
     ]
    },
    {
     "name": "stdout",
     "output_type": "stream",
     "text": [
      "end of creating a new UPR for EoL LTO per kWh for SSP _remind_SSP5-Base and year 2050, relying on BD ecoinvent_cutoff_3.9_remind_SSP5-Base_2050\n"
     ]
    },
    {
     "name": "stderr",
     "output_type": "stream",
     "text": [
      "Activity 'V1B_NCA_EoL_perkWh__wh__remind_SSP1-PkBudg500_2030' was already in 'iveo_Parameterized_v1'. Overwriting it\n"
     ]
    },
    {
     "name": "stdout",
     "output_type": "stream",
     "text": [
      "end of creating a new UPR for EoL NCA per kWh for SSP _remind_SSP1-PkBudg500 and year 2030, relying on BD ecoinvent_cutoff_3.9_remind_SSP1-PkBudg500_2030\n"
     ]
    },
    {
     "name": "stderr",
     "output_type": "stream",
     "text": [
      "Activity 'V1B_NCA_EoL_perkWh__wh__remind_SSP1-PkBudg500_2040' was already in 'iveo_Parameterized_v1'. Overwriting it\n"
     ]
    },
    {
     "name": "stdout",
     "output_type": "stream",
     "text": [
      "end of creating a new UPR for EoL NCA per kWh for SSP _remind_SSP1-PkBudg500 and year 2040, relying on BD ecoinvent_cutoff_3.9_remind_SSP1-PkBudg500_2040\n"
     ]
    },
    {
     "name": "stderr",
     "output_type": "stream",
     "text": [
      "Activity 'V1B_NCA_EoL_perkWh__wh__remind_SSP1-PkBudg500_2050' was already in 'iveo_Parameterized_v1'. Overwriting it\n"
     ]
    },
    {
     "name": "stdout",
     "output_type": "stream",
     "text": [
      "end of creating a new UPR for EoL NCA per kWh for SSP _remind_SSP1-PkBudg500 and year 2050, relying on BD ecoinvent_cutoff_3.9_remind_SSP1-PkBudg500_2050\n"
     ]
    },
    {
     "name": "stderr",
     "output_type": "stream",
     "text": [
      "Activity 'V1B_NCA_EoL_perkWh__wh__remind_SSP1-PkBudg1150_2030' was already in 'iveo_Parameterized_v1'. Overwriting it\n"
     ]
    },
    {
     "name": "stdout",
     "output_type": "stream",
     "text": [
      "end of creating a new UPR for EoL NCA per kWh for SSP _remind_SSP1-PkBudg1150 and year 2030, relying on BD ecoinvent_cutoff_3.9_remind_SSP1-PkBudg1150_2030\n"
     ]
    },
    {
     "name": "stderr",
     "output_type": "stream",
     "text": [
      "Activity 'V1B_NCA_EoL_perkWh__wh__remind_SSP1-PkBudg1150_2040' was already in 'iveo_Parameterized_v1'. Overwriting it\n"
     ]
    },
    {
     "name": "stdout",
     "output_type": "stream",
     "text": [
      "end of creating a new UPR for EoL NCA per kWh for SSP _remind_SSP1-PkBudg1150 and year 2040, relying on BD ecoinvent_cutoff_3.9_remind_SSP1-PkBudg1150_2040\n"
     ]
    },
    {
     "name": "stderr",
     "output_type": "stream",
     "text": [
      "Activity 'V1B_NCA_EoL_perkWh__wh__remind_SSP1-PkBudg1150_2050' was already in 'iveo_Parameterized_v1'. Overwriting it\n"
     ]
    },
    {
     "name": "stdout",
     "output_type": "stream",
     "text": [
      "end of creating a new UPR for EoL NCA per kWh for SSP _remind_SSP1-PkBudg1150 and year 2050, relying on BD ecoinvent_cutoff_3.9_remind_SSP1-PkBudg1150_2050\n"
     ]
    },
    {
     "name": "stderr",
     "output_type": "stream",
     "text": [
      "Activity 'V1B_NCA_EoL_perkWh__wh__remind_SSP2-Base_2030' was already in 'iveo_Parameterized_v1'. Overwriting it\n"
     ]
    },
    {
     "name": "stdout",
     "output_type": "stream",
     "text": [
      "end of creating a new UPR for EoL NCA per kWh for SSP _remind_SSP2-Base and year 2030, relying on BD ecoinvent_cutoff_3.9_remind_SSP2-Base_2030\n"
     ]
    },
    {
     "name": "stderr",
     "output_type": "stream",
     "text": [
      "Activity 'V1B_NCA_EoL_perkWh__wh__remind_SSP2-Base_2040' was already in 'iveo_Parameterized_v1'. Overwriting it\n"
     ]
    },
    {
     "name": "stdout",
     "output_type": "stream",
     "text": [
      "end of creating a new UPR for EoL NCA per kWh for SSP _remind_SSP2-Base and year 2040, relying on BD ecoinvent_cutoff_3.9_remind_SSP2-Base_2040\n"
     ]
    },
    {
     "name": "stderr",
     "output_type": "stream",
     "text": [
      "Activity 'V1B_NCA_EoL_perkWh__wh__remind_SSP2-Base_2050' was already in 'iveo_Parameterized_v1'. Overwriting it\n"
     ]
    },
    {
     "name": "stdout",
     "output_type": "stream",
     "text": [
      "end of creating a new UPR for EoL NCA per kWh for SSP _remind_SSP2-Base and year 2050, relying on BD ecoinvent_cutoff_3.9_remind_SSP2-Base_2050\n"
     ]
    },
    {
     "name": "stderr",
     "output_type": "stream",
     "text": [
      "Activity 'V1B_NCA_EoL_perkWh__wh__remind_SSP5-Base_2030' was already in 'iveo_Parameterized_v1'. Overwriting it\n"
     ]
    },
    {
     "name": "stdout",
     "output_type": "stream",
     "text": [
      "end of creating a new UPR for EoL NCA per kWh for SSP _remind_SSP5-Base and year 2030, relying on BD ecoinvent_cutoff_3.9_remind_SSP5-Base_2030\n"
     ]
    },
    {
     "name": "stderr",
     "output_type": "stream",
     "text": [
      "Activity 'V1B_NCA_EoL_perkWh__wh__remind_SSP5-Base_2040' was already in 'iveo_Parameterized_v1'. Overwriting it\n"
     ]
    },
    {
     "name": "stdout",
     "output_type": "stream",
     "text": [
      "end of creating a new UPR for EoL NCA per kWh for SSP _remind_SSP5-Base and year 2040, relying on BD ecoinvent_cutoff_3.9_remind_SSP5-Base_2040\n",
      "end of creating a new UPR for EoL NCA per kWh for SSP _remind_SSP5-Base and year 2050, relying on BD ecoinvent_cutoff_3.9_remind_SSP5-Base_2050\n"
     ]
    },
    {
     "name": "stderr",
     "output_type": "stream",
     "text": [
      "Activity 'V1B_NCA_EoL_perkWh__wh__remind_SSP5-Base_2050' was already in 'iveo_Parameterized_v1'. Overwriting it\n"
     ]
    }
   ],
   "source": [
    "for batx, batden_p in zip (name_list, den_list ): \n",
    "\n",
    "    for prm_name in ssp_scn:\n",
    "        for year_t in ssp_yr: \n",
    "            bg_db_ssp_yr = bg_ei_ + prm_name + \"_\" + str(year_t)            # backgroun database (BD) to use for SSP[x], Year[t]\n",
    "            copied_prm_UPR_suffix = \"_from_\" + prm_name + \"_\" + str(year_t) # copy UPR from BD to PDB for further use/modification if needed\n",
    "            newUPR_suffix =  \"_wh_\" + prm_name + \"_\" + str(year_t)          # naming on any new UPRs created in PDB\n",
    "            \n",
    "            bat_EoL = agb.newActivity(\n",
    "                    db_name = PDB_NAME,\n",
    "                    name= \"V1B_\" + batx + \"_EoL_perkWh_\" + newUPR_suffix,\n",
    "                    code = \"V1B_\" + batx + \"_EoL_perkWh_\" + newUPR_suffix,\n",
    "                    unit=\"kWh\",\n",
    "                    exchanges={\n",
    "                        agb.findActivity('market for used Li-ion battery', loc = 'GLO', db_name = bg_db_ssp_yr): (-1/batden_p ) ,\n",
    "                    },\n",
    "                )\n",
    "            \n",
    "            for exc in bat_EoL.getExchange(name = \"*\", single=False): \n",
    "                exc['type']='technosphere'\n",
    "                exc.save()\n",
    "            bat_EoL.setOutputAmount(1)\n",
    "        \n",
    "            print(f\"end of creating a new UPR for EoL {batx} per kWh for SSP {prm_name} and year {year_t}, relying on BD {bg_db_ssp_yr}\")\n",
    "          "
   ]
  },
  {
   "cell_type": "code",
   "execution_count": null,
   "id": "64899921-da26-4762-bf55-1b2af5981664",
   "metadata": {},
   "outputs": [],
   "source": []
  },
  {
   "cell_type": "markdown",
   "id": "a5364687-a378-4492-a3a5-4542c8717db9",
   "metadata": {},
   "source": [
    "# B. calculate LIBs UPRs per FU kWh under different SSP with yearly P"
   ]
  },
  {
   "cell_type": "markdown",
   "id": "d500ff21-f78b-481a-b5ca-fc2362c3547b",
   "metadata": {
    "jp-MarkdownHeadingCollapsed": true
   },
   "source": [
    "#### B.0 test opening Parameter file"
   ]
  },
  {
   "cell_type": "code",
   "execution_count": 10,
   "id": "531a0532-9342-4751-9953-b3a35460c00b",
   "metadata": {},
   "outputs": [
    {
     "name": "stdout",
     "output_type": "stream",
     "text": [
      "'V1B_NMC622 battery_final battery pack_perkWh_wh__remind_SSP1-PkBudg500_2030' (kWh, GLO, None) ~~~~~~~~~~~~\n",
      "'V1B_NMC622 battery_final battery pack_perkWh_wh__remind_SSP1-PkBudg500_2040' (kWh, GLO, None) ~~~~~~~~~~~~\n",
      "'V1B_NMC622 battery_final battery pack_perkWh_wh__remind_SSP1-PkBudg500_2050' (kWh, GLO, None) ~~~~~~~~~~~~\n",
      "'V1B_NMC622 battery_final battery pack_perkWh_wh__remind_SSP1-PkBudg1150_2030' (kWh, GLO, None) ~~~~~~~~~~~~\n",
      "'V1B_NMC622 battery_final battery pack_perkWh_wh__remind_SSP1-PkBudg1150_2040' (kWh, GLO, None) ~~~~~~~~~~~~\n",
      "'V1B_NMC622 battery_final battery pack_perkWh_wh__remind_SSP1-PkBudg1150_2050' (kWh, GLO, None) ~~~~~~~~~~~~\n",
      "'V1B_NMC622 battery_final battery pack_perkWh_wh__remind_SSP2-Base_2030' (kWh, GLO, None) ~~~~~~~~~~~~\n",
      "'V1B_NMC622 battery_final battery pack_perkWh_wh__remind_SSP2-Base_2040' (kWh, GLO, None) ~~~~~~~~~~~~\n",
      "'V1B_NMC622 battery_final battery pack_perkWh_wh__remind_SSP2-Base_2050' (kWh, GLO, None) ~~~~~~~~~~~~\n",
      "'V1B_NMC622 battery_final battery pack_perkWh_wh__remind_SSP5-Base_2030' (kWh, GLO, None) ~~~~~~~~~~~~\n",
      "'V1B_NMC622 battery_final battery pack_perkWh_wh__remind_SSP5-Base_2040' (kWh, GLO, None) ~~~~~~~~~~~~\n",
      "'V1B_NMC622 battery_final battery pack_perkWh_wh__remind_SSP5-Base_2050' (kWh, GLO, None) ~~~~~~~~~~~~\n"
     ]
    }
   ],
   "source": [
    "for nmc_final in NMC_final_allsspyear:\n",
    "    print(nmc_final, \"~~~~~~~~~~~~\")"
   ]
  },
  {
   "cell_type": "code",
   "execution_count": 11,
   "id": "43ee21c6-f1c4-42fe-a52a-71ecd9db6ef3",
   "metadata": {},
   "outputs": [
    {
     "name": "stdout",
     "output_type": "stream",
     "text": [
      "for SSP ssp119, year 2030, P:  {'NMC622_battery_cell_density': [0.29161000000000004], 'NCA_battery_cell_density': [0.30358900000000005], 'LFP_battery_cell_density': [0.21054000000000003], 'LTO_battery_cell_density': [0.21054000000000003]}\n",
      "for SSP ssp119, year 2040, P:  {'NMC622_battery_cell_density': [0.3528481000000001], 'NCA_battery_cell_density': [0.36734269000000014], 'LFP_battery_cell_density': [0.2547534000000001], 'LTO_battery_cell_density': [0.2547534000000001]}\n",
      "for SSP ssp119, year 2050, P:  {'NMC622_battery_cell_density': [0.4269462010000002], 'NCA_battery_cell_density': [0.4444846549000002], 'LFP_battery_cell_density': [0.3082516140000001], 'LTO_battery_cell_density': [0.3082516140000001]}\n",
      "for SSP ssp126, year 2030, P:  {'NMC622_battery_cell_density': [0.3187224999999999], 'NCA_battery_cell_density': [0.33181524999999995], 'LFP_battery_cell_density': [0.23011499999999996], 'LTO_battery_cell_density': [0.23011499999999996]}\n",
      "for SSP ssp126, year 2040, P:  {'NMC622_battery_cell_density': [0.4215105062499998], 'NCA_battery_cell_density': [0.43882566812499985], 'LFP_battery_cell_density': [0.3043270874999999], 'LTO_battery_cell_density': [0.3043270874999999]}\n",
      "for SSP ssp126, year 2050, P:  {'NMC622_battery_cell_density': [0.5574476445156247], 'NCA_battery_cell_density': [0.5803469460953122], 'LFP_battery_cell_density': [0.4024725732187498], 'LTO_battery_cell_density': [0.4024725732187498]}\n",
      "for SSP ssp245, year 2030, P:  {'NMC622_battery_cell_density': [0.29161000000000004], 'NCA_battery_cell_density': [0.30358900000000005], 'LFP_battery_cell_density': [0.21054000000000003], 'LTO_battery_cell_density': [0.21054000000000003]}\n",
      "for SSP ssp245, year 2040, P:  {'NMC622_battery_cell_density': [0.3528481000000001], 'NCA_battery_cell_density': [0.36734269000000014], 'LFP_battery_cell_density': [0.2547534000000001], 'LTO_battery_cell_density': [0.2547534000000001]}\n",
      "for SSP ssp245, year 2050, P:  {'NMC622_battery_cell_density': [0.4269462010000002], 'NCA_battery_cell_density': [0.4444846549000002], 'LFP_battery_cell_density': [0.3082516140000001], 'LTO_battery_cell_density': [0.3082516140000001]}\n",
      "for SSP ssp585, year 2030, P:  {'NMC622_battery_cell_density': [0.2657025], 'NCA_battery_cell_density': [0.27661725000000004], 'LFP_battery_cell_density': [0.191835], 'LTO_battery_cell_density': [0.191835]}\n",
      "for SSP ssp585, year 2040, P:  {'NMC622_battery_cell_density': [0.29293700625], 'NCA_battery_cell_density': [0.3049705181250001], 'LFP_battery_cell_density': [0.21149808750000001], 'LTO_battery_cell_density': [0.21149808750000001]}\n",
      "for SSP ssp585, year 2050, P:  {'NMC622_battery_cell_density': [0.32296304939062503], 'NCA_battery_cell_density': [0.33622999623281263], 'LFP_battery_cell_density': [0.23317664146875003], 'LTO_battery_cell_density': [0.23317664146875003]}\n"
     ]
    }
   ],
   "source": [
    "root_path = '/Users/susierwu/Dropbox/DLCA_DynCO2/pdpLCA_GT/'\n",
    "p_file = os.path.abspath(os.path.join(root_path, 'data/P_files/p_tech_perSSP_Y.xlsx'))\n",
    "\n",
    "for nmc_final in NMC_final_allsspyear:\n",
    "    # need a matched YearlyParams for each SSPx:\n",
    "    str1 = nmc_final.as_dict()[\"name\"]\n",
    "    str2 = str1.split(\"remind_\")[1]\n",
    "    year_to_get_inP = int( str2.split(\"_\")[-1] )\n",
    "    ssp_remind = str2.split(\"_\")[0] \n",
    "    ssp_to_get_inP = ssp_remind_Pname_map.get(ssp_remind)\n",
    "    \n",
    "    yearlyParams = loadYearlyParams(PARAMS_FILE = p_file, s_name = \"V1B_bat_prmLIBs_perkWh\", years = [year_to_get_inP], SSP = ssp_to_get_inP) \n",
    "    print(f\"for SSP {ssp_to_get_inP}, year {year_to_get_inP}, P:  {yearlyParams}\" )"
   ]
  },
  {
   "cell_type": "code",
   "execution_count": null,
   "id": "cd7ebe2e-82a9-4ab2-acf5-388ec6490eee",
   "metadata": {},
   "outputs": [],
   "source": []
  },
  {
   "cell_type": "markdown",
   "id": "91220f14-f22f-4445-96f4-637611bf6b8c",
   "metadata": {},
   "source": [
    "### B.1  read in NMC parameter under different SSPx in the calc\n"
   ]
  },
  {
   "cell_type": "code",
   "execution_count": 12,
   "id": "c7b870fb-7b34-41ec-be27-5daf99dfbbca",
   "metadata": {},
   "outputs": [
    {
     "name": "stdout",
     "output_type": "stream",
     "text": [
      "end of running LCA calc for SSP ssp119 and year 2030 for 'V1B_NMC622 battery_final battery pack_perkWh_wh__remind_SSP1-PkBudg500_2030' (kWh, GLO, None) \n",
      "end of running LCA calc for SSP ssp119 and year 2040 for 'V1B_NMC622 battery_final battery pack_perkWh_wh__remind_SSP1-PkBudg500_2040' (kWh, GLO, None) \n",
      "end of running LCA calc for SSP ssp119 and year 2050 for 'V1B_NMC622 battery_final battery pack_perkWh_wh__remind_SSP1-PkBudg500_2050' (kWh, GLO, None) \n",
      "end of running LCA calc for SSP ssp126 and year 2030 for 'V1B_NMC622 battery_final battery pack_perkWh_wh__remind_SSP1-PkBudg1150_2030' (kWh, GLO, None) \n",
      "end of running LCA calc for SSP ssp126 and year 2040 for 'V1B_NMC622 battery_final battery pack_perkWh_wh__remind_SSP1-PkBudg1150_2040' (kWh, GLO, None) \n",
      "end of running LCA calc for SSP ssp126 and year 2050 for 'V1B_NMC622 battery_final battery pack_perkWh_wh__remind_SSP1-PkBudg1150_2050' (kWh, GLO, None) \n",
      "end of running LCA calc for SSP ssp245 and year 2030 for 'V1B_NMC622 battery_final battery pack_perkWh_wh__remind_SSP2-Base_2030' (kWh, GLO, None) \n",
      "end of running LCA calc for SSP ssp245 and year 2040 for 'V1B_NMC622 battery_final battery pack_perkWh_wh__remind_SSP2-Base_2040' (kWh, GLO, None) \n",
      "end of running LCA calc for SSP ssp245 and year 2050 for 'V1B_NMC622 battery_final battery pack_perkWh_wh__remind_SSP2-Base_2050' (kWh, GLO, None) \n",
      "end of running LCA calc for SSP ssp585 and year 2030 for 'V1B_NMC622 battery_final battery pack_perkWh_wh__remind_SSP5-Base_2030' (kWh, GLO, None) \n",
      "end of running LCA calc for SSP ssp585 and year 2040 for 'V1B_NMC622 battery_final battery pack_perkWh_wh__remind_SSP5-Base_2040' (kWh, GLO, None) \n",
      "end of running LCA calc for SSP ssp585 and year 2050 for 'V1B_NMC622 battery_final battery pack_perkWh_wh__remind_SSP5-Base_2050' (kWh, GLO, None) \n"
     ]
    }
   ],
   "source": [
    "#final output to be appended\n",
    "nmc_lcia_dict = {}\n",
    "GWP1_list, GWP2_list, SSP_list, Year_list = [],[],[],[]\n",
    "\n",
    "for nmc_final in NMC_final_allsspyear:\n",
    "    # need a matched YearlyParams for each SSPx:\n",
    "    str1 = nmc_final.as_dict()[\"name\"]\n",
    "    str2 = str1.split(\"remind_\")[1]\n",
    "    year_to_get_inP = int( str2.split(\"_\")[-1] )\n",
    "    ssp_remind = str2.split(\"_\")[0] \n",
    "    ssp_to_get_inP = ssp_remind_Pname_map.get(ssp_remind)\n",
    "    \n",
    "    yearlyParams = loadYearlyParams(PARAMS_FILE = p_file, s_name = \"V1B_bat_prmLIBs_perkWh\", years = [year_to_get_inP], SSP = ssp_to_get_inP) \n",
    "    \n",
    "    df = agb.multiLCAAlgebric(models=[\n",
    "                (nmc_final, 1)], \n",
    "                methods = chosen_methods,   \n",
    "                **yearlyParams\n",
    "                )\n",
    "            \n",
    "    print(f\"end of running LCA calc for SSP {ssp_to_get_inP} and year {year_to_get_inP} for {nmc_final} \")\n",
    "    #display(df)\n",
    "    \n",
    "    # prepare for final DF: \n",
    "    GWP1 = df.iloc[:,0].values[0]\n",
    "    GWP2 = df.iloc[:,1].values[0]\n",
    "    GWP1_list.append(GWP1)\n",
    "    GWP2_list.append(GWP2)\n",
    "    SSP_list.append(ssp_to_get_inP) \n",
    "    Year_list.append(year_to_get_inP)\n",
    "    \n",
    "    # assign df as value to each UPR name (used as key)\n",
    "    nmc_lcia_dict[str1] = df"
   ]
  },
  {
   "cell_type": "code",
   "execution_count": 13,
   "id": "689024db-a53f-4f94-a3ac-74f488fa1019",
   "metadata": {},
   "outputs": [
    {
     "data": {
      "text/html": [
       "<div>\n",
       "<style scoped>\n",
       "    .dataframe tbody tr th:only-of-type {\n",
       "        vertical-align: middle;\n",
       "    }\n",
       "\n",
       "    .dataframe tbody tr th {\n",
       "        vertical-align: top;\n",
       "    }\n",
       "\n",
       "    .dataframe thead th {\n",
       "        text-align: right;\n",
       "    }\n",
       "</style>\n",
       "<table border=\"1\" class=\"dataframe\">\n",
       "  <thead>\n",
       "    <tr style=\"text-align: right;\">\n",
       "      <th></th>\n",
       "      <th>SSP</th>\n",
       "      <th>Year</th>\n",
       "      <th>GWPkgCO2e_perkWhNMC622</th>\n",
       "      <th>prmGWPkgCO2e_perkWhNMC622</th>\n",
       "    </tr>\n",
       "  </thead>\n",
       "  <tbody>\n",
       "    <tr>\n",
       "      <th>0</th>\n",
       "      <td>ssp119</td>\n",
       "      <td>2030</td>\n",
       "      <td>41.584126</td>\n",
       "      <td>42.533805</td>\n",
       "    </tr>\n",
       "    <tr>\n",
       "      <th>1</th>\n",
       "      <td>ssp119</td>\n",
       "      <td>2040</td>\n",
       "      <td>29.199205</td>\n",
       "      <td>29.431573</td>\n",
       "    </tr>\n",
       "    <tr>\n",
       "      <th>2</th>\n",
       "      <td>ssp119</td>\n",
       "      <td>2050</td>\n",
       "      <td>23.047449</td>\n",
       "      <td>22.571552</td>\n",
       "    </tr>\n",
       "    <tr>\n",
       "      <th>3</th>\n",
       "      <td>ssp126</td>\n",
       "      <td>2030</td>\n",
       "      <td>43.788512</td>\n",
       "      <td>44.769287</td>\n",
       "    </tr>\n",
       "    <tr>\n",
       "      <th>4</th>\n",
       "      <td>ssp126</td>\n",
       "      <td>2040</td>\n",
       "      <td>27.879297</td>\n",
       "      <td>28.674196</td>\n",
       "    </tr>\n",
       "    <tr>\n",
       "      <th>5</th>\n",
       "      <td>ssp126</td>\n",
       "      <td>2050</td>\n",
       "      <td>18.632135</td>\n",
       "      <td>19.215818</td>\n",
       "    </tr>\n",
       "    <tr>\n",
       "      <th>6</th>\n",
       "      <td>ssp245</td>\n",
       "      <td>2030</td>\n",
       "      <td>50.328276</td>\n",
       "      <td>51.393080</td>\n",
       "    </tr>\n",
       "    <tr>\n",
       "      <th>7</th>\n",
       "      <td>ssp245</td>\n",
       "      <td>2040</td>\n",
       "      <td>37.101369</td>\n",
       "      <td>38.065880</td>\n",
       "    </tr>\n",
       "    <tr>\n",
       "      <th>8</th>\n",
       "      <td>ssp245</td>\n",
       "      <td>2050</td>\n",
       "      <td>27.893087</td>\n",
       "      <td>28.743821</td>\n",
       "    </tr>\n",
       "    <tr>\n",
       "      <th>9</th>\n",
       "      <td>ssp585</td>\n",
       "      <td>2030</td>\n",
       "      <td>58.182930</td>\n",
       "      <td>59.315939</td>\n",
       "    </tr>\n",
       "    <tr>\n",
       "      <th>10</th>\n",
       "      <td>ssp585</td>\n",
       "      <td>2040</td>\n",
       "      <td>50.384251</td>\n",
       "      <td>51.524186</td>\n",
       "    </tr>\n",
       "    <tr>\n",
       "      <th>11</th>\n",
       "      <td>ssp585</td>\n",
       "      <td>2050</td>\n",
       "      <td>39.041682</td>\n",
       "      <td>40.157875</td>\n",
       "    </tr>\n",
       "  </tbody>\n",
       "</table>\n",
       "</div>"
      ],
      "text/plain": [
       "       SSP  Year  GWPkgCO2e_perkWhNMC622  prmGWPkgCO2e_perkWhNMC622\n",
       "0   ssp119  2030               41.584126                  42.533805\n",
       "1   ssp119  2040               29.199205                  29.431573\n",
       "2   ssp119  2050               23.047449                  22.571552\n",
       "3   ssp126  2030               43.788512                  44.769287\n",
       "4   ssp126  2040               27.879297                  28.674196\n",
       "5   ssp126  2050               18.632135                  19.215818\n",
       "6   ssp245  2030               50.328276                  51.393080\n",
       "7   ssp245  2040               37.101369                  38.065880\n",
       "8   ssp245  2050               27.893087                  28.743821\n",
       "9   ssp585  2030               58.182930                  59.315939\n",
       "10  ssp585  2040               50.384251                  51.524186\n",
       "11  ssp585  2050               39.041682                  40.157875"
      ]
     },
     "execution_count": 13,
     "metadata": {},
     "output_type": "execute_result"
    }
   ],
   "source": [
    "lcia_nmc622 = pd.DataFrame(zip(SSP_list, Year_list, GWP1_list, GWP2_list), columns = [\"SSP\",\"Year\",\"GWPkgCO2e_perkWhNMC622\", \"prmGWPkgCO2e_perkWhNMC622\"])\n",
    "lcia_nmc622"
   ]
  },
  {
   "cell_type": "code",
   "execution_count": null,
   "id": "c94ee38a-2275-48ca-b1c3-6240eea574f1",
   "metadata": {},
   "outputs": [],
   "source": []
  },
  {
   "cell_type": "code",
   "execution_count": null,
   "id": "2bd55b43-4183-46ab-a7d3-91aa7a4b7d17",
   "metadata": {},
   "outputs": [],
   "source": []
  }
 ],
 "metadata": {
  "kernelspec": {
   "display_name": "Python 3 (ipykernel)",
   "language": "python",
   "name": "python3"
  },
  "language_info": {
   "codemirror_mode": {
    "name": "ipython",
    "version": 3
   },
   "file_extension": ".py",
   "mimetype": "text/x-python",
   "name": "python",
   "nbconvert_exporter": "python",
   "pygments_lexer": "ipython3",
   "version": "3.9.18"
  }
 },
 "nbformat": 4,
 "nbformat_minor": 5
}
