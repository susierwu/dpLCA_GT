{
 "cells": [
  {
   "cell_type": "code",
   "execution_count": 1,
   "id": "bcc7f556",
   "metadata": {},
   "outputs": [
    {
     "name": "stderr",
     "output_type": "stream",
     "text": [
      "/Users/susierwu/miniconda3/envs/prm/lib/python3.9/site-packages/brightway25/__init__.py:6: UserWarning: The Brightway25 package doesn't provide anything; import the constituent libraries separately\n",
      "  warnings.warn(\"The Brightway25 package doesn't provide anything; import the constituent libraries separately\")\n"
     ]
    }
   ],
   "source": [
    "import bw2data, bw2io\n",
    "from premise import *\n",
    "from premise_gwp import add_premise_gwp\n",
    "import numpy as np\n",
    "import pandas as pd\n",
    "import brightway25 as bw"
   ]
  },
  {
   "cell_type": "code",
   "execution_count": 2,
   "id": "c2327508-43c8-4257-97aa-5dbd809266fe",
   "metadata": {},
   "outputs": [],
   "source": [
    "bw2data.projects.set_current('iveo_v1')"
   ]
  },
  {
   "cell_type": "raw",
   "id": "b127a90b-cc6b-4ad0-91fc-877b1e10f3cb",
   "metadata": {},
   "source": [
    "#bw2data.projects"
   ]
  },
  {
   "cell_type": "code",
   "execution_count": 4,
   "id": "1331b1c4-b764-4774-920f-ac906e553d01",
   "metadata": {},
   "outputs": [
    {
     "name": "stdout",
     "output_type": "stream",
     "text": [
      "Creating default biosphere\n",
      "\n"
     ]
    },
    {
     "name": "stderr",
     "output_type": "stream",
     "text": [
      "Writing activities to SQLite3 database:\n"
     ]
    },
    {
     "name": "stdout",
     "output_type": "stream",
     "text": [
      "Applying strategy: normalize_units\n",
      "Applying strategy: drop_unspecified_subcategories\n",
      "Applying strategy: ensure_categories_are_tuples\n",
      "Applied 3 strategies in 0.01 seconds\n"
     ]
    },
    {
     "name": "stderr",
     "output_type": "stream",
     "text": [
      "0% [##############################] 100% | ETA: 00:00:00\n",
      "Total time elapsed: 00:00:00\n"
     ]
    },
    {
     "name": "stdout",
     "output_type": "stream",
     "text": [
      "Title: Writing activities to SQLite3 database:\n",
      "  Started: 04/25/2024 15:23:32\n",
      "  Finished: 04/25/2024 15:23:32\n",
      "  Total time elapsed: 00:00:00\n",
      "  CPU %: 101.50\n",
      "  Memory %: 3.37\n",
      "Created database: biosphere3\n",
      "Creating default LCIA methods\n",
      "\n",
      "Wrote 762 LCIA methods with 227223 characterization factors\n",
      "Creating core data migrations\n",
      "\n"
     ]
    }
   ],
   "source": [
    "bw2io.bw2setup()"
   ]
  },
  {
   "cell_type": "code",
   "execution_count": 6,
   "id": "f801786f-3273-4a62-8095-81b846c65917",
   "metadata": {},
   "outputs": [
    {
     "name": "stdout",
     "output_type": "stream",
     "text": [
      "Extracting XML data from 21238 datasets\n",
      "Extracted 21238 datasets in 71.94 seconds\n",
      "Applying strategy: normalize_units\n",
      "Applying strategy: update_ecoinvent_locations\n",
      "Applying strategy: remove_zero_amount_coproducts\n",
      "Applying strategy: remove_zero_amount_inputs_with_no_activity\n",
      "Applying strategy: remove_unnamed_parameters\n",
      "Applying strategy: es2_assign_only_product_with_amount_as_reference_product\n",
      "Applying strategy: assign_single_product_as_activity\n",
      "Applying strategy: create_composite_code\n",
      "Applying strategy: drop_unspecified_subcategories\n",
      "Applying strategy: fix_ecoinvent_flows_pre35\n",
      "Applying strategy: drop_temporary_outdated_biosphere_flows\n",
      "Applying strategy: link_biosphere_by_flow_uuid\n",
      "Applying strategy: link_internal_technosphere_by_composite_code\n",
      "Applying strategy: delete_exchanges_missing_activity\n",
      "Applying strategy: delete_ghost_exchanges\n",
      "Applying strategy: remove_uncertainty_from_negative_loss_exchanges\n",
      "Applying strategy: fix_unreasonably_high_lognormal_uncertainties\n",
      "Applying strategy: convert_activity_parameters_to_list\n",
      "Applying strategy: add_cpc_classification_from_single_reference_product\n",
      "Applying strategy: delete_none_synonyms\n",
      "Applying strategy: set_lognormal_loc_value\n",
      "Applied 21 strategies in 13.63 seconds\n"
     ]
    },
    {
     "name": "stderr",
     "output_type": "stream",
     "text": [
      "Writing activities to SQLite3 database:\n"
     ]
    },
    {
     "name": "stdout",
     "output_type": "stream",
     "text": [
      "21238 datasets\n",
      "674593 exchanges\n",
      "0 unlinked exchanges\n",
      "  \n"
     ]
    },
    {
     "name": "stderr",
     "output_type": "stream",
     "text": [
      "0% [##############################] 100% | ETA: 00:00:00\n",
      "Total time elapsed: 00:01:17\n"
     ]
    },
    {
     "name": "stdout",
     "output_type": "stream",
     "text": [
      "Title: Writing activities to SQLite3 database:\n",
      "  Started: 04/25/2024 15:32:59\n",
      "  Finished: 04/25/2024 15:34:17\n",
      "  Total time elapsed: 00:01:17\n",
      "  CPU %: 93.30\n",
      "  Memory %: 41.15\n",
      "Created database: ecoinvent 3.9.1\n"
     ]
    }
   ],
   "source": [
    "if 'ecoinvent 3.9.1' in bw2io.databases:\n",
    "    print(\"Database has already been imported.\")\n",
    "else:\n",
    "    fp = r\"/Users/susierwu/LCA/LCI_database/Ecoinvent3.9/ecoinvent 3.9.1_cutoff_ecoSpold02/datasets\"\n",
    "    ei = bw2io.SingleOutputEcospold2Importer(fp, 'ecoinvent 3.9.1')\n",
    "    ei.apply_strategies()\n",
    "    ei.statistics()\n",
    "    ei.write_database()"
   ]
  },
  {
   "cell_type": "code",
   "execution_count": 7,
   "id": "1e65d05e-8e81-4182-bee5-cdad689e7ed7",
   "metadata": {},
   "outputs": [
    {
     "data": {
      "text/plain": [
       "Databases dictionary with 2 object(s):\n",
       "\tbiosphere3\n",
       "\tecoinvent 3.9.1"
      ]
     },
     "execution_count": 7,
     "metadata": {},
     "output_type": "execute_result"
    }
   ],
   "source": [
    "bw2data.databases"
   ]
  },
  {
   "cell_type": "code",
   "execution_count": 3,
   "id": "d99e8671",
   "metadata": {},
   "outputs": [
    {
     "name": "stdout",
     "output_type": "stream",
     "text": [
      "Adding ('IPCC 2021', 'climate change', 'GWP 20a, incl. H')\n",
      "Applying strategy: csv_restore_tuples\n",
      "Applying strategy: csv_numerize\n",
      "Applying strategy: csv_drop_unknown\n",
      "Applying strategy: set_biosphere_type\n",
      "Applying strategy: drop_unspecified_subcategories\n",
      "Applying strategy: link_iterable_by_fields\n",
      "Applying strategy: drop_falsey_uncertainty_fields_but_keep_zeros\n",
      "Applying strategy: convert_uncertainty_types_to_integers\n",
      "Applied 8 strategies in 0.31 seconds\n",
      "Wrote 1 LCIA methods with 248 characterization factors\n",
      "Adding ('IPCC 2021', 'climate change', 'GWP 100a, incl. H')\n",
      "Applying strategy: csv_restore_tuples\n",
      "Applying strategy: csv_numerize\n",
      "Applying strategy: csv_drop_unknown\n",
      "Applying strategy: set_biosphere_type\n",
      "Applying strategy: drop_unspecified_subcategories\n",
      "Applying strategy: link_iterable_by_fields\n",
      "Applying strategy: drop_falsey_uncertainty_fields_but_keep_zeros\n",
      "Applying strategy: convert_uncertainty_types_to_integers\n",
      "Applied 8 strategies in 0.19 seconds\n",
      "Wrote 1 LCIA methods with 248 characterization factors\n",
      "Adding ('IPCC 2021', 'climate change', 'GWP 100a, incl. H and bio CO2')\n",
      "Applying strategy: csv_restore_tuples\n",
      "Applying strategy: csv_numerize\n",
      "Applying strategy: csv_drop_unknown\n",
      "Applying strategy: set_biosphere_type\n",
      "Applying strategy: drop_unspecified_subcategories\n",
      "Applying strategy: link_iterable_by_fields\n",
      "Applying strategy: drop_falsey_uncertainty_fields_but_keep_zeros\n",
      "Applying strategy: convert_uncertainty_types_to_integers\n",
      "Applied 8 strategies in 0.19 seconds\n",
      "Wrote 1 LCIA methods with 255 characterization factors\n",
      "Adding ('IPCC 2021', 'climate change', 'GWP 20a, incl. H and bio CO2')\n",
      "Applying strategy: csv_restore_tuples\n",
      "Applying strategy: csv_numerize\n",
      "Applying strategy: csv_drop_unknown\n",
      "Applying strategy: set_biosphere_type\n",
      "Applying strategy: drop_unspecified_subcategories\n",
      "Applying strategy: link_iterable_by_fields\n",
      "Applying strategy: drop_falsey_uncertainty_fields_but_keep_zeros\n",
      "Applying strategy: convert_uncertainty_types_to_integers\n",
      "Applied 8 strategies in 0.20 seconds\n",
      "Wrote 1 LCIA methods with 255 characterization factors\n"
     ]
    }
   ],
   "source": [
    "#Because the current LCIA methods cannot account for negative emission technology in PREMISE...\n",
    "#We need this PREMISE function to add the necessary biosphere flows.\n",
    "# default: ('IPCC 2013', 'climate change', 'GWP 100a, incl. H and bio CO2').\n",
    "#TBD, if BW / premise can import IPCC AR6: \n",
    "# [m for m in bw2data.methods if 'GWP 20a, incl. H' in str(m) ]\n",
    "add_premise_gwp()"
   ]
  },
  {
   "cell_type": "code",
   "execution_count": null,
   "id": "059fa388-e8ee-4623-aa78-8b4ef65e16b2",
   "metadata": {},
   "outputs": [],
   "source": []
  },
  {
   "cell_type": "code",
   "execution_count": null,
   "id": "ccfc9c6b",
   "metadata": {},
   "outputs": [],
   "source": []
  }
 ],
 "metadata": {
  "kernelspec": {
   "display_name": "Python 3 (ipykernel)",
   "language": "python",
   "name": "python3"
  },
  "language_info": {
   "codemirror_mode": {
    "name": "ipython",
    "version": 3
   },
   "file_extension": ".py",
   "mimetype": "text/x-python",
   "name": "python",
   "nbconvert_exporter": "python",
   "pygments_lexer": "ipython3",
   "version": "3.9.18"
  }
 },
 "nbformat": 4,
 "nbformat_minor": 5
}
