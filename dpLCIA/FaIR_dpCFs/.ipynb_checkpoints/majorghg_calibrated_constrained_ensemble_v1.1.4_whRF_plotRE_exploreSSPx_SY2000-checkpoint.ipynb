{
 "cells": [
  {
   "cell_type": "code",
   "execution_count": null,
   "id": "c3a38578-9f38-48f2-b961-7fb9c8f266b2",
   "metadata": {},
   "outputs": [],
   "source": [
    "import matplotlib.pyplot as plt\n",
    "import numpy as np\n",
    "import pandas as pd\n",
    "import pooch\n",
    "from IPython.display import display, HTML\n",
    "import plotly.express as px\n",
    "\n",
    "from fair import FAIR\n",
    "from fair.interface import fill, initialise\n",
    "from fair.io import read_properties"
   ]
  },
  {
   "cell_type": "code",
   "execution_count": null,
   "id": "5bbbc744",
   "metadata": {},
   "outputs": [],
   "source": [
    "from utils.majorghg_modA import *\n",
    "from utils.majorghg_modB_whRF import * "
   ]
  },
  {
   "cell_type": "markdown",
   "id": "94f07936",
   "metadata": {},
   "source": [
    "# A. first run FAIR model, as output parameters of fair will be used as input for calculating d-GWP"
   ]
  },
  {
   "cell_type": "markdown",
   "id": "61e41fa4",
   "metadata": {},
   "source": [
    "## 1. Create FaIR instance\n",
    "\n",
    "To reproduce an AR6-like run, we want to allow methane lifetime to be affected by all its relevant chemical precursors (NOx, VOCs, etc) so we set the `ch4_method` flag to `Thornhill2021` (see https://docs.fairmodel.net/en/latest/api_reference.html#fair.FAIR for all of the options for initialising `FAIR`)."
   ]
  },
  {
   "cell_type": "code",
   "execution_count": null,
   "id": "d23f87f8",
   "metadata": {},
   "outputs": [],
   "source": [
    "f = FAIR(ch4_method=\"Thornhill2021\")"
   ]
  },
  {
   "cell_type": "markdown",
   "id": "7bbabef9",
   "metadata": {},
   "source": [
    "## 2. Define time horizon\n",
    "\n",
    "A lot of analysis uses 2100 as the time horizon, but 2300 is an interesting end point to see the effects of long-term climate change. We'll set 2300 as the last time bound, so the last emissions time point is 2299.5. We could even run to 2500, as the scenarios are defined that far."
   ]
  },
  {
   "cell_type": "code",
   "execution_count": null,
   "id": "f60d2ef8",
   "metadata": {},
   "outputs": [],
   "source": [
    "f.define_time(2000, 2500, 1)  # start=1750(baselinE), end=2300, step"
   ]
  },
  {
   "cell_type": "markdown",
   "id": "62a91fce",
   "metadata": {},
   "source": [
    "## 3. Define scenarios\n",
    "\n",
    "Since the eight tier 1 & tier 2 SSPs are shipped with RCMIP, and they are quite familiar, we'll use these scenarios. We'll use the `fill_from_rcmip()` function from FaIR, so these have to use the same scenario names that appear in the RCMIP database."
   ]
  },
  {
   "cell_type": "code",
   "execution_count": null,
   "id": "dfd63291",
   "metadata": {},
   "outputs": [],
   "source": [
    "scenarios = [\"ssp119\", \"ssp126\", \"ssp245\",  \"ssp585\"]\n",
    "#scenarios = [\"ssp119\", \"ssp126\", \"ssp245\", \"ssp370\", \"ssp434\", \"ssp460\", \"ssp534-over\", \"ssp585\"]"
   ]
  },
  {
   "cell_type": "code",
   "execution_count": null,
   "id": "71897df4",
   "metadata": {},
   "outputs": [],
   "source": [
    "f.define_scenarios(scenarios)"
   ]
  },
  {
   "cell_type": "markdown",
   "id": "eefb4614",
   "metadata": {},
   "source": [
    "## 4. Define configs"
   ]
  },
  {
   "cell_type": "code",
   "execution_count": null,
   "id": "06cf8901",
   "metadata": {},
   "outputs": [],
   "source": [
    "fair_params_1_2_0_obj = pooch.retrieve(\n",
    "    url = 'https://zenodo.org/record/8399112/files/calibrated_constrained_parameters.csv',\n",
    "    known_hash = 'md5:de3b83432b9d071efdd1427ad31e9076',\n",
    ")"
   ]
  },
  {
   "cell_type": "code",
   "execution_count": null,
   "id": "69688229",
   "metadata": {},
   "outputs": [],
   "source": [
    "df_configs = pd.read_csv(fair_params_1_2_0_obj, index_col=0)\n",
    "configs = df_configs.index  # this is used as a label for the \"config\" axis\n",
    "f.define_configs(configs)"
   ]
  },
  {
   "cell_type": "code",
   "execution_count": null,
   "id": "da3b50d4",
   "metadata": {},
   "outputs": [],
   "source": [
    "#df_configs.head()"
   ]
  },
  {
   "cell_type": "markdown",
   "id": "d92c2311",
   "metadata": {},
   "source": [
    "## 5. Define species and properties\n",
    "\n",
    "We will use FaIR's default list of 63 species. They are often run with default properties that are included in the model code. However, as part of the v1.1 calibration, some defaults are modified, such as the sensitivity of chemical precursors to methane lifetime. Rather than manually overriding this by setting `species_configs`, it is cleaner to modify the defaults in the CSV file that is read in to define the `species` and `properties`. \n",
    "\n",
    "In fact, as this only reads in and defines `species` and `properties` (not `species_configs`), the default (no `filename`) argument could be used here, but it is good practice in my opinion to put species, properties and configs in the same file, and to use the same file to read in `properties` and `species_configs`.\n",
    "\n",
    "If you're following along at home, feel free to insert a new cell after this one and inspect what the `species` and `properties` actually are."
   ]
  },
  {
   "cell_type": "code",
   "execution_count": null,
   "id": "cb9fd4c8",
   "metadata": {
    "scrolled": true
   },
   "outputs": [],
   "source": [
    "#https://github.com/OMS-NetZero/FAIR/blob/master/examples/data/species_configs_properties_calibration1.2.0.csv \n",
    "#saved to 'data/ ... \n",
    "species, properties = read_properties(filename='data/species_configs_properties_calibration1.2.0.csv')\n",
    "f.define_species(species, properties)"
   ]
  },
  {
   "cell_type": "code",
   "execution_count": null,
   "id": "5c093590",
   "metadata": {},
   "outputs": [],
   "source": [
    "#properties"
   ]
  },
  {
   "cell_type": "markdown",
   "id": "b06ed144",
   "metadata": {},
   "source": [
    "## 6. Modify run options\n",
    "\n",
    "Not necessary, as we made all of our choices on initialisation (step 1)."
   ]
  },
  {
   "cell_type": "markdown",
   "id": "f44e2a59",
   "metadata": {},
   "source": [
    "## 7. Create input and output xarrays\n",
    "\n",
    "If this runs without error, the problem is consistently and completely set up: we then just need to add data."
   ]
  },
  {
   "cell_type": "code",
   "execution_count": null,
   "id": "26d1b4ef",
   "metadata": {},
   "outputs": [],
   "source": [
    "f.allocate()"
   ]
  },
  {
   "cell_type": "markdown",
   "id": "603d7738",
   "metadata": {},
   "source": [
    "## 8. Fill in data\n",
    "\n",
    "### 8a. emissions, solar forcing, and volcanic forcing\n",
    "\n",
    "We can use the convenience function `fill_from_rcmip()` to fill in the emissions. Remember that not all `species` are things that take emissions, so if you see NaNs below, don't panic."
   ]
  },
  {
   "cell_type": "code",
   "execution_count": null,
   "id": "bd434bc7",
   "metadata": {},
   "outputs": [],
   "source": [
    "f.fill_from_rcmip()"
   ]
  },
  {
   "cell_type": "code",
   "execution_count": null,
   "id": "1f27c32c",
   "metadata": {},
   "outputs": [],
   "source": [
    "#f.emissions"
   ]
  },
  {
   "cell_type": "markdown",
   "id": "352537fd",
   "metadata": {},
   "source": [
    "There is an issue with the RCMIP NOx emissions; the units are different for biomass burning emissions (Tg NO/yr) to the other emissions from fossil fuels, industry and agriculture (Tg NO2/yr). v1.1 of the calibration uses the corrected NOx emissions expressed in Tg NO2/yr, so we also have to correct them in FaIR for consistency.\n",
    "\n",
    "We download the RCMIP emissions file, and pull out the relevant sectors, update the unit, and finally override the correct entry of `f.emissions`.\n",
    "\n",
    "Notes on the below:\n",
    "\n",
    "- 46.006 is the molecular weight of NO2 (g/mol).\n",
    "- 30.006 is the molecular weight of NO (g/mol).\n",
    "- The final `[:550, None]` is to transfer the data coming in from RCMIP (dimension (750,), a timeseries of annual emissions) into the correct shape for our problem (550, 1001). Since we are looping over the `scenario` dimension and selecting it, and we are selecting NOx from the `species` dimension, these axes are collapsed and we're left with (`timepoints`, `configs`). The RCMIP data starts in 1750 as does our emissions data; if there is a mismatch in the start date, it would be necessary to select the correct slice from the RCMIP `DataFrame` that is loaded in. For a reminder of the dimensioning in FaIR 2.1, see https://docs.fairmodel.net/en/latest/intro.html#dimensionality."
   ]
  },
  {
   "cell_type": "code",
   "execution_count": null,
   "id": "e38e05e8",
   "metadata": {},
   "outputs": [],
   "source": [
    "rcmip_emissions_file = pooch.retrieve(\n",
    "    url=\"doi:10.5281/zenodo.4589756/rcmip-emissions-annual-means-v5-1-0.csv\",\n",
    "    known_hash=\"md5:4044106f55ca65b094670e7577eaf9b3\",\n",
    ")\n",
    "df_emis = pd.read_csv(rcmip_emissions_file)\n",
    "gfed_sectors = [\n",
    "    \"Emissions|NOx|MAGICC AFOLU|Agricultural Waste Burning\",\n",
    "    \"Emissions|NOx|MAGICC AFOLU|Forest Burning\",\n",
    "    \"Emissions|NOx|MAGICC AFOLU|Grassland Burning\",\n",
    "    \"Emissions|NOx|MAGICC AFOLU|Peat Burning\",\n",
    "]\n",
    "for scenario in scenarios:\n",
    "    f.emissions.loc[dict(specie=\"NOx\", scenario=scenario)] = (\n",
    "        df_emis.loc[\n",
    "            (df_emis[\"Scenario\"] == scenario)\n",
    "            & (df_emis[\"Region\"] == \"World\")\n",
    "            & (df_emis[\"Variable\"].isin(gfed_sectors)),\n",
    "            \"2000\":\"2500\",       #change back to 2300 as default\n",
    "        ]\n",
    "        .interpolate(axis=1)\n",
    "        .values.squeeze()\n",
    "        .sum(axis=0)\n",
    "        * 46.006\n",
    "        / 30.006\n",
    "        + df_emis.loc[\n",
    "            (df_emis[\"Scenario\"] == scenario)\n",
    "            & (df_emis[\"Region\"] == \"World\")\n",
    "            & (df_emis[\"Variable\"] == \"Emissions|NOx|MAGICC AFOLU|Agriculture\"),\n",
    "            \"2000\":\"2500\",\n",
    "        ]\n",
    "        .interpolate(axis=1)\n",
    "        .values.squeeze()\n",
    "        + df_emis.loc[\n",
    "            (df_emis[\"Scenario\"] == scenario)\n",
    "            & (df_emis[\"Region\"] == \"World\")\n",
    "            & (df_emis[\"Variable\"] == \"Emissions|NOx|MAGICC Fossil and Industrial\"),\n",
    "            \"2000\":\"2500\",\n",
    "        ]\n",
    "        .interpolate(axis=1)\n",
    "        .values.squeeze()\n",
    "    )[:500, None]  # 550 if ending year 2300 and starting 1750, "
   ]
  },
  {
   "cell_type": "markdown",
   "id": "6cdb7c3c",
   "metadata": {},
   "source": [
    "Now we fetch and fill in the solar and volcanic forcing. As these are forcing-driven time series, if we want to vary the uncertainties in the forcing, this has to happen before FaIR is run (see https://github.com/OMS-NetZero/FAIR/issues/126)."
   ]
  },
  {
   "cell_type": "code",
   "execution_count": null,
   "id": "a5b03843",
   "metadata": {},
   "outputs": [],
   "source": [
    "solar_obj = pooch.retrieve(\n",
    "    url = 'https://raw.githubusercontent.com/chrisroadmap/fair-add-hfc/main/data/solar_erf_timebounds.csv',\n",
    "    known_hash = 'md5:98f6f4c5309d848fea89803683441acf',\n",
    ")"
   ]
  },
  {
   "cell_type": "code",
   "execution_count": null,
   "id": "8d3390e5",
   "metadata": {},
   "outputs": [],
   "source": [
    "volcanic_obj = pooch.retrieve(\n",
    "    url = 'https://raw.githubusercontent.com/chrisroadmap/fair-calibrate/main/data/forcing/volcanic_ERF_1750-2101_timebounds.csv',\n",
    "    known_hash = 'md5:c0801f80f70195eb9567dbd70359219d',\n",
    ")"
   ]
  },
  {
   "cell_type": "markdown",
   "id": "04331578",
   "metadata": {},
   "source": [
    "#### <font color = \"red\">df_solar only has data 1750 - up tp 2300 </font>"
   ]
  },
  {
   "cell_type": "code",
   "execution_count": null,
   "id": "31e3f735",
   "metadata": {},
   "outputs": [],
   "source": [
    "df_solar = pd.read_csv(solar_obj, index_col=\"year\")\n",
    "df_volcanic = pd.read_csv(volcanic_obj)"
   ]
  },
  {
   "cell_type": "markdown",
   "id": "e91dbe96",
   "metadata": {},
   "source": [
    "Remembering that everything that is not emissions is on `timebounds`, there is always one more `timebounds` than `timepoints`, so we define arrays of length 551 (1750 to 2300, inclusive).\n",
    "\n",
    "Volcanic forcing is given monthly, so we average the 12 previous months for each `timebounds` volcanic forcing.\n",
    "\n",
    "Volcanic forcing here follows the CMIP6 ScenarioMIP convention of a 10 year ramp down to zero from the last year of data (here 2019). Again a little bit of ninja skill with indexing is needed."
   ]
  },
  {
   "cell_type": "code",
   "execution_count": null,
   "id": "3886cb7d",
   "metadata": {},
   "outputs": [],
   "source": [
    "l = 501 # since we change ending year to 2500, AND starting year to 2000 here we need new array.dim to (751,1001)\n",
    "\n",
    "solar_forcing = np.zeros(l)\n",
    "volcanic_forcing = np.zeros(l)\n",
    "volcanic_forcing[:352] = df_volcanic.erf.values\n",
    "solar_forcing[:301] = df_solar[\"erf\"].loc[2000:2300].values\n",
    "\n",
    "trend_shape = np.ones(l)\n",
    "trend_shape[:271] = np.linspace(0, 1, 271) "
   ]
  },
  {
   "cell_type": "markdown",
   "id": "e44ef345",
   "metadata": {},
   "source": [
    "We then use our calibrated, constrained ensemble to individually scale the volcanic forcing time series, and the solar amplitude and trend:"
   ]
  },
  {
   "cell_type": "code",
   "execution_count": null,
   "id": "ed2fc25c",
   "metadata": {},
   "outputs": [],
   "source": [
    "fill(\n",
    "    f.forcing,\n",
    "    volcanic_forcing[:, None, None] * df_configs[\"fscale_Volcanic\"].values.squeeze(),\n",
    "    specie=\"Volcanic\",\n",
    ")\n",
    "fill(\n",
    "    f.forcing,\n",
    "    solar_forcing[:, None, None] * df_configs[\"fscale_solar_amplitude\"].values.squeeze()\n",
    "    + trend_shape[:, None, None] * df_configs[\"fscale_solar_trend\"].values.squeeze(),\n",
    "    specie=\"Solar\",\n",
    ")"
   ]
  },
  {
   "cell_type": "markdown",
   "id": "6fc3fd73",
   "metadata": {},
   "source": [
    "### 8b. Fill in climate_configs\n",
    "\n",
    "This is relatively straightforward from the calibrated, constrained dataset."
   ]
  },
  {
   "cell_type": "code",
   "execution_count": null,
   "id": "0c6cb77c",
   "metadata": {},
   "outputs": [],
   "source": [
    "fill(f.climate_configs[\"ocean_heat_capacity\"], df_configs.loc[:, \"clim_c1\":\"clim_c3\"].values)\n",
    "fill(\n",
    "    f.climate_configs[\"ocean_heat_transfer\"],\n",
    "    df_configs.loc[:, \"clim_kappa1\":\"clim_kappa3\"].values,\n",
    ")\n",
    "fill(f.climate_configs[\"deep_ocean_efficacy\"], df_configs[\"clim_epsilon\"].values.squeeze())\n",
    "fill(f.climate_configs[\"gamma_autocorrelation\"], df_configs[\"clim_gamma\"].values.squeeze())\n",
    "fill(f.climate_configs[\"sigma_eta\"], df_configs[\"clim_sigma_eta\"].values.squeeze())\n",
    "fill(f.climate_configs[\"sigma_xi\"], df_configs[\"clim_sigma_xi\"].values.squeeze())\n",
    "fill(f.climate_configs[\"seed\"], df_configs[\"seed\"])\n",
    "fill(f.climate_configs[\"stochastic_run\"], True)\n",
    "fill(f.climate_configs[\"use_seed\"], True)\n",
    "fill(f.climate_configs[\"forcing_4co2\"], df_configs[\"clim_F_4xCO2\"])"
   ]
  },
  {
   "cell_type": "markdown",
   "id": "a0c67b5e",
   "metadata": {},
   "source": [
    "### 8c. Fill in species_configs\n",
    "\n",
    "Firstly we want to get the defaults from our new species/properties/configs file"
   ]
  },
  {
   "cell_type": "code",
   "execution_count": null,
   "id": "798edffe",
   "metadata": {},
   "outputs": [],
   "source": [
    "f.fill_species_configs(filename='data/species_configs_properties_calibration1.2.0.csv')"
   ]
  },
  {
   "cell_type": "markdown",
   "id": "3792ce8b",
   "metadata": {},
   "source": [
    "Then, we overwrite the `species_configs` that are varies as part of the probablistic sampling. This makes heavy use of the `fill()` convenience function."
   ]
  },
  {
   "cell_type": "code",
   "execution_count": null,
   "id": "52a66859",
   "metadata": {},
   "outputs": [],
   "source": [
    "# carbon cycle\n",
    "fill(f.species_configs[\"iirf_0\"], df_configs[\"cc_r0\"].values.squeeze(), specie=\"CO2\")\n",
    "fill(f.species_configs[\"iirf_airborne\"], df_configs[\"cc_rA\"].values.squeeze(), specie=\"CO2\")\n",
    "fill(f.species_configs[\"iirf_uptake\"], df_configs[\"cc_rU\"].values.squeeze(), specie=\"CO2\")\n",
    "fill(f.species_configs[\"iirf_temperature\"], df_configs[\"cc_rT\"].values.squeeze(), specie=\"CO2\")\n",
    "\n",
    "# aerosol indirect\n",
    "fill(f.species_configs[\"aci_scale\"], df_configs[\"aci_beta\"].values.squeeze())\n",
    "fill(f.species_configs[\"aci_shape\"], df_configs[\"aci_shape_so2\"].values.squeeze(), specie=\"Sulfur\")\n",
    "fill(f.species_configs[\"aci_shape\"], df_configs[\"aci_shape_bc\"].values.squeeze(), specie=\"BC\")\n",
    "fill(f.species_configs[\"aci_shape\"], df_configs[\"aci_shape_oc\"].values.squeeze(), specie=\"OC\")\n",
    "\n",
    "# aerosol direct\n",
    "for specie in [\n",
    "    \"BC\", \n",
    "    \"CH4\", \n",
    "    \"N2O\",\n",
    "    \"NH3\", \n",
    "    \"NOx\",\n",
    "    \"OC\", \n",
    "    \"Sulfur\", \n",
    "    \"VOC\",\n",
    "    \"Equivalent effective stratospheric chlorine\"\n",
    "]:\n",
    "    fill(f.species_configs[\"erfari_radiative_efficiency\"], df_configs[f\"ari_{specie}\"], specie=specie)\n",
    "\n",
    "# forcing scaling\n",
    "for specie in [\n",
    "    \"CO2\", \n",
    "    \"CH4\", \n",
    "    \"N2O\", \n",
    "    \"Stratospheric water vapour\",\n",
    "    \"Contrails\", \n",
    "    \"Light absorbing particles on snow and ice\", \n",
    "    \"Land use\"\n",
    "]:\n",
    "    fill(f.species_configs[\"forcing_scale\"], df_configs[f\"fscale_{specie}\"].values.squeeze(), specie=specie)\n",
    "# the halogenated gases all take the same scale factor\n",
    "for specie in [\n",
    "    \"CFC-11\",\n",
    "    \"CFC-12\",\n",
    "    \"CFC-113\",\n",
    "    \"CFC-114\",\n",
    "    \"CFC-115\",\n",
    "    \"HCFC-22\",\n",
    "    \"HCFC-141b\",\n",
    "    \"HCFC-142b\",\n",
    "    \"CCl4\",\n",
    "    \"CHCl3\",\n",
    "    \"CH2Cl2\",\n",
    "    \"CH3Cl\",\n",
    "    \"CH3CCl3\",\n",
    "    \"CH3Br\",\n",
    "    \"Halon-1211\",\n",
    "    \"Halon-1301\",\n",
    "    \"Halon-2402\",\n",
    "    \"CF4\",\n",
    "    \"C2F6\",\n",
    "    \"C3F8\",\n",
    "    \"c-C4F8\",\n",
    "    \"C4F10\",\n",
    "    \"C5F12\",\n",
    "    \"C6F14\",\n",
    "    \"C7F16\",\n",
    "    \"C8F18\",\n",
    "    \"NF3\",\n",
    "    \"SF6\",\n",
    "    \"SO2F2\",\n",
    "    \"HFC-125\",\n",
    "    \"HFC-134a\",\n",
    "    \"HFC-143a\",\n",
    "    \"HFC-152a\",\n",
    "    \"HFC-227ea\",\n",
    "    \"HFC-23\",\n",
    "    \"HFC-236fa\",\n",
    "    \"HFC-245fa\",\n",
    "    \"HFC-32\",\n",
    "    \"HFC-365mfc\",\n",
    "    \"HFC-4310mee\",\n",
    "]:\n",
    "    fill(f.species_configs[\"forcing_scale\"], df_configs[\"fscale_minorGHG\"].values.squeeze(), specie=specie)\n",
    "\n",
    "# ozone\n",
    "for specie in [\"CH4\", \"N2O\", \"Equivalent effective stratospheric chlorine\", \"CO\", \"VOC\", \"NOx\"]:\n",
    "    fill(f.species_configs[\"ozone_radiative_efficiency\"], df_configs[f\"o3_{specie}\"], specie=specie)\n",
    "\n",
    "# initial value of CO2 concentration (but not baseline for forcing calculations)\n",
    "fill(\n",
    "    f.species_configs[\"baseline_concentration\"], \n",
    "    df_configs[\"cc_co2_concentration_1750\"].values.squeeze(), \n",
    "    specie=\"CO2\"\n",
    ")"
   ]
  },
  {
   "cell_type": "markdown",
   "id": "84b0bfb6",
   "metadata": {},
   "source": [
    "### 8d. Initial conditions\n",
    "\n",
    "It's important these are defined, as they are NaN by default, and it's likely you'll run into problems."
   ]
  },
  {
   "cell_type": "code",
   "execution_count": null,
   "id": "220797db",
   "metadata": {
    "scrolled": true
   },
   "outputs": [],
   "source": [
    "#f.species_configs[\"baseline_concentration\"]\n",
    "#f.species_configs[\"baseline_concentration\"]    #.loc()"
   ]
  },
  {
   "cell_type": "code",
   "execution_count": null,
   "id": "5e9e0ef0",
   "metadata": {},
   "outputs": [],
   "source": [
    "initialise(f.concentration, f.species_configs[\"baseline_concentration\"])\n",
    "initialise(f.forcing, 0)\n",
    "initialise(f.temperature, 0)\n",
    "initialise(f.cumulative_emissions, 0)\n",
    "initialise(f.airborne_emissions, 0)"
   ]
  },
  {
   "cell_type": "markdown",
   "id": "30b948f5",
   "metadata": {
    "jp-MarkdownHeadingCollapsed": true
   },
   "source": [
    "## 9. Run"
   ]
  },
  {
   "cell_type": "code",
   "execution_count": null,
   "id": "92cf541b",
   "metadata": {
    "scrolled": true
   },
   "outputs": [],
   "source": [
    "f.run()"
   ]
  },
  {
   "cell_type": "markdown",
   "id": "11757f9c",
   "metadata": {},
   "source": [
    "## B. Save RF, AGWP, GWP, DCF"
   ]
  },
  {
   "cell_type": "code",
   "execution_count": null,
   "id": "1995eebc",
   "metadata": {},
   "outputs": [],
   "source": [
    "ssp = [\"ssp119\", \"ssp126\", \"ssp245\",  \"ssp585\"]  #\"ssp370\", \"ssp434\", \"ssp460\",\n",
    "\"\"\" starting year is 2000, then y_index for 2020, 2030... is 20 , 30 \"\"\"\n",
    "y_start = 2000 \n",
    "y_index = [20,30,40,50]   # changed year_index as 2000 is starting year, MY2020/2030... [270,280,290,300,310,320]\n",
    "for x in ssp: \n",
    "    for y in y_index: \n",
    "        f36 = majorghg_get_f(f = f, H_max=100, ts_per_year = 1, year_index = y , scn = x)  # 270 for year 2020 if starting 1750, ... 290 for year 2040\n",
    "\n",
    "        n36 = majorghg_analysis(f = f, H_max=100, fair_start_y = y_start, ts_per_year = 1, year_index = y, scn = x)     \n",
    "        \n",
    "        nco2 = n36.co2_analytical2023(co2_erf_diff_t = f36.get_co2_1ppm_erf() )\n",
    "        nch4 = n36.ch4_analytical2023(alpha_ch4 = f36.call_f_from_fair_gas()[1][\"CH4_lifetime\"], #index[0,1,2] -> CO2/CH4/N2O\n",
    "                                      ch4_erf_diff_t = f36.get_ch4_1ppb_erf())\n",
    "        nn2o = n36.n2o_analytical2023(alpha_n2o = f36.call_f_from_fair_gas()[2][\"N2O_lifetime\"],  \n",
    "                                      ch4_erf_diff_t = f36.get_ch4_1ppb_erf(),\n",
    "                                      n2o_erf_diff_t  = f36.get_n2o_1ppb_erf() )\n",
    "\n",
    "        nch4_cc = n36.carbon_cycle_adjustment(agtp = nch4[2], rf_co2 = nco2[0], agwp_co2 = nco2[1], agtp_co2 = nco2[2], \n",
    "                                        iagtp_co2 = nco2[3]) \n",
    "\n",
    "        nn2o_cc = n36.carbon_cycle_adjustment(agtp = nn2o[2], rf_co2 = nco2[0], agwp_co2 = nco2[1], agtp_co2 = nco2[2], \n",
    "                                        iagtp_co2 = nco2[3]) \n",
    "\n",
    "        fch41, fch42, fch43 = n36.get_final_rf_agwp_gwp_ch4_n2o(rf_gas = nch4[0], rf_cc_gas=nch4_cc[0], agwp_gas = nch4[1], agwp_cc_gas = nch4_cc[1], agwp_co2 = nco2[1] )\n",
    "        fn2o1, fn2o2, fn2o3 = n36.get_final_rf_agwp_gwp_ch4_n2o(rf_gas = nn2o[0], rf_cc_gas=nn2o_cc[0], agwp_gas = nn2o[1],  agwp_cc_gas = nn2o_cc[1] , agwp_co2 = nco2[1])\n",
    "        fco21, fco22, fco23 = n36.final_rf_agwp_gwp_co2(rf_co2 = nco2[0], agwp_co2 = nco2[1])\n",
    "\n",
    "        # finalgas_agwp_dcf_gwp: total 6 output: final_agwp, final_agwp_single, final_dcf, final_dcf_single, final_gwp, final_gwp_single\n",
    "        finalch4_agwp_dcf_gwp = n36.get_dcf_finaloutput (\"CH4\", fch43, fch41, fch42 ) #rf, agwp, gwp\n",
    "        finaln2o_agwp_dcf_gwp = n36.get_dcf_finaloutput (\"N2O\", fn2o3, fn2o1, fn2o2  )\n",
    "        finalco2_agwp_dcf_gwp = n36.get_dcf_finaloutput (\"CO2\", fco23, fco21, fco22 )\n",
    "\n",
    "\n",
    "        #fig, ((ax1, ax2, ax3), (ax4, ax5, ax6), (ax7, ax8, ax9)) = plt.subplots(3, 3, figsize=(16, 12), sharey=False)\n",
    "        fig, ((ax1, ax2, ax3), (ax7, ax8, ax9) ) = plt.subplots(2, 3, figsize=(16, 12), sharey=False)\n",
    "        ax1.plot(finalco2_agwp_dcf_gwp[0])   #nco2[1]\n",
    "        ax1.set_title(\"CO2_AGWP_\" + str(x) + \"_\" +str(y_start + y))\n",
    "        ax2.plot(finalch4_agwp_dcf_gwp[0]) #nch4[1]\n",
    "        ax2.set_title('CH4_AGWP_' + str(x) + \"_\" +str(y_start + y))\n",
    "        ax3.plot(finaln2o_agwp_dcf_gwp[0]) #nn2o[1]\n",
    "        ax3.set_title('N2O_AGWP' + str(x) + \"_\" +str(y_start + y))\n",
    "\n",
    "        #for GWP, delete first YR0, so now shape is (100,1001), don't have 0 at beginning\n",
    "        ax7.plot(np.delete(finalco2_agwp_dcf_gwp[4],0, axis=0))        \n",
    "        ax7.set_title(\"CO2_GWP\" + str(x) + \"_\" +str(y_start + y))\n",
    "        ax8.plot(np.delete(finalch4_agwp_dcf_gwp[4],0, axis=0))  \n",
    "        ax8.set_title('CH4_GWP' + str(x) + \"_\" +str(y_start + y))\n",
    "        ax9.plot(np.delete(finaln2o_agwp_dcf_gwp[4],0, axis=0))  \n",
    "        ax9.set_title('N2O_GWP' + str(x) + \"_\" +str(y_start + y))\n",
    "\n",
    "        plt.show()\n",
    "\n",
    "        fname = \"AGWP_DCF_GWP_majorghg_\" + str(x) + \"_\" +str(y_start + y)\n",
    "        if not os.path.exists('output/metrics/figures'):\n",
    "            os.makedirs('output/metrics/figures')\n",
    "        plt.savefig(\"output/metrics/figures/\" + fname)\n"
   ]
  },
  {
   "cell_type": "code",
   "execution_count": null,
   "id": "6d6f311c",
   "metadata": {},
   "outputs": [],
   "source": []
  },
  {
   "cell_type": "code",
   "execution_count": null,
   "id": "8fc05c7f",
   "metadata": {},
   "outputs": [],
   "source": []
  },
  {
   "cell_type": "code",
   "execution_count": null,
   "id": "e0c3f929",
   "metadata": {},
   "outputs": [],
   "source": []
  },
  {
   "cell_type": "code",
   "execution_count": null,
   "id": "74c28d8d",
   "metadata": {},
   "outputs": [],
   "source": []
  },
  {
   "cell_type": "markdown",
   "id": "f9c3a7d8",
   "metadata": {},
   "source": [
    "# explore diff scenario  "
   ]
  },
  {
   "cell_type": "markdown",
   "id": "93b6032e",
   "metadata": {},
   "source": [
    "### AGWP for majorghg among different SSP for MY 2040"
   ]
  },
  {
   "cell_type": "code",
   "execution_count": null,
   "id": "4aa25acc",
   "metadata": {},
   "outputs": [],
   "source": [
    "ssp = [\"ssp119\", \"ssp126\", \"ssp245\",  \"ssp585\"] \n",
    "agwp_co2_allssp_2040, agwp_ch4_allssp_2040, agwp_n2o_allssp_2040 = [], [], []\n",
    "y_ind_plot = 40  # as now starting year is 2000 \n",
    "\n",
    "for x in ssp: \n",
    "    \n",
    "    f36 = majorghg_get_f(f = f, H_max=200, ts_per_year = 1, year_index = y_ind_plot , scn = x)   \n",
    "    n36 = majorghg_analysis(f = f, H_max=200, fair_start_y = y_start, ts_per_year = 1, year_index = y_ind_plot, scn = x)     \n",
    "    rf36, agwp36, agtp36, iagtp36  = n36.co2_analytical2023(co2_erf_diff_t = f36.get_co2_1ppm_erf() )\n",
    "    \n",
    "    nch4 = n36.ch4_analytical2023(alpha_ch4 = f36.call_f_from_fair_gas()[1][\"CH4_lifetime\"], #index[0,1,2] -> CO2/CH4/N2O\n",
    "                                  ch4_erf_diff_t = f36.get_ch4_1ppb_erf())\n",
    "    nn2o = n36.n2o_analytical2023(alpha_n2o = f36.call_f_from_fair_gas()[2][\"N2O_lifetime\"],  \n",
    "                                  ch4_erf_diff_t = f36.get_ch4_1ppb_erf(),\n",
    "                                  n2o_erf_diff_t  = f36.get_n2o_1ppb_erf() )\n",
    "\n",
    "    \n",
    "    agwp_s = np.median(agwp36, axis = 1)\n",
    "    agwp_co2_allssp_2040.append(agwp_s)\n",
    "    \n",
    "    agwp_s1 = np.median(nch4[1], axis = 1)\n",
    "    agwp_ch4_allssp_2040.append(agwp_s1)\n",
    "    \n",
    "    agwp_s2 = np.median(nn2o[1], axis = 1)\n",
    "    agwp_n2o_allssp_2040.append(agwp_s2)"
   ]
  },
  {
   "cell_type": "markdown",
   "id": "a4358275",
   "metadata": {},
   "source": [
    "### why SSP126 almost same as SSP434?  SSP245 very close to SSP460?\n",
    "### N2O has very small diff. among SSPx, while CH4 has most significant diff. among SSPx"
   ]
  },
  {
   "cell_type": "code",
   "execution_count": null,
   "id": "4b8bdc26",
   "metadata": {},
   "outputs": [],
   "source": [
    "fdt = pd.DataFrame({\"SSP119\": agwp_co2_allssp_2040[0], \n",
    "                    \"ssp126\": agwp_co2_allssp_2040[1],\n",
    "                    \"ssp245\": agwp_co2_allssp_2040[2],\n",
    "                    #\"ssp370\": agwp_co2_allssp_2040[3],\n",
    "                    #\"ssp434\": agwp_co2_allssp_2040[4],\n",
    "                    #\"ssp460\": agwp_co2_allssp_2040[5],\n",
    "                    \"ssp585\": agwp_co2_allssp_2040[3]\n",
    "                   })\n",
    "\n",
    "fdt.plot(figsize=(12, 8),title = \"CO2, AGWP, 2040\")"
   ]
  },
  {
   "cell_type": "code",
   "execution_count": null,
   "id": "d7628b05",
   "metadata": {},
   "outputs": [],
   "source": [
    "fdt1 = pd.DataFrame({\"SSP119\": agwp_ch4_allssp_2040[0], \n",
    "                    \"ssp126\": agwp_ch4_allssp_2040[1],\n",
    "                    \"ssp245\": agwp_ch4_allssp_2040[2],\n",
    "                    #\"ssp370\": agwp_ch4_allssp_2040[3],\n",
    "                    #\"ssp434\": agwp_ch4_allssp_2040[4],\n",
    "                    #\"ssp460\": agwp_ch4_allssp_2040[5],\n",
    "                    \"ssp585\": agwp_ch4_allssp_2040[3]\n",
    "                   })\n",
    "\n",
    "fdt1.plot(figsize=(12, 8), title = \"CH4, AGWP, 2040\")"
   ]
  },
  {
   "cell_type": "code",
   "execution_count": null,
   "id": "1b81ae15",
   "metadata": {},
   "outputs": [],
   "source": [
    "fdt2 = pd.DataFrame({\"SSP119\": agwp_n2o_allssp_2040[0], \n",
    "                    \"ssp126\": agwp_n2o_allssp_2040[1],\n",
    "                    \"ssp245\": agwp_n2o_allssp_2040[2],\n",
    "                    #\"ssp370\": agwp_n2o_allssp_2040[3],\n",
    "                    #\"ssp434\": agwp_n2o_allssp_2040[4],\n",
    "                    #\"ssp460\": agwp_n2o_allssp_2040[5],\n",
    "                    \"ssp585\": agwp_n2o_allssp_2040[3]\n",
    "                   })\n",
    "\n",
    "fdt2.plot(figsize=(12, 8))"
   ]
  },
  {
   "cell_type": "code",
   "execution_count": null,
   "id": "2cddc804",
   "metadata": {},
   "outputs": [],
   "source": []
  },
  {
   "cell_type": "code",
   "execution_count": null,
   "id": "a2d8e0d9",
   "metadata": {},
   "outputs": [],
   "source": [
    "fig = px.line(fdt, x =  np.arange(201), y=fdt.columns[0:], title='AGWP_CO2_2040')\n",
    "fig.show()"
   ]
  },
  {
   "cell_type": "code",
   "execution_count": null,
   "id": "b84f144f",
   "metadata": {},
   "outputs": [],
   "source": [
    "fig = px.line(fdt1, x =  np.arange(201), y=fdt1.columns[0:], title='AGWP_CH4_2040')\n",
    "fig.show()"
   ]
  },
  {
   "cell_type": "markdown",
   "id": "90907e42",
   "metadata": {},
   "source": [
    "### AGWP for majorghg among different SSP for year 2020"
   ]
  },
  {
   "cell_type": "code",
   "execution_count": null,
   "id": "828ccb8e",
   "metadata": {},
   "outputs": [],
   "source": [
    "ssp = [\"ssp119\", \"ssp126\", \"ssp245\", \"ssp370\", \"ssp434\", \"ssp460\", \"ssp585\"]\n",
    "agwp_co2_allssp_2020, agwp_ch4_allssp_2020, agwp_n2o_allssp_2020 = [], [], []\n",
    "\n",
    "for x in ssp: \n",
    "    \n",
    "    f36 = majorghg_get_f(f = f, H_max=200, ts_per_year = 1, year_index = 270 , scn = x)  # 270 for year 2020, ... 290 for year 2040\n",
    "    n36 = majorghg_analysis(f = f, H_max=200, fair_start_y = y_start, ts_per_year = 1, year_index = 270 , scn = x)     \n",
    "    \n",
    "    rf36, agwp36, agtp36, iagtp36  = n36.co2_analytical2023(co2_erf_diff_t = f36.get_co2_1ppm_erf() )\n",
    "    \n",
    "    nch4 = n36.ch4_analytical2023(alpha_ch4 = f36.call_f_from_fair_gas()[1][\"CH4_lifetime\"], #index[0,1,2] -> CO2/CH4/N2O\n",
    "                                  ch4_erf_diff_t = f36.get_ch4_1ppb_erf())\n",
    "    nn2o = n36.n2o_analytical2023(alpha_n2o = f36.call_f_from_fair_gas()[2][\"N2O_lifetime\"],  \n",
    "                                  ch4_erf_diff_t = f36.get_ch4_1ppb_erf(),\n",
    "                                  n2o_erf_diff_t  = f36.get_n2o_1ppb_erf() )\n",
    "\n",
    "    \n",
    "    agwp_s = np.median(agwp36, axis = 1)\n",
    "    agwp_co2_allssp_2020.append(agwp_s)\n",
    "    \n",
    "    agwp_s1 = np.median(nch4[1], axis = 1)\n",
    "    agwp_ch4_allssp_2020.append(agwp_s1)\n",
    "    \n",
    "    agwp_s2 = np.median(nn2o[1], axis = 1)\n",
    "    agwp_n2o_allssp_2020.append(agwp_s2)"
   ]
  },
  {
   "cell_type": "code",
   "execution_count": null,
   "id": "6f458984",
   "metadata": {},
   "outputs": [],
   "source": [
    "fdt1_2020 = pd.DataFrame({\"SSP119\": agwp_ch4_allssp_2020[0], \n",
    "                    \"ssp126\": agwp_ch4_allssp_2020[1],\n",
    "                    \"ssp245\": agwp_ch4_allssp_2020[2],\n",
    "                    \"ssp370\": agwp_ch4_allssp_2020[3],\n",
    "                    \"ssp434\": agwp_ch4_allssp_2020[4],\n",
    "                    \"ssp460\": agwp_ch4_allssp_2020[5],\n",
    "                    \"ssp585\": agwp_ch4_allssp_2020[6]\n",
    "                   })\n",
    "\n",
    "fdt1_2020.plot(figsize=(12, 8), title = \"CH4, AGWP, 2020\")"
   ]
  },
  {
   "cell_type": "code",
   "execution_count": null,
   "id": "89f90f23",
   "metadata": {},
   "outputs": [],
   "source": [
    "fig = px.line(fdt1_2020, x =  np.arange(201), y=fdt1_2020.columns[0:], title='AGWP_CH4_2020')\n",
    "fig.show()"
   ]
  },
  {
   "cell_type": "code",
   "execution_count": null,
   "id": "60dac323",
   "metadata": {},
   "outputs": [],
   "source": []
  },
  {
   "attachments": {
    "image.png": {
     "image/png": "[encoded data removed]"
    }
   },
   "cell_type": "markdown",
   "id": "28bba105",
   "metadata": {},
   "source": [
    "# plot gas_erf_diff[t] from ModA -> used as input re for ModB_analytical() function\n",
    "\n",
    "![image.png](attachment:image.png)"
   ]
  },
  {
   "cell_type": "code",
   "execution_count": null,
   "id": "267a8e59",
   "metadata": {},
   "outputs": [],
   "source": [
    "def get_gas_single_RE_year_ssp(col_ssp, whichgas): \n",
    "    \n",
    "    \"\"\"\n",
    "        gas_re_ssp1001: from get_co2_1ppm_erf() / get_ch4_1ppb_erf() with shape (551 (fair1750-2300), 1001)\n",
    "    \"\"\"\n",
    "    gas_re_ssp1001 = []\n",
    "    y_start = 2000 \n",
    "    fair_end_y = 2500\n",
    "    \n",
    "    # year_index doesn't matter when extracting gas_ppm_diff, it's the output from fair \n",
    "    # in ModuleB calc metrics, re = gas_ppm_diff[t], here you get re for year_t (starting year)    \n",
    "    \n",
    "    for x in col_ssp: \n",
    "        f36 = majorghg_get_f(f = f, H_max=200, ts_per_year = 1, scn = x)  \n",
    "        if whichgas == \"CO2\": \n",
    "            gas_re = f36.get_co2_1ppm_erf() \n",
    "            tt = whichgas+'_RE:W/m2/ppm'\n",
    "        elif whichgas == \"CH4\": \n",
    "            gas_re = f36.get_ch4_1ppb_erf()\n",
    "            tt = whichgas+'_RE:W/m2/ppb'\n",
    "        elif whichgas == \"N2O\": \n",
    "            gas_re =  f36.get_n2o_1ppb_erf() \n",
    "            tt = whichgas+'_RE:W/m2/ppb'\n",
    "        \n",
    "        gas_re_ssp1001.append(gas_re)\n",
    "            \n",
    "    # from above fair 1001 ensmb, get single RE value for each year \n",
    "    gas_re_ssp_single = [] \n",
    "    for i in range(len(gas_re_ssp1001)):\n",
    "        single_re = []\n",
    "        for x in gas_re_ssp1001[i]:\n",
    "            x_md = np.median(x)\n",
    "            single_re.append(x_md)\n",
    "        gas_re_ssp_single.append(single_re)\n",
    "        \n",
    "    \n",
    "    gas_re_df = pd.DataFrame(zip(*gas_re_ssp_single), columns = col_ssp)\n",
    "    \n",
    "    \n",
    "    \n",
    "    \n",
    "    \n",
    "    fig = plt.figure(figsize=(10, 6))\n",
    "    for column in gas_re_df.columns:\n",
    "        plt.plot(gas_re_df.index+y_start, gas_re_df[column], label=column)\n",
    "    plt.xlabel('Year')\n",
    "    plt.ylabel('RE per unit gas')\n",
    "    plt.title( tt)\n",
    "    plt.legend()\n",
    "    plt.grid(True)\n",
    "    plt.show()\n",
    "    \n",
    "    \n",
    "    fig2 = px.line(gas_re_df, x = np.arange(y_start, fair_end_y+1), y=gas_re_df.columns[0:], title = tt)\n",
    "    fig2.update_yaxes(exponentformat=\"e\")  #https://plotly.com/python/reference/layout/yaxis/#layout-yaxis-autotypenumbers\n",
    "    fig2.update_layout(\n",
    "        yaxis_title=\"RE per unit gas\",\n",
    "        legend_title=whichgas\n",
    "    )\n",
    "    #fig.show()\n",
    "    \n",
    "    \n",
    "    return fig, fig2, gas_re_df"
   ]
  },
  {
   "cell_type": "code",
   "execution_count": null,
   "id": "d79e12bf",
   "metadata": {},
   "outputs": [],
   "source": [
    "figco2, figco2_html, reco2 = get_gas_single_RE_year_ssp([\"ssp119\", \"ssp245\", \"ssp585\"], \"CO2\")"
   ]
  },
  {
   "cell_type": "code",
   "execution_count": null,
   "id": "e91609c9",
   "metadata": {},
   "outputs": [],
   "source": [
    "figch4, figch4_html,  rech4 = get_gas_single_RE_year_ssp( [\"ssp119\", \"ssp245\", \"ssp585\"], \"CH4\")"
   ]
  },
  {
   "cell_type": "code",
   "execution_count": null,
   "id": "58ee4e68",
   "metadata": {},
   "outputs": [],
   "source": [
    "fign2o, fign2o_html,  ren2o = get_gas_single_RE_year_ssp( [\"ssp119\", \"ssp245\", \"ssp585\"], \"N2O\")"
   ]
  },
  {
   "cell_type": "code",
   "execution_count": null,
   "id": "06ec9298",
   "metadata": {},
   "outputs": [],
   "source": []
  },
  {
   "cell_type": "markdown",
   "id": "eed66261",
   "metadata": {},
   "source": [
    "#### to get / save HTML "
   ]
  },
  {
   "cell_type": "code",
   "execution_count": null,
   "id": "f73a2c13",
   "metadata": {},
   "outputs": [],
   "source": [
    "from plotly.offline import plot\n",
    "\n",
    "\n",
    "# Save the figure as an HTML file\n",
    "plot(figch4_html, filename='CH4_RE_SSPx_StartY2000.html') \n",
    "plot(figco2_html, filename='CO2_RE_SSPx_StartY2000.html') \n",
    "plot(fign2o_html, filename='CO2_RE_SSPx_StartY2000.html') \n"
   ]
  },
  {
   "cell_type": "code",
   "execution_count": null,
   "id": "6defafef",
   "metadata": {},
   "outputs": [],
   "source": []
  }
 ],
 "metadata": {
  "kernelspec": {
   "display_name": "Python 3 (ipykernel)",
   "language": "python",
   "name": "python3"
  },
  "language_info": {
   "codemirror_mode": {
    "name": "ipython",
    "version": 3
   },
   "file_extension": ".py",
   "mimetype": "text/x-python",
   "name": "python",
   "nbconvert_exporter": "python",
   "pygments_lexer": "ipython3",
   "version": "3.9.18"
  }
 },
 "nbformat": 4,
 "nbformat_minor": 5
}
