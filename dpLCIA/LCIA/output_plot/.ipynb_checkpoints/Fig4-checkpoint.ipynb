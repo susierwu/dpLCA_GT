{
 "cells": [
  {
   "cell_type": "code",
   "execution_count": 1,
   "id": "29eacb18-ff45-49a2-93ad-7c86b0165662",
   "metadata": {},
   "outputs": [],
   "source": [
    "from PIL import Image\n",
    "import os"
   ]
  },
  {
   "cell_type": "markdown",
   "id": "a7615a8b-7a0c-4f70-89d1-d67cd51901f4",
   "metadata": {},
   "source": [
    "### Figure 4b bottom panel "
   ]
  },
  {
   "cell_type": "code",
   "execution_count": 2,
   "id": "5ff1f517-ab8d-4841-88bc-13d6864ea955",
   "metadata": {},
   "outputs": [],
   "source": [
    "plot_files2 = ['GWP1-100_CH4.jpg', 'GWP1-100_N2O.jpg' ]\n",
    "num_rows = 2\n",
    "num_cols = 1\n",
    "\n",
    "# Open each image using Pillow and collect dimensions\n",
    "images = [Image.open(filename) for filename in plot_files2]\n",
    "image_width, image_height = images[0].size\n",
    "\n",
    "combined_width = num_cols * image_width\n",
    "combined_height = num_rows * image_height\n",
    "combined_image = Image.new('RGB', (combined_width, combined_height))\n",
    "\n",
    "# Paste each image into the combined image\n",
    "for index, img in enumerate(images):\n",
    "    row = index // num_cols\n",
    "    col = index % num_cols\n",
    "    x_offset = col * image_width\n",
    "    y_offset = row * image_height\n",
    "    combined_image.paste(img, (x_offset, y_offset))\n",
    "\n",
    "combined_image.save('Fig4b.jpg')\n",
    "combined_image.show()"
   ]
  },
  {
   "cell_type": "markdown",
   "id": "20412015-8551-4e7c-a4c2-65c2882ef55c",
   "metadata": {},
   "source": [
    "### Fig4, top panel GWP20-100_N2O_CH4.jpg  "
   ]
  },
  {
   "cell_type": "code",
   "execution_count": 3,
   "id": "20d3f2ce-0d0c-440c-94e4-f3a15ffa8239",
   "metadata": {},
   "outputs": [],
   "source": [
    "plot_files3 = ['GWP20-100_N2O_CH4.jpg', 'Fig4b.jpg' ]\n",
    "num_rows = 3\n",
    "num_cols = 1\n",
    "\n",
    "margin = 63 # Adjust the margin size as needed\n",
    "\n",
    "# Open each image using Pillow and collect dimensions\n",
    "images = [Image.open(filename) for filename in plot_files3]\n",
    "image_width, image_height = images[0].size\n",
    "\n",
    "combined_width =  num_cols * image_width\n",
    "#combined_height = num_rows * image_height\n",
    "combined_height = num_rows * image_height + (num_rows - 1) * margin\n",
    "combined_image = Image.new('RGB', (combined_width, combined_height), (255, 255, 255))\n",
    "\n",
    "# Paste each image into the combined image\n",
    "for index, img in enumerate(images):\n",
    "    row = index // num_cols\n",
    "    col = index % num_cols\n",
    "    x_offset = col * image_width  \n",
    "    y_offset = row * (image_height + margin)\n",
    "    combined_image.paste(img, (x_offset, y_offset))\n",
    "\n",
    "combined_image.save('Fig4.jpg')\n",
    "combined_image.show()"
   ]
  },
  {
   "cell_type": "code",
   "execution_count": 4,
   "id": "631f06e7-2f2e-4c73-8dd1-70db6555b0ad",
   "metadata": {},
   "outputs": [
    {
     "name": "stdout",
     "output_type": "stream",
     "text": [
      "(3000, 3276)\n"
     ]
    }
   ],
   "source": [
    "print(combined_image.size)"
   ]
  },
  {
   "cell_type": "code",
   "execution_count": null,
   "id": "4200bf8d-2a33-4071-a684-f78df9ed96f3",
   "metadata": {},
   "outputs": [],
   "source": []
  }
 ],
 "metadata": {
  "kernelspec": {
   "display_name": "Python 3 (ipykernel)",
   "language": "python",
   "name": "python3"
  },
  "language_info": {
   "codemirror_mode": {
    "name": "ipython",
    "version": 3
   },
   "file_extension": ".py",
   "mimetype": "text/x-python",
   "name": "python",
   "nbconvert_exporter": "python",
   "pygments_lexer": "ipython3",
   "version": "3.9.18"
  }
 },
 "nbformat": 4,
 "nbformat_minor": 5
}
