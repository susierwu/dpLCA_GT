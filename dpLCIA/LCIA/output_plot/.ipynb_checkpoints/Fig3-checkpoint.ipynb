{
 "cells": [
  {
   "cell_type": "code",
   "execution_count": 1,
   "id": "29eacb18-ff45-49a2-93ad-7c86b0165662",
   "metadata": {},
   "outputs": [],
   "source": [
    "from PIL import Image\n",
    "import os"
   ]
  },
  {
   "cell_type": "code",
   "execution_count": 2,
   "id": "f959be46-0d50-4f23-b47c-d27b00b19a78",
   "metadata": {},
   "outputs": [],
   "source": [
    "plot_files = ['IRF_CO2.jpg', 'AGWP_CO2.jpg',  'IRF_CH4.jpg',  'AGWP_CH4.jpg',  'IRF_N2O.jpg',  'AGWP_N2O.jpg']"
   ]
  },
  {
   "cell_type": "code",
   "execution_count": 3,
   "id": "5052f07f-5a37-498f-ba04-4826bcce6c3c",
   "metadata": {},
   "outputs": [],
   "source": [
    "\n",
    "# Determine number of rows and columns\n",
    "num_rows = 3\n",
    "num_cols = 2\n",
    "\n",
    "# Open each image using Pillow and collect dimensions\n",
    "images = [Image.open(filename) for filename in plot_files]\n",
    "image_width, image_height = images[0].size\n",
    "\n",
    "# Create a new blank image for the combined plot\n",
    "combined_width = num_cols * image_width\n",
    "combined_height = num_rows * image_height\n",
    "combined_image = Image.new('RGB', (combined_width, combined_height))\n",
    "\n",
    "# Paste each image into the combined image\n",
    "for index, img in enumerate(images):\n",
    "    row = index // num_cols\n",
    "    col = index % num_cols\n",
    "    x_offset = col * image_width\n",
    "    y_offset = row * image_height\n",
    "    combined_image.paste(img, (x_offset, y_offset))\n",
    "\n",
    "combined_image.save('Fig3_IRF_CRF.jpg')\n",
    "combined_image.show()\n"
   ]
  },
  {
   "cell_type": "code",
   "execution_count": 4,
   "id": "20d3f2ce-0d0c-440c-94e4-f3a15ffa8239",
   "metadata": {},
   "outputs": [
    {
     "name": "stdout",
     "output_type": "stream",
     "text": [
      "(5400, 2700)\n"
     ]
    }
   ],
   "source": [
    "print(combined_image.size)"
   ]
  },
  {
   "cell_type": "code",
   "execution_count": null,
   "id": "7553114e-954c-40ae-be5e-0fd7f1b5264b",
   "metadata": {},
   "outputs": [],
   "source": []
  }
 ],
 "metadata": {
  "kernelspec": {
   "display_name": "Python 3 (ipykernel)",
   "language": "python",
   "name": "python3"
  },
  "language_info": {
   "codemirror_mode": {
    "name": "ipython",
    "version": 3
   },
   "file_extension": ".py",
   "mimetype": "text/x-python",
   "name": "python",
   "nbconvert_exporter": "python",
   "pygments_lexer": "ipython3",
   "version": "3.9.18"
  }
 },
 "nbformat": 4,
 "nbformat_minor": 5
}
